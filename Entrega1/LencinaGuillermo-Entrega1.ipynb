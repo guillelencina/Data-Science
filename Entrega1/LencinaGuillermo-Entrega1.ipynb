{
 "cells": [
  {
   "cell_type": "markdown",
   "metadata": {},
   "source": [
    "# Proyecto: Análisis mercado inmobiliario de la Ciudad de Buenos Aires"
   ]
  },
  {
   "cell_type": "markdown",
   "metadata": {},
   "source": [
    "¡Bienvenidos al primer proyecto de la carrera de Data Science de Acamica! \n",
    "\n",
    "En este proyecto vamos a trabajar con un dataset de propiedades en venta publicadas en el portal [Properati](www.properati.com.ar). El objetivo es dar los primeros pasos en el proceso de exploración de datos usando las herramientas que trabajamos en las activades.\n",
    "\n",
    "Vamos a enfocarnos en analizar algunos aspectos del mercado inmobiliario de la Ciudad de Buenos Aires pero para eso primero debemos limpiar un poco el dataset."
   ]
  },
  {
   "cell_type": "markdown",
   "metadata": {},
   "source": [
    "## El dataset: propiedades en venta en Ciudad de Buenos Aires."
   ]
  },
  {
   "cell_type": "markdown",
   "metadata": {},
   "source": [
    "En este proyecto, trabajaremos con una muestra del conjunto de datos de propiedades en venta mencionado. En este dataset, cada fila es una propiedad en venta. \n",
    "\n",
    "## Los atributos\n",
    "A continuación vamos a describir los atributos que consideramos en esta muestra:\n",
    "\n",
    "* **id**: id de la propiedad\n",
    "* **created_on**: fecha en la que la propiedad ingresó al sitio\n",
    "* **operation**: alquiler (rent) o venta (sell)\n",
    "* **property_type**: tipo de propiedad (casa, departamento, ph, etcétera)\n",
    "* **place_with_parent_names**: nombre del lugar donde se encuentra la propiedad según el publicador\n",
    "* **lat-lon**: coordenadas concatenadas\n",
    "* **lat**: latitud\n",
    "* **lon**: longitud\n",
    "* **price**: precio en la moneda especificada en currency\n",
    "* **currency**: divisa en la que está expresada la publicación\n",
    "* **price_aprox_usd**: precio aproximado en dólares estadounidenses\n",
    "* **surface_total_in_m2**: superficie total (en metros cuadrados)\n",
    "* **surface_covered_in_m2**: superficie cubierta (en metros cuadrados)\n",
    "* **price_usd_per_m2**: precio por metro cuadrado en dólares (precio dólares / superficie)\n",
    "* **floor**: número de piso (si corresponde)\n",
    "* **rooms**: cantidad de ambientes\n",
    "* **expenses**: expensas (si corresponde)\n",
    "* **barrio**: barrio según cartografía oficial\n",
    "* **properati_url**: url de la publicación en Properati\n"
   ]
  },
  {
   "cell_type": "markdown",
   "metadata": {},
   "source": [
    "<font color = \"green\">\n",
    "Versiones de Data Frame a lo largo del Notebook. Se consensuó trabajar en cada ítem con el último df modificado  \n",
    "\n",
    "DF original  \n",
    "a partir de 4 ) df_filtered filtado por tipo de propiedad apartment, house y PH  \n",
    "a partir de 6 ) df_filtered filtado por datos no nulos en los campos superficie (total o cubierta), cantidad de ambientes, precio y precio por metro cuadrado  \n",
    "a partir de 9 ) df_filtered modificado para que siempre superficie total >= superficie cubierta  \n",
    "a partir de 9 ) df_filtered filtrado para corrdenadas que se repiten menos de 5 veces  \n",
    "a partir de 11 ) df_filtered filtrado para valor price_usd_per_m2 dentro del rango percentil [p10,p90]  \n",
    "a partir de 12 ) df_filtered filtrado para datos existentes del barrio publicado  \n",
    "</font>"
   ]
  },
  {
   "cell_type": "markdown",
   "metadata": {},
   "source": [
    "## Importando las bibliotecas necesarias\n",
    "\n",
    "Para poder trabajar en la limpieza de datos y la visualización de nuestro dataset vamos a utilizar las bibliotecas numpy, pandas, matplotlib.pylab y seaborn. \n",
    "\n",
    "** 1) Importá ** cada una de ellas con los siguientes nombres: \n",
    "- **numpy** como **np**\n",
    "- **pandas** como **pd**\n",
    "- **matplotlib.pylab** como **plt**\n",
    "- **seaborn** como **sns**\n"
   ]
  },
  {
   "cell_type": "code",
   "execution_count": 1,
   "metadata": {},
   "outputs": [],
   "source": [
    "import numpy as np\n",
    "import pandas as pd\n",
    "import matplotlib.pylab as plt\n",
    "import seaborn as sns"
   ]
  },
  {
   "cell_type": "code",
   "execution_count": 2,
   "metadata": {},
   "outputs": [],
   "source": [
    "# La siguiente línea es para ver las imagenes dentro del notebook\n",
    "%matplotlib inline\n",
    "# Acá configuramos el tamaño de las figuras\n",
    "plt.rcParams['figure.figsize'] = (12,8)\n",
    "# Seteamos opciones de pandas sobre las columnas y su ancho\n",
    "pd.set_option('max_columns', 120)\n",
    "pd.set_option('max_colwidth', 5000)\n"
   ]
  },
  {
   "cell_type": "markdown",
   "metadata": {},
   "source": [
    "## Cargando dataset de propiedades\n",
    "\n",
    "**2) Cargá** el dataset que se encuentra en la carpeta *dataset/* y guardalo en una variable llamada **df**. \n",
    "No te olvides de utilizar **parse_dates** sobre la columna **created_on**\n"
   ]
  },
  {
   "cell_type": "code",
   "execution_count": 3,
   "metadata": {},
   "outputs": [
    {
     "data": {
      "text/html": [
       "<div>\n",
       "<style scoped>\n",
       "    .dataframe tbody tr th:only-of-type {\n",
       "        vertical-align: middle;\n",
       "    }\n",
       "\n",
       "    .dataframe tbody tr th {\n",
       "        vertical-align: top;\n",
       "    }\n",
       "\n",
       "    .dataframe thead th {\n",
       "        text-align: right;\n",
       "    }\n",
       "</style>\n",
       "<table border=\"1\" class=\"dataframe\">\n",
       "  <thead>\n",
       "    <tr style=\"text-align: right;\">\n",
       "      <th></th>\n",
       "      <th>created_on</th>\n",
       "      <th>operation</th>\n",
       "      <th>property_type</th>\n",
       "      <th>place_with_parent_names</th>\n",
       "      <th>lat-lon</th>\n",
       "      <th>lat</th>\n",
       "      <th>lon</th>\n",
       "      <th>price_aprox_usd</th>\n",
       "      <th>surface_total_in_m2</th>\n",
       "      <th>surface_covered_in_m2</th>\n",
       "      <th>price_usd_per_m2</th>\n",
       "      <th>floor</th>\n",
       "      <th>rooms</th>\n",
       "      <th>expenses</th>\n",
       "      <th>properati_url</th>\n",
       "      <th>barrio</th>\n",
       "      <th>comuna</th>\n",
       "    </tr>\n",
       "  </thead>\n",
       "  <tbody>\n",
       "    <tr>\n",
       "      <td>0</td>\n",
       "      <td>2017-09-22</td>\n",
       "      <td>sell</td>\n",
       "      <td>house</td>\n",
       "      <td>|Argentina|Capital Federal|Palermo|Palermo Viejo|</td>\n",
       "      <td>-34.5889531469,-58.4298817776</td>\n",
       "      <td>-34.588953</td>\n",
       "      <td>-58.429882</td>\n",
       "      <td>2000000.0</td>\n",
       "      <td>312.0</td>\n",
       "      <td>NaN</td>\n",
       "      <td>6410.256410</td>\n",
       "      <td>NaN</td>\n",
       "      <td>NaN</td>\n",
       "      <td>NaN</td>\n",
       "      <td>https://www.properati.com.ar/2os_venta_casa_palermo-viejo_rent-ba</td>\n",
       "      <td>PALERMO</td>\n",
       "      <td>14.0</td>\n",
       "    </tr>\n",
       "    <tr>\n",
       "      <td>1</td>\n",
       "      <td>2017-08-01</td>\n",
       "      <td>sell</td>\n",
       "      <td>store</td>\n",
       "      <td>|Argentina|Capital Federal|Palermo|</td>\n",
       "      <td>-34.586069,-58.414431</td>\n",
       "      <td>-34.586069</td>\n",
       "      <td>-58.414431</td>\n",
       "      <td>790000.0</td>\n",
       "      <td>121.0</td>\n",
       "      <td>121.0</td>\n",
       "      <td>6528.925620</td>\n",
       "      <td>NaN</td>\n",
       "      <td>NaN</td>\n",
       "      <td>NaN</td>\n",
       "      <td>https://www.properati.com.ar/1cl7l_venta_local_palermo_santa-fe-av-al-3500_sotano_garage_subte-linea-d_deptos-temporarios</td>\n",
       "      <td>PALERMO</td>\n",
       "      <td>14.0</td>\n",
       "    </tr>\n",
       "    <tr>\n",
       "      <td>2</td>\n",
       "      <td>2017-08-02</td>\n",
       "      <td>sell</td>\n",
       "      <td>store</td>\n",
       "      <td>|Argentina|Capital Federal|Palermo|Palermo Soho|</td>\n",
       "      <td>-34.589723,-58.4325664</td>\n",
       "      <td>-34.589723</td>\n",
       "      <td>-58.432566</td>\n",
       "      <td>343000.0</td>\n",
       "      <td>122.0</td>\n",
       "      <td>108.0</td>\n",
       "      <td>2811.475410</td>\n",
       "      <td>NaN</td>\n",
       "      <td>2.0</td>\n",
       "      <td>NaN</td>\n",
       "      <td>https://www.properati.com.ar/1cm8w_venta_local_palermo-soho_cabrera-jose-a-_5000_jardin_lavadero_patio_piscina_toilette_garage_ojo-propiedades</td>\n",
       "      <td>PALERMO</td>\n",
       "      <td>14.0</td>\n",
       "    </tr>\n",
       "    <tr>\n",
       "      <td>3</td>\n",
       "      <td>2017-08-03</td>\n",
       "      <td>sell</td>\n",
       "      <td>store</td>\n",
       "      <td>|Argentina|Capital Federal|Palermo|</td>\n",
       "      <td>-34.5923646,-58.4144028</td>\n",
       "      <td>-34.592365</td>\n",
       "      <td>-58.414403</td>\n",
       "      <td>145000.0</td>\n",
       "      <td>24.0</td>\n",
       "      <td>24.0</td>\n",
       "      <td>6041.666667</td>\n",
       "      <td>NaN</td>\n",
       "      <td>NaN</td>\n",
       "      <td>NaN</td>\n",
       "      <td>https://www.properati.com.ar/1covk_venta_local_palermo_paraguay-al-3500_subte-linea-d_brick-propiedades-local-alto-palermo</td>\n",
       "      <td>PALERMO</td>\n",
       "      <td>14.0</td>\n",
       "    </tr>\n",
       "    <tr>\n",
       "      <td>4</td>\n",
       "      <td>2017-08-08</td>\n",
       "      <td>sell</td>\n",
       "      <td>store</td>\n",
       "      <td>|Argentina|Capital Federal|Barrio Norte|</td>\n",
       "      <td>-34.585652875,-58.4114933233</td>\n",
       "      <td>-34.585653</td>\n",
       "      <td>-58.411493</td>\n",
       "      <td>175000.0</td>\n",
       "      <td>24.0</td>\n",
       "      <td>24.0</td>\n",
       "      <td>7291.666667</td>\n",
       "      <td>NaN</td>\n",
       "      <td>NaN</td>\n",
       "      <td>NaN</td>\n",
       "      <td>https://www.properati.com.ar/1csk7_venta_local_barrio-norte_subte-linea-d_aranalfe_e1j</td>\n",
       "      <td>PALERMO</td>\n",
       "      <td>14.0</td>\n",
       "    </tr>\n",
       "  </tbody>\n",
       "</table>\n",
       "</div>"
      ],
      "text/plain": [
       "  created_on operation property_type  \\\n",
       "0 2017-09-22      sell         house   \n",
       "1 2017-08-01      sell         store   \n",
       "2 2017-08-02      sell         store   \n",
       "3 2017-08-03      sell         store   \n",
       "4 2017-08-08      sell         store   \n",
       "\n",
       "                             place_with_parent_names  \\\n",
       "0  |Argentina|Capital Federal|Palermo|Palermo Viejo|   \n",
       "1                |Argentina|Capital Federal|Palermo|   \n",
       "2   |Argentina|Capital Federal|Palermo|Palermo Soho|   \n",
       "3                |Argentina|Capital Federal|Palermo|   \n",
       "4           |Argentina|Capital Federal|Barrio Norte|   \n",
       "\n",
       "                         lat-lon        lat        lon  price_aprox_usd  \\\n",
       "0  -34.5889531469,-58.4298817776 -34.588953 -58.429882        2000000.0   \n",
       "1          -34.586069,-58.414431 -34.586069 -58.414431         790000.0   \n",
       "2         -34.589723,-58.4325664 -34.589723 -58.432566         343000.0   \n",
       "3        -34.5923646,-58.4144028 -34.592365 -58.414403         145000.0   \n",
       "4   -34.585652875,-58.4114933233 -34.585653 -58.411493         175000.0   \n",
       "\n",
       "   surface_total_in_m2  surface_covered_in_m2  price_usd_per_m2  floor  rooms  \\\n",
       "0                312.0                    NaN       6410.256410    NaN    NaN   \n",
       "1                121.0                  121.0       6528.925620    NaN    NaN   \n",
       "2                122.0                  108.0       2811.475410    NaN    2.0   \n",
       "3                 24.0                   24.0       6041.666667    NaN    NaN   \n",
       "4                 24.0                   24.0       7291.666667    NaN    NaN   \n",
       "\n",
       "   expenses  \\\n",
       "0       NaN   \n",
       "1       NaN   \n",
       "2       NaN   \n",
       "3       NaN   \n",
       "4       NaN   \n",
       "\n",
       "                                                                                                                                    properati_url  \\\n",
       "0                                                                               https://www.properati.com.ar/2os_venta_casa_palermo-viejo_rent-ba   \n",
       "1                       https://www.properati.com.ar/1cl7l_venta_local_palermo_santa-fe-av-al-3500_sotano_garage_subte-linea-d_deptos-temporarios   \n",
       "2  https://www.properati.com.ar/1cm8w_venta_local_palermo-soho_cabrera-jose-a-_5000_jardin_lavadero_patio_piscina_toilette_garage_ojo-propiedades   \n",
       "3                      https://www.properati.com.ar/1covk_venta_local_palermo_paraguay-al-3500_subte-linea-d_brick-propiedades-local-alto-palermo   \n",
       "4                                                          https://www.properati.com.ar/1csk7_venta_local_barrio-norte_subte-linea-d_aranalfe_e1j   \n",
       "\n",
       "    barrio  comuna  \n",
       "0  PALERMO    14.0  \n",
       "1  PALERMO    14.0  \n",
       "2  PALERMO    14.0  \n",
       "3  PALERMO    14.0  \n",
       "4  PALERMO    14.0  "
      ]
     },
     "execution_count": 3,
     "metadata": {},
     "output_type": "execute_result"
    }
   ],
   "source": [
    "df = pd.read_csv('datos_properati.csv', parse_dates =['created_on'])\n",
    "df.head(5)"
   ]
  },
  {
   "cell_type": "markdown",
   "metadata": {},
   "source": [
    "## Exploración de datos"
   ]
  },
  {
   "cell_type": "markdown",
   "metadata": {},
   "source": [
    "Lo primero que vamos a hacer es ver qué forma tiene el dataset que acabamos de cargar. Para eso vamos a mostrar las primeras 3 entradas del mismo y utilizar la propiedad `shape` para ver la cantidad de instancias y atributos con los que vamos a estar trabajando."
   ]
  },
  {
   "cell_type": "code",
   "execution_count": 4,
   "metadata": {},
   "outputs": [
    {
     "data": {
      "text/plain": [
       "(18979, 17)"
      ]
     },
     "execution_count": 4,
     "metadata": {},
     "output_type": "execute_result"
    }
   ],
   "source": [
    "df.shape"
   ]
  },
  {
   "cell_type": "code",
   "execution_count": 5,
   "metadata": {},
   "outputs": [
    {
     "data": {
      "text/plain": [
       "created_on                 datetime64[ns]\n",
       "operation                          object\n",
       "property_type                      object\n",
       "place_with_parent_names            object\n",
       "lat-lon                            object\n",
       "lat                               float64\n",
       "lon                               float64\n",
       "price_aprox_usd                   float64\n",
       "surface_total_in_m2               float64\n",
       "surface_covered_in_m2             float64\n",
       "price_usd_per_m2                  float64\n",
       "floor                             float64\n",
       "rooms                             float64\n",
       "expenses                          float64\n",
       "properati_url                      object\n",
       "barrio                             object\n",
       "comuna                            float64\n",
       "dtype: object"
      ]
     },
     "execution_count": 5,
     "metadata": {},
     "output_type": "execute_result"
    }
   ],
   "source": [
    "# Verificación del tipo de dato created_on y demás columnas\n",
    "df.dtypes"
   ]
  },
  {
   "cell_type": "code",
   "execution_count": 6,
   "metadata": {},
   "outputs": [
    {
     "name": "stdout",
     "output_type": "stream",
     "text": [
      "<class 'pandas.core.frame.DataFrame'>\n",
      "RangeIndex: 18979 entries, 0 to 18978\n",
      "Data columns (total 17 columns):\n",
      "created_on                 18979 non-null datetime64[ns]\n",
      "operation                  18979 non-null object\n",
      "property_type              18979 non-null object\n",
      "place_with_parent_names    18979 non-null object\n",
      "lat-lon                    18979 non-null object\n",
      "lat                        18979 non-null float64\n",
      "lon                        18979 non-null float64\n",
      "price_aprox_usd            17445 non-null float64\n",
      "surface_total_in_m2        16586 non-null float64\n",
      "surface_covered_in_m2      16876 non-null float64\n",
      "price_usd_per_m2           16037 non-null float64\n",
      "floor                      2756 non-null float64\n",
      "rooms                      13517 non-null float64\n",
      "expenses                   3815 non-null float64\n",
      "properati_url              18979 non-null object\n",
      "barrio                     18979 non-null object\n",
      "comuna                     18979 non-null float64\n",
      "dtypes: datetime64[ns](1), float64(10), object(6)\n",
      "memory usage: 2.5+ MB\n"
     ]
    }
   ],
   "source": [
    "df.info() # Observación de datos faltantes por atributo"
   ]
  },
  {
   "cell_type": "markdown",
   "metadata": {},
   "source": [
    "## Categorías de propiedades\n",
    "En primer lugar vamos a ver qué categorías existen en el campo `property_type`. Y de esas categorías cuantos valores tenemos de cada uno.\n",
    "\n",
    "**3) Mostrá** las categorías de `property_type` y cuántas instancias hay de cada una.\n",
    "\n",
    "Recordá utilizar funciones del **dataframe** de pandas para realizar esto."
   ]
  },
  {
   "cell_type": "code",
   "execution_count": 7,
   "metadata": {},
   "outputs": [
    {
     "data": {
      "text/plain": [
       "array(['house', 'store', 'apartment', 'PH'], dtype=object)"
      ]
     },
     "execution_count": 7,
     "metadata": {},
     "output_type": "execute_result"
    }
   ],
   "source": [
    "# mostrá las categorías del campo property_type y mostrá la cant. de valores en esta celda\n",
    "df.property_type.unique()"
   ]
  },
  {
   "cell_type": "code",
   "execution_count": 8,
   "metadata": {},
   "outputs": [
    {
     "data": {
      "text/plain": [
       "apartment    14807\n",
       "house         1618\n",
       "PH            1463\n",
       "store         1091\n",
       "Name: property_type, dtype: int64"
      ]
     },
     "execution_count": 8,
     "metadata": {},
     "output_type": "execute_result"
    }
   ],
   "source": [
    "df.property_type.value_counts()"
   ]
  },
  {
   "cell_type": "markdown",
   "metadata": {},
   "source": [
    "El atributo property_type lo tienen todas las instancias"
   ]
  },
  {
   "cell_type": "markdown",
   "metadata": {},
   "source": [
    "### Filtrando las categorías\n",
    "\n",
    "De las categorías existentes sólo queremos quedarnos con las que sean casas (house), departamentos (apartment) o PH (PH). \n",
    "\n",
    "Para esto, \n",
    "\n",
    "**4) filtrá** el `dataframe` original creando un **nuevo** `dataframe` llamado `df_filtered`. Este es el `dataframe` que seguirás usando a lo largo del análisis.\n"
   ]
  },
  {
   "cell_type": "code",
   "execution_count": 9,
   "metadata": {},
   "outputs": [
    {
     "data": {
      "text/plain": [
       "array(['house', 'apartment', 'PH'], dtype=object)"
      ]
     },
     "execution_count": 9,
     "metadata": {},
     "output_type": "execute_result"
    }
   ],
   "source": [
    "filtro_property_type = (df['property_type']=='apartment') | (df['property_type']=='house')|(df['property_type']=='PH')\n",
    "df_filtered = df[filtro_property_type] \n",
    "df_filtered.property_type.unique()\n",
    "#df_filtered.head(10)"
   ]
  },
  {
   "cell_type": "code",
   "execution_count": 10,
   "metadata": {},
   "outputs": [
    {
     "name": "stdout",
     "output_type": "stream",
     "text": [
      "<class 'pandas.core.frame.DataFrame'>\n",
      "Int64Index: 17888 entries, 0 to 18978\n",
      "Data columns (total 17 columns):\n",
      "created_on                 17888 non-null datetime64[ns]\n",
      "operation                  17888 non-null object\n",
      "property_type              17888 non-null object\n",
      "place_with_parent_names    17888 non-null object\n",
      "lat-lon                    17888 non-null object\n",
      "lat                        17888 non-null float64\n",
      "lon                        17888 non-null float64\n",
      "price_aprox_usd            16511 non-null float64\n",
      "surface_total_in_m2        15691 non-null float64\n",
      "surface_covered_in_m2      15968 non-null float64\n",
      "price_usd_per_m2           15207 non-null float64\n",
      "floor                      2720 non-null float64\n",
      "rooms                      13407 non-null float64\n",
      "expenses                   3698 non-null float64\n",
      "properati_url              17888 non-null object\n",
      "barrio                     17888 non-null object\n",
      "comuna                     17888 non-null float64\n",
      "dtypes: datetime64[ns](1), float64(10), object(6)\n",
      "memory usage: 2.5+ MB\n"
     ]
    }
   ],
   "source": [
    "df_filtered.info()"
   ]
  },
  {
   "cell_type": "markdown",
   "metadata": {},
   "source": [
    "### Visualizando las categorías\n",
    "**5)** Utilizando `seaborn` **creá un countplot** para visualizar las categorías de `df_filtered` en el campo `property_type` "
   ]
  },
  {
   "cell_type": "code",
   "execution_count": 11,
   "metadata": {},
   "outputs": [
    {
     "data": {
      "image/png": "[encoded data removed]",
      "text/plain": [
       "<Figure size 864x576 with 1 Axes>"
      ]
     },
     "metadata": {},
     "output_type": "display_data"
    }
   ],
   "source": [
    "sns.set(style=\"whitegrid\")\n",
    "ax = sns.countplot(x=\"property_type\",linewidth=1, palette=\"Set1\", data=df_filtered)"
   ]
  },
  {
   "cell_type": "markdown",
   "metadata": {},
   "source": [
    "## Valores Faltantes"
   ]
  },
  {
   "cell_type": "markdown",
   "metadata": {},
   "source": [
    "Vamos a querer descartar aquellas instancias que tengan valores nulos en columnas importantes para el análisis del mercado.\n",
    "Estas columnas son las que informan **superficie (total o cubierta)**, **cantidad de ambientes**, **precio** y **precio por metro cuadrado**.\n",
    "\n",
    "**6) Quitá** del `dataframe` las instancias que no tengan ningún valor en los campos nombrados."
   ]
  },
  {
   "cell_type": "markdown",
   "metadata": {},
   "source": [
    "<font color='green'> Nuevo data frame **df_filtered** que filtra sólo las instancias donde no estan vacíos ninguno de los campos superficie (total o cubierta), cantidad de ambientes, precio y precio por metro cuadrado</font>  "
   ]
  },
  {
   "cell_type": "code",
   "execution_count": 12,
   "metadata": {},
   "outputs": [
    {
     "data": {
      "text/html": [
       "<div>\n",
       "<style scoped>\n",
       "    .dataframe tbody tr th:only-of-type {\n",
       "        vertical-align: middle;\n",
       "    }\n",
       "\n",
       "    .dataframe tbody tr th {\n",
       "        vertical-align: top;\n",
       "    }\n",
       "\n",
       "    .dataframe thead th {\n",
       "        text-align: right;\n",
       "    }\n",
       "</style>\n",
       "<table border=\"1\" class=\"dataframe\">\n",
       "  <thead>\n",
       "    <tr style=\"text-align: right;\">\n",
       "      <th></th>\n",
       "      <th>created_on</th>\n",
       "      <th>operation</th>\n",
       "      <th>property_type</th>\n",
       "      <th>place_with_parent_names</th>\n",
       "      <th>lat-lon</th>\n",
       "      <th>lat</th>\n",
       "      <th>lon</th>\n",
       "      <th>price_aprox_usd</th>\n",
       "      <th>surface_total_in_m2</th>\n",
       "      <th>surface_covered_in_m2</th>\n",
       "      <th>price_usd_per_m2</th>\n",
       "      <th>floor</th>\n",
       "      <th>rooms</th>\n",
       "      <th>expenses</th>\n",
       "      <th>properati_url</th>\n",
       "      <th>barrio</th>\n",
       "      <th>comuna</th>\n",
       "    </tr>\n",
       "  </thead>\n",
       "  <tbody>\n",
       "    <tr>\n",
       "      <td>18</td>\n",
       "      <td>2017-08-29</td>\n",
       "      <td>sell</td>\n",
       "      <td>apartment</td>\n",
       "      <td>|Argentina|Capital Federal|Palermo|</td>\n",
       "      <td>-34.588912403,-58.4134942185</td>\n",
       "      <td>-34.588912</td>\n",
       "      <td>-58.413494</td>\n",
       "      <td>340000.0</td>\n",
       "      <td>130.0</td>\n",
       "      <td>120.0</td>\n",
       "      <td>2615.384615</td>\n",
       "      <td>NaN</td>\n",
       "      <td>4.0</td>\n",
       "      <td>8000.0</td>\n",
       "      <td>https://www.properati.com.ar/1dzv6_venta_departamento_palermo_guemes_3600_balcon_suite_jardin_lavadero_luminoso_lujoso_dependencias_placard_doble-circulacion_subte-linea-d_luisio-propiedades-suc-virrey-del-pino-2378</td>\n",
       "      <td>PALERMO</td>\n",
       "      <td>14.0</td>\n",
       "    </tr>\n",
       "    <tr>\n",
       "      <td>19</td>\n",
       "      <td>2017-08-29</td>\n",
       "      <td>sell</td>\n",
       "      <td>apartment</td>\n",
       "      <td>|Argentina|Capital Federal|Palermo|</td>\n",
       "      <td>-34.5770327,-58.4233675</td>\n",
       "      <td>-34.577033</td>\n",
       "      <td>-58.423368</td>\n",
       "      <td>222000.0</td>\n",
       "      <td>52.0</td>\n",
       "      <td>48.0</td>\n",
       "      <td>4269.230769</td>\n",
       "      <td>NaN</td>\n",
       "      <td>1.0</td>\n",
       "      <td>NaN</td>\n",
       "      <td>https://www.properati.com.ar/1e05k_venta_departamento_palermo_juncal-al-4500_gimnasio_jardin_lavadero_parrilla_piscina_sum_aire-acondicionado_subte-linea-h_subte-linea-c_deptos-temporarios</td>\n",
       "      <td>PALERMO</td>\n",
       "      <td>14.0</td>\n",
       "    </tr>\n",
       "    <tr>\n",
       "      <td>22</td>\n",
       "      <td>2017-08-30</td>\n",
       "      <td>sell</td>\n",
       "      <td>house</td>\n",
       "      <td>|Argentina|Capital Federal|Palermo|Palermo Hollywood|</td>\n",
       "      <td>-34.5793535,-58.4364489</td>\n",
       "      <td>-34.579354</td>\n",
       "      <td>-58.436449</td>\n",
       "      <td>1200000.0</td>\n",
       "      <td>532.0</td>\n",
       "      <td>334.0</td>\n",
       "      <td>2255.639098</td>\n",
       "      <td>NaN</td>\n",
       "      <td>6.0</td>\n",
       "      <td>NaN</td>\n",
       "      <td>https://www.properati.com.ar/1e1ve_venta_casa_palermo-hollywood_jardin_lavadero_piscina_luminoso_vista_garage_nexo-propiedades_h0z</td>\n",
       "      <td>PALERMO</td>\n",
       "      <td>14.0</td>\n",
       "    </tr>\n",
       "    <tr>\n",
       "      <td>24</td>\n",
       "      <td>2017-08-30</td>\n",
       "      <td>sell</td>\n",
       "      <td>apartment</td>\n",
       "      <td>|Argentina|Capital Federal|Palermo|Palermo Hollywood|</td>\n",
       "      <td>-34.5809281,-58.4404321</td>\n",
       "      <td>-34.580928</td>\n",
       "      <td>-58.440432</td>\n",
       "      <td>270000.0</td>\n",
       "      <td>67.0</td>\n",
       "      <td>64.0</td>\n",
       "      <td>4029.850746</td>\n",
       "      <td>NaN</td>\n",
       "      <td>3.0</td>\n",
       "      <td>3900.0</td>\n",
       "      <td>https://www.properati.com.ar/1e1x0_venta_departamento_palermo-hollywood_arevalo_1700_balcon_toilette_luminoso_apto-credito-hipotecario_yankel-group</td>\n",
       "      <td>PALERMO</td>\n",
       "      <td>14.0</td>\n",
       "    </tr>\n",
       "    <tr>\n",
       "      <td>29</td>\n",
       "      <td>2017-08-30</td>\n",
       "      <td>sell</td>\n",
       "      <td>apartment</td>\n",
       "      <td>|Argentina|Capital Federal|Palermo|</td>\n",
       "      <td>-34.594251,-58.4166447</td>\n",
       "      <td>-34.594251</td>\n",
       "      <td>-58.416645</td>\n",
       "      <td>250000.0</td>\n",
       "      <td>67.0</td>\n",
       "      <td>60.0</td>\n",
       "      <td>3731.343284</td>\n",
       "      <td>NaN</td>\n",
       "      <td>2.0</td>\n",
       "      <td>NaN</td>\n",
       "      <td>https://www.properati.com.ar/1e2mz_venta_departamento_palermo_balcon_lavadero_parrilla_piscina_aire-acondicionado_apto-credito-hipotecario_ageo-propiedades_dwr</td>\n",
       "      <td>PALERMO</td>\n",
       "      <td>14.0</td>\n",
       "    </tr>\n",
       "  </tbody>\n",
       "</table>\n",
       "</div>"
      ],
      "text/plain": [
       "   created_on operation property_type  \\\n",
       "18 2017-08-29      sell     apartment   \n",
       "19 2017-08-29      sell     apartment   \n",
       "22 2017-08-30      sell         house   \n",
       "24 2017-08-30      sell     apartment   \n",
       "29 2017-08-30      sell     apartment   \n",
       "\n",
       "                                  place_with_parent_names  \\\n",
       "18                    |Argentina|Capital Federal|Palermo|   \n",
       "19                    |Argentina|Capital Federal|Palermo|   \n",
       "22  |Argentina|Capital Federal|Palermo|Palermo Hollywood|   \n",
       "24  |Argentina|Capital Federal|Palermo|Palermo Hollywood|   \n",
       "29                    |Argentina|Capital Federal|Palermo|   \n",
       "\n",
       "                         lat-lon        lat        lon  price_aprox_usd  \\\n",
       "18  -34.588912403,-58.4134942185 -34.588912 -58.413494         340000.0   \n",
       "19       -34.5770327,-58.4233675 -34.577033 -58.423368         222000.0   \n",
       "22       -34.5793535,-58.4364489 -34.579354 -58.436449        1200000.0   \n",
       "24       -34.5809281,-58.4404321 -34.580928 -58.440432         270000.0   \n",
       "29        -34.594251,-58.4166447 -34.594251 -58.416645         250000.0   \n",
       "\n",
       "    surface_total_in_m2  surface_covered_in_m2  price_usd_per_m2  floor  \\\n",
       "18                130.0                  120.0       2615.384615    NaN   \n",
       "19                 52.0                   48.0       4269.230769    NaN   \n",
       "22                532.0                  334.0       2255.639098    NaN   \n",
       "24                 67.0                   64.0       4029.850746    NaN   \n",
       "29                 67.0                   60.0       3731.343284    NaN   \n",
       "\n",
       "    rooms  expenses  \\\n",
       "18    4.0    8000.0   \n",
       "19    1.0       NaN   \n",
       "22    6.0       NaN   \n",
       "24    3.0    3900.0   \n",
       "29    2.0       NaN   \n",
       "\n",
       "                                                                                                                                                                                                              properati_url  \\\n",
       "18  https://www.properati.com.ar/1dzv6_venta_departamento_palermo_guemes_3600_balcon_suite_jardin_lavadero_luminoso_lujoso_dependencias_placard_doble-circulacion_subte-linea-d_luisio-propiedades-suc-virrey-del-pino-2378   \n",
       "19                             https://www.properati.com.ar/1e05k_venta_departamento_palermo_juncal-al-4500_gimnasio_jardin_lavadero_parrilla_piscina_sum_aire-acondicionado_subte-linea-h_subte-linea-c_deptos-temporarios   \n",
       "22                                                                                       https://www.properati.com.ar/1e1ve_venta_casa_palermo-hollywood_jardin_lavadero_piscina_luminoso_vista_garage_nexo-propiedades_h0z   \n",
       "24                                                                      https://www.properati.com.ar/1e1x0_venta_departamento_palermo-hollywood_arevalo_1700_balcon_toilette_luminoso_apto-credito-hipotecario_yankel-group   \n",
       "29                                                          https://www.properati.com.ar/1e2mz_venta_departamento_palermo_balcon_lavadero_parrilla_piscina_aire-acondicionado_apto-credito-hipotecario_ageo-propiedades_dwr   \n",
       "\n",
       "     barrio  comuna  \n",
       "18  PALERMO    14.0  \n",
       "19  PALERMO    14.0  \n",
       "22  PALERMO    14.0  \n",
       "24  PALERMO    14.0  \n",
       "29  PALERMO    14.0  "
      ]
     },
     "execution_count": 12,
     "metadata": {},
     "output_type": "execute_result"
    }
   ],
   "source": [
    "num_inicial_instancias =df_filtered.shape[0]  #numero de filas en df_filtered antes de limpiar por valores nulos\n",
    "df_filtered = df_filtered.dropna(subset = [\"surface_total_in_m2\",\"surface_covered_in_m2\",\"rooms\",\"price_aprox_usd\",\"price_usd_per_m2\"])\n",
    "df_filtered.head(5)"
   ]
  },
  {
   "cell_type": "markdown",
   "metadata": {},
   "source": [
    "**7)** A continuación **mostrá** cuantas instancias son las que descartaste a partir de quitar las que tenían valores nulos."
   ]
  },
  {
   "cell_type": "code",
   "execution_count": 13,
   "metadata": {},
   "outputs": [
    {
     "data": {
      "text/plain": [
       "11975"
      ]
     },
     "execution_count": 13,
     "metadata": {},
     "output_type": "execute_result"
    }
   ],
   "source": [
    "df_filtered.shape[0] #numero de filas en df_filtered despues de limpiar por valores nulos\n"
   ]
  },
  {
   "cell_type": "code",
   "execution_count": 14,
   "metadata": {},
   "outputs": [
    {
     "data": {
      "text/plain": [
       "5913"
      ]
     },
     "execution_count": 14,
     "metadata": {},
     "output_type": "execute_result"
    }
   ],
   "source": [
    "num_inicial_instancias-df_filtered.shape[0] # filas eliminadas"
   ]
  },
  {
   "cell_type": "markdown",
   "metadata": {},
   "source": [
    "Posiblemente existan otros atributos con valores faltantes en el dataset, pero que no son de tanta importancia. \n",
    "\n",
    "**8) Mostrá** qué otros atributos tienen valores faltantes en el `dataframe`."
   ]
  },
  {
   "cell_type": "code",
   "execution_count": 15,
   "metadata": {},
   "outputs": [
    {
     "name": "stdout",
     "output_type": "stream",
     "text": [
      "<class 'pandas.core.frame.DataFrame'>\n",
      "Int64Index: 11975 entries, 18 to 18978\n",
      "Data columns (total 17 columns):\n",
      "created_on                 11975 non-null datetime64[ns]\n",
      "operation                  11975 non-null object\n",
      "property_type              11975 non-null object\n",
      "place_with_parent_names    11975 non-null object\n",
      "lat-lon                    11975 non-null object\n",
      "lat                        11975 non-null float64\n",
      "lon                        11975 non-null float64\n",
      "price_aprox_usd            11975 non-null float64\n",
      "surface_total_in_m2        11975 non-null float64\n",
      "surface_covered_in_m2      11975 non-null float64\n",
      "price_usd_per_m2           11975 non-null float64\n",
      "floor                      1863 non-null float64\n",
      "rooms                      11975 non-null float64\n",
      "expenses                   2272 non-null float64\n",
      "properati_url              11975 non-null object\n",
      "barrio                     11975 non-null object\n",
      "comuna                     11975 non-null float64\n",
      "dtypes: datetime64[ns](1), float64(10), object(6)\n",
      "memory usage: 1.6+ MB\n"
     ]
    }
   ],
   "source": [
    "df_filtered.info()"
   ]
  },
  {
   "cell_type": "code",
   "execution_count": 16,
   "metadata": {},
   "outputs": [
    {
     "data": {
      "text/plain": [
       "floor       10112\n",
       "expenses     9703\n",
       "dtype: int64"
      ]
     },
     "execution_count": 16,
     "metadata": {},
     "output_type": "execute_result"
    }
   ],
   "source": [
    "df_filtered.isna().sum()[df_filtered.isna().sum()>0] # otra forma de ver que cuantos datos faltantes por atributo hay"
   ]
  },
  {
   "cell_type": "markdown",
   "metadata": {},
   "source": [
    "#### Desafío: planteá alguna estrategia posible para reemplazar los valores faltantes en el atributo `surface_total_in_m2`."
   ]
  },
  {
   "cell_type": "markdown",
   "metadata": {},
   "source": [
    "<font color='green'>Con el data frame filtrado se dividen las propiedades según el tipo (house, apartment, y PH)  y zonas (formadas a partir de agrupar barrios vecinos). Con cada uno de estos conjuntos, caracterizados por tipo de propiedad y zona, se hace un scatter de **surface_total_in_m2 vs precio** y se busca una curva de ajuste a ese scatter (y = f(x)). Luego para cada propiedad con el dato faltante surface_total_in_m2 se busca el dato según las siguientes estrategias: </font>  \n",
    "<font color='green'>  \n",
    "1_ Si existe el precio, se encuentra el dato a través de la función de ajuste que le corresponda (según tipo de propiedad y barrio) verificando la condición que la superficie total no sea menor que la sup. cubierta.  \n",
    "2_ Si no existe el precio ó falló la condición de la estrategia 1 se asigna  surface_total_in_m2 = surface_covered_in_m2 si es que el dato de superficie cubierta existe.  \n",
    "3_ Si fallan las dos estrategias anteriores se elimina la fila ya en la propiedad faltan muchos datos de relevancia.</font>    \n",
    "\n",
    "\n"
   ]
  },
  {
   "cell_type": "markdown",
   "metadata": {},
   "source": [
    "## Datos erróneos"
   ]
  },
  {
   "cell_type": "markdown",
   "metadata": {},
   "source": [
    "El siguiente paso es analizar errores que puede llegar a haber en el dataset. \n",
    "\n",
    "Por ejemplo, la **superficie total no puede ser menor que la cubierta**. Si esto sucede, podemos optar por eliminar esas filas o intentar corregir el problema. Veamos en primer lugar si esto sucede.\n",
    "\n",
    "**9) Mostrá** cuantas instancias existen que tengan el problema de este dato erróneo y guardalas en una variable llamada `wrong_surface_rows`"
   ]
  },
  {
   "cell_type": "code",
   "execution_count": 17,
   "metadata": {},
   "outputs": [
    {
     "data": {
      "text/plain": [
       "73"
      ]
     },
     "execution_count": 17,
     "metadata": {},
     "output_type": "execute_result"
    }
   ],
   "source": [
    "wrong_surface_rows = df_filtered[df_filtered.surface_total_in_m2 <df_filtered.surface_covered_in_m2]\n",
    "wrong_surface_rows.shape[0]"
   ]
  },
  {
   "cell_type": "code",
   "execution_count": 18,
   "metadata": {},
   "outputs": [
    {
     "data": {
      "text/plain": [
       "surface_total_in_m2      39\n",
       "surface_covered_in_m2    44\n",
       "Name: 153, dtype: object"
      ]
     },
     "execution_count": 18,
     "metadata": {},
     "output_type": "execute_result"
    }
   ],
   "source": [
    "wrong_surface_rows.loc[153,[\"surface_total_in_m2\",\"surface_covered_in_m2\"]] # prueba en uno de los casos"
   ]
  },
  {
   "cell_type": "markdown",
   "metadata": {},
   "source": [
    "Proponemos no borrar estas instancias erróneas, sino intercambiar los valores de **superficie total** con **superficie cubierta** en caso de que se cumpla la condición mencionada."
   ]
  },
  {
   "cell_type": "code",
   "execution_count": 19,
   "metadata": {},
   "outputs": [],
   "source": [
    "df_filtered.at[wrong_surface_rows.index, 'surface_total_in_m2'] = wrong_surface_rows.surface_covered_in_m2\n",
    "df_filtered.at[wrong_surface_rows.index, 'surface_covered_in_m2'] = wrong_surface_rows.surface_total_in_m2"
   ]
  },
  {
   "cell_type": "code",
   "execution_count": 20,
   "metadata": {},
   "outputs": [
    {
     "data": {
      "text/plain": [
       "surface_total_in_m2      44\n",
       "surface_covered_in_m2    39\n",
       "Name: 153, dtype: object"
      ]
     },
     "execution_count": 20,
     "metadata": {},
     "output_type": "execute_result"
    }
   ],
   "source": [
    "df_filtered.loc[153,[\"surface_total_in_m2\",\"surface_covered_in_m2\"]] # prueba en uno de los casos"
   ]
  },
  {
   "cell_type": "markdown",
   "metadata": {},
   "source": [
    "Por otro lado, sucede que las inmobiliarias cuando no cuentan con las coordenadas reales de las propiedades utilizan valores que no son correctos. Por ejemplo, el punto centro de cada barrio o puntos de interés como el Obelisco. Esto puede afectar el análisis relacionado con la ubicación de cada propiedad.\n",
    "\n",
    "Veamos en primer lugar si hay coordenadas que se repiten."
   ]
  },
  {
   "cell_type": "code",
   "execution_count": 21,
   "metadata": {},
   "outputs": [
    {
     "data": {
      "text/plain": [
       "lat         lon       \n",
       "-34.589546  -58.397364    149\n",
       "-34.571150  -58.423297    118\n",
       "-34.562084  -58.456686     77\n",
       "-34.620928  -58.445874     45\n",
       "-34.609821  -58.392606     36\n",
       "                         ... \n",
       "-34.590998  -58.394888      2\n",
       "-34.591283  -58.436682      2\n",
       "-34.591406  -58.388358      2\n",
       "-34.591479  -58.404996      2\n",
       "-34.694841  -58.470328      2\n",
       "Length: 1055, dtype: int64"
      ]
     },
     "execution_count": 21,
     "metadata": {},
     "output_type": "execute_result"
    }
   ],
   "source": [
    "conteo_puntos = df_filtered.groupby(['lat', 'lon']).size()\n",
    "conteo_puntos[conteo_puntos > 1].sort_values(ascending=False)"
   ]
  },
  {
   "cell_type": "code",
   "execution_count": 22,
   "metadata": {},
   "outputs": [
    {
     "data": {
      "text/html": [
       "<div>\n",
       "<style scoped>\n",
       "    .dataframe tbody tr th:only-of-type {\n",
       "        vertical-align: middle;\n",
       "    }\n",
       "\n",
       "    .dataframe tbody tr th {\n",
       "        vertical-align: top;\n",
       "    }\n",
       "\n",
       "    .dataframe thead th {\n",
       "        text-align: right;\n",
       "    }\n",
       "</style>\n",
       "<table border=\"1\" class=\"dataframe\">\n",
       "  <thead>\n",
       "    <tr style=\"text-align: right;\">\n",
       "      <th></th>\n",
       "      <th>created_on</th>\n",
       "      <th>operation</th>\n",
       "      <th>property_type</th>\n",
       "      <th>place_with_parent_names</th>\n",
       "      <th>lat-lon</th>\n",
       "      <th>lat</th>\n",
       "      <th>lon</th>\n",
       "      <th>price_aprox_usd</th>\n",
       "      <th>surface_total_in_m2</th>\n",
       "      <th>surface_covered_in_m2</th>\n",
       "      <th>price_usd_per_m2</th>\n",
       "      <th>floor</th>\n",
       "      <th>rooms</th>\n",
       "      <th>expenses</th>\n",
       "      <th>properati_url</th>\n",
       "      <th>barrio</th>\n",
       "      <th>comuna</th>\n",
       "    </tr>\n",
       "  </thead>\n",
       "  <tbody>\n",
       "    <tr>\n",
       "      <td>18437</td>\n",
       "      <td>2017-09-25</td>\n",
       "      <td>sell</td>\n",
       "      <td>apartment</td>\n",
       "      <td>|Argentina|Capital Federal|Villa del Parque|</td>\n",
       "      <td>-34.603770167,-58.4932179167</td>\n",
       "      <td>-34.60377</td>\n",
       "      <td>-58.493218</td>\n",
       "      <td>164198.0</td>\n",
       "      <td>56.0</td>\n",
       "      <td>56.0</td>\n",
       "      <td>2932.107143</td>\n",
       "      <td>7.0</td>\n",
       "      <td>2.0</td>\n",
       "      <td>NaN</td>\n",
       "      <td>https://www.properati.com.ar/1fe1s_venta_departamento_villa-del-parque_nogoya_3200_balcon_jardin_piscina_toilette_garage_placard_aire-acondicionado_re-max-premium-ii</td>\n",
       "      <td>VILLA DEL PARQUE</td>\n",
       "      <td>11.0</td>\n",
       "    </tr>\n",
       "    <tr>\n",
       "      <td>18440</td>\n",
       "      <td>2017-09-28</td>\n",
       "      <td>sell</td>\n",
       "      <td>apartment</td>\n",
       "      <td>|Argentina|Capital Federal|Villa del Parque|</td>\n",
       "      <td>-34.603770167,-58.4932179167</td>\n",
       "      <td>-34.60377</td>\n",
       "      <td>-58.493218</td>\n",
       "      <td>146100.0</td>\n",
       "      <td>54.0</td>\n",
       "      <td>46.0</td>\n",
       "      <td>2705.555556</td>\n",
       "      <td>3.0</td>\n",
       "      <td>2.0</td>\n",
       "      <td>NaN</td>\n",
       "      <td>https://www.properati.com.ar/1fkvi_venta_departamento_villa-del-parque_nogoya_3200_balcon_jardin_piscina_toilette_garage_placard_aire-acondicionado_re-max-premium-ii</td>\n",
       "      <td>VILLA DEL PARQUE</td>\n",
       "      <td>11.0</td>\n",
       "    </tr>\n",
       "    <tr>\n",
       "      <td>18441</td>\n",
       "      <td>2017-09-28</td>\n",
       "      <td>sell</td>\n",
       "      <td>apartment</td>\n",
       "      <td>|Argentina|Capital Federal|Villa del Parque|</td>\n",
       "      <td>-34.603770167,-58.4932179167</td>\n",
       "      <td>-34.60377</td>\n",
       "      <td>-58.493218</td>\n",
       "      <td>155700.0</td>\n",
       "      <td>56.0</td>\n",
       "      <td>47.0</td>\n",
       "      <td>2780.357143</td>\n",
       "      <td>4.0</td>\n",
       "      <td>2.0</td>\n",
       "      <td>NaN</td>\n",
       "      <td>https://www.properati.com.ar/1fkvj_venta_departamento_villa-del-parque_nogoya_3200_balcon_jardin_piscina_toilette_garage_placard_aire-acondicionado_re-max-premium-ii</td>\n",
       "      <td>VILLA DEL PARQUE</td>\n",
       "      <td>11.0</td>\n",
       "    </tr>\n",
       "    <tr>\n",
       "      <td>18443</td>\n",
       "      <td>2017-09-28</td>\n",
       "      <td>sell</td>\n",
       "      <td>apartment</td>\n",
       "      <td>|Argentina|Capital Federal|Villa del Parque|</td>\n",
       "      <td>-34.603770167,-58.4932179167</td>\n",
       "      <td>-34.60377</td>\n",
       "      <td>-58.493218</td>\n",
       "      <td>154200.0</td>\n",
       "      <td>54.0</td>\n",
       "      <td>46.0</td>\n",
       "      <td>2855.555556</td>\n",
       "      <td>6.0</td>\n",
       "      <td>2.0</td>\n",
       "      <td>NaN</td>\n",
       "      <td>https://www.properati.com.ar/1fkvn_venta_departamento_villa-del-parque_nogoya_3200_balcon_jardin_piscina_toilette_garage_placard_aire-acondicionado_re-max-premium-ii</td>\n",
       "      <td>VILLA DEL PARQUE</td>\n",
       "      <td>11.0</td>\n",
       "    </tr>\n",
       "    <tr>\n",
       "      <td>18444</td>\n",
       "      <td>2017-09-28</td>\n",
       "      <td>sell</td>\n",
       "      <td>apartment</td>\n",
       "      <td>|Argentina|Capital Federal|Villa del Parque|</td>\n",
       "      <td>-34.603770167,-58.4932179167</td>\n",
       "      <td>-34.60377</td>\n",
       "      <td>-58.493218</td>\n",
       "      <td>158500.0</td>\n",
       "      <td>56.0</td>\n",
       "      <td>47.0</td>\n",
       "      <td>2830.357143</td>\n",
       "      <td>5.0</td>\n",
       "      <td>2.0</td>\n",
       "      <td>NaN</td>\n",
       "      <td>https://www.properati.com.ar/1fkvo_venta_departamento_villa-del-parque_nogoya_3200_balcon_jardin_piscina_toilette_garage_placard_aire-acondicionado_re-max-premium-ii</td>\n",
       "      <td>VILLA DEL PARQUE</td>\n",
       "      <td>11.0</td>\n",
       "    </tr>\n",
       "    <tr>\n",
       "      <td>18447</td>\n",
       "      <td>2017-09-28</td>\n",
       "      <td>sell</td>\n",
       "      <td>apartment</td>\n",
       "      <td>|Argentina|Capital Federal|Villa del Parque|</td>\n",
       "      <td>-34.603770167,-58.4932179167</td>\n",
       "      <td>-34.60377</td>\n",
       "      <td>-58.493218</td>\n",
       "      <td>161300.0</td>\n",
       "      <td>56.0</td>\n",
       "      <td>47.0</td>\n",
       "      <td>2880.357143</td>\n",
       "      <td>6.0</td>\n",
       "      <td>2.0</td>\n",
       "      <td>NaN</td>\n",
       "      <td>https://www.properati.com.ar/1fkvt_venta_departamento_villa-del-parque_nogoya_3200_balcon_jardin_piscina_toilette_garage_placard_aire-acondicionado_re-max-premium-ii</td>\n",
       "      <td>VILLA DEL PARQUE</td>\n",
       "      <td>11.0</td>\n",
       "    </tr>\n",
       "    <tr>\n",
       "      <td>18449</td>\n",
       "      <td>2017-09-28</td>\n",
       "      <td>sell</td>\n",
       "      <td>apartment</td>\n",
       "      <td>|Argentina|Capital Federal|Villa del Parque|</td>\n",
       "      <td>-34.603770167,-58.4932179167</td>\n",
       "      <td>-34.60377</td>\n",
       "      <td>-58.493218</td>\n",
       "      <td>151500.0</td>\n",
       "      <td>54.0</td>\n",
       "      <td>46.0</td>\n",
       "      <td>2805.555556</td>\n",
       "      <td>5.0</td>\n",
       "      <td>2.0</td>\n",
       "      <td>NaN</td>\n",
       "      <td>https://www.properati.com.ar/1fkvx_venta_departamento_villa-del-parque_nogoya_3200_balcon_jardin_piscina_toilette_garage_placard_aire-acondicionado_re-max-premium-ii</td>\n",
       "      <td>VILLA DEL PARQUE</td>\n",
       "      <td>11.0</td>\n",
       "    </tr>\n",
       "    <tr>\n",
       "      <td>18450</td>\n",
       "      <td>2017-09-28</td>\n",
       "      <td>sell</td>\n",
       "      <td>apartment</td>\n",
       "      <td>|Argentina|Capital Federal|Villa del Parque|</td>\n",
       "      <td>-34.603770167,-58.4932179167</td>\n",
       "      <td>-34.60377</td>\n",
       "      <td>-58.493218</td>\n",
       "      <td>156900.0</td>\n",
       "      <td>54.0</td>\n",
       "      <td>46.0</td>\n",
       "      <td>2905.555556</td>\n",
       "      <td>7.0</td>\n",
       "      <td>2.0</td>\n",
       "      <td>NaN</td>\n",
       "      <td>https://www.properati.com.ar/1fkvy_venta_departamento_villa-del-parque_nogoya_3200_balcon_jardin_piscina_toilette_garage_placard_aire-acondicionado_re-max-premium-ii</td>\n",
       "      <td>VILLA DEL PARQUE</td>\n",
       "      <td>11.0</td>\n",
       "    </tr>\n",
       "  </tbody>\n",
       "</table>\n",
       "</div>"
      ],
      "text/plain": [
       "      created_on operation property_type  \\\n",
       "18437 2017-09-25      sell     apartment   \n",
       "18440 2017-09-28      sell     apartment   \n",
       "18441 2017-09-28      sell     apartment   \n",
       "18443 2017-09-28      sell     apartment   \n",
       "18444 2017-09-28      sell     apartment   \n",
       "18447 2017-09-28      sell     apartment   \n",
       "18449 2017-09-28      sell     apartment   \n",
       "18450 2017-09-28      sell     apartment   \n",
       "\n",
       "                            place_with_parent_names  \\\n",
       "18437  |Argentina|Capital Federal|Villa del Parque|   \n",
       "18440  |Argentina|Capital Federal|Villa del Parque|   \n",
       "18441  |Argentina|Capital Federal|Villa del Parque|   \n",
       "18443  |Argentina|Capital Federal|Villa del Parque|   \n",
       "18444  |Argentina|Capital Federal|Villa del Parque|   \n",
       "18447  |Argentina|Capital Federal|Villa del Parque|   \n",
       "18449  |Argentina|Capital Federal|Villa del Parque|   \n",
       "18450  |Argentina|Capital Federal|Villa del Parque|   \n",
       "\n",
       "                            lat-lon       lat        lon  price_aprox_usd  \\\n",
       "18437  -34.603770167,-58.4932179167 -34.60377 -58.493218         164198.0   \n",
       "18440  -34.603770167,-58.4932179167 -34.60377 -58.493218         146100.0   \n",
       "18441  -34.603770167,-58.4932179167 -34.60377 -58.493218         155700.0   \n",
       "18443  -34.603770167,-58.4932179167 -34.60377 -58.493218         154200.0   \n",
       "18444  -34.603770167,-58.4932179167 -34.60377 -58.493218         158500.0   \n",
       "18447  -34.603770167,-58.4932179167 -34.60377 -58.493218         161300.0   \n",
       "18449  -34.603770167,-58.4932179167 -34.60377 -58.493218         151500.0   \n",
       "18450  -34.603770167,-58.4932179167 -34.60377 -58.493218         156900.0   \n",
       "\n",
       "       surface_total_in_m2  surface_covered_in_m2  price_usd_per_m2  floor  \\\n",
       "18437                 56.0                   56.0       2932.107143    7.0   \n",
       "18440                 54.0                   46.0       2705.555556    3.0   \n",
       "18441                 56.0                   47.0       2780.357143    4.0   \n",
       "18443                 54.0                   46.0       2855.555556    6.0   \n",
       "18444                 56.0                   47.0       2830.357143    5.0   \n",
       "18447                 56.0                   47.0       2880.357143    6.0   \n",
       "18449                 54.0                   46.0       2805.555556    5.0   \n",
       "18450                 54.0                   46.0       2905.555556    7.0   \n",
       "\n",
       "       rooms  expenses  \\\n",
       "18437    2.0       NaN   \n",
       "18440    2.0       NaN   \n",
       "18441    2.0       NaN   \n",
       "18443    2.0       NaN   \n",
       "18444    2.0       NaN   \n",
       "18447    2.0       NaN   \n",
       "18449    2.0       NaN   \n",
       "18450    2.0       NaN   \n",
       "\n",
       "                                                                                                                                                               properati_url  \\\n",
       "18437  https://www.properati.com.ar/1fe1s_venta_departamento_villa-del-parque_nogoya_3200_balcon_jardin_piscina_toilette_garage_placard_aire-acondicionado_re-max-premium-ii   \n",
       "18440  https://www.properati.com.ar/1fkvi_venta_departamento_villa-del-parque_nogoya_3200_balcon_jardin_piscina_toilette_garage_placard_aire-acondicionado_re-max-premium-ii   \n",
       "18441  https://www.properati.com.ar/1fkvj_venta_departamento_villa-del-parque_nogoya_3200_balcon_jardin_piscina_toilette_garage_placard_aire-acondicionado_re-max-premium-ii   \n",
       "18443  https://www.properati.com.ar/1fkvn_venta_departamento_villa-del-parque_nogoya_3200_balcon_jardin_piscina_toilette_garage_placard_aire-acondicionado_re-max-premium-ii   \n",
       "18444  https://www.properati.com.ar/1fkvo_venta_departamento_villa-del-parque_nogoya_3200_balcon_jardin_piscina_toilette_garage_placard_aire-acondicionado_re-max-premium-ii   \n",
       "18447  https://www.properati.com.ar/1fkvt_venta_departamento_villa-del-parque_nogoya_3200_balcon_jardin_piscina_toilette_garage_placard_aire-acondicionado_re-max-premium-ii   \n",
       "18449  https://www.properati.com.ar/1fkvx_venta_departamento_villa-del-parque_nogoya_3200_balcon_jardin_piscina_toilette_garage_placard_aire-acondicionado_re-max-premium-ii   \n",
       "18450  https://www.properati.com.ar/1fkvy_venta_departamento_villa-del-parque_nogoya_3200_balcon_jardin_piscina_toilette_garage_placard_aire-acondicionado_re-max-premium-ii   \n",
       "\n",
       "                 barrio  comuna  \n",
       "18437  VILLA DEL PARQUE    11.0  \n",
       "18440  VILLA DEL PARQUE    11.0  \n",
       "18441  VILLA DEL PARQUE    11.0  \n",
       "18443  VILLA DEL PARQUE    11.0  \n",
       "18444  VILLA DEL PARQUE    11.0  \n",
       "18447  VILLA DEL PARQUE    11.0  \n",
       "18449  VILLA DEL PARQUE    11.0  \n",
       "18450  VILLA DEL PARQUE    11.0  "
      ]
     },
     "execution_count": 22,
     "metadata": {},
     "output_type": "execute_result"
    }
   ],
   "source": [
    "#verificación en uno de los casos\n",
    "df_filtered[(df_filtered.lat < -34.6037)&(df_filtered.lat > -34.6038)&(df_filtered.lon < -58.4932)&(df_filtered.lon > -58.4933)] "
   ]
  },
  {
   "cell_type": "markdown",
   "metadata": {},
   "source": [
    "Por ejemplo, para el caso del tercer punto, se puede verificar que corresponde a la esquina de Av. Cabildo y Juramento.\n",
    "Nos quedamos entonces con las propiedades con coordenadas que se repitan hasta 5 veces."
   ]
  },
  {
   "cell_type": "code",
   "execution_count": 23,
   "metadata": {},
   "outputs": [],
   "source": [
    "conteo_puntos.name = 'conteo'"
   ]
  },
  {
   "cell_type": "markdown",
   "metadata": {},
   "source": [
    "<font color='green'> Nueva modificación en el data frame **df_filtered** que filtra solo las instancias donde **conteo <= 5**  </font> "
   ]
  },
  {
   "cell_type": "code",
   "execution_count": 24,
   "metadata": {},
   "outputs": [],
   "source": [
    "df_filtered = df_filtered.join(conteo_puntos, on=['lat', 'lon'])"
   ]
  },
  {
   "cell_type": "code",
   "execution_count": 25,
   "metadata": {},
   "outputs": [],
   "source": [
    "df_filtered = df_filtered[df_filtered.conteo <= 5]"
   ]
  },
  {
   "cell_type": "code",
   "execution_count": 26,
   "metadata": {},
   "outputs": [
    {
     "data": {
      "text/html": [
       "<div>\n",
       "<style scoped>\n",
       "    .dataframe tbody tr th:only-of-type {\n",
       "        vertical-align: middle;\n",
       "    }\n",
       "\n",
       "    .dataframe tbody tr th {\n",
       "        vertical-align: top;\n",
       "    }\n",
       "\n",
       "    .dataframe thead th {\n",
       "        text-align: right;\n",
       "    }\n",
       "</style>\n",
       "<table border=\"1\" class=\"dataframe\">\n",
       "  <thead>\n",
       "    <tr style=\"text-align: right;\">\n",
       "      <th></th>\n",
       "      <th>created_on</th>\n",
       "      <th>operation</th>\n",
       "      <th>property_type</th>\n",
       "      <th>place_with_parent_names</th>\n",
       "      <th>lat-lon</th>\n",
       "      <th>lat</th>\n",
       "      <th>lon</th>\n",
       "      <th>price_aprox_usd</th>\n",
       "      <th>surface_total_in_m2</th>\n",
       "      <th>surface_covered_in_m2</th>\n",
       "      <th>price_usd_per_m2</th>\n",
       "      <th>floor</th>\n",
       "      <th>rooms</th>\n",
       "      <th>expenses</th>\n",
       "      <th>properati_url</th>\n",
       "      <th>barrio</th>\n",
       "      <th>comuna</th>\n",
       "      <th>conteo</th>\n",
       "    </tr>\n",
       "  </thead>\n",
       "  <tbody>\n",
       "    <tr>\n",
       "      <td>37</td>\n",
       "      <td>2017-08-31</td>\n",
       "      <td>sell</td>\n",
       "      <td>apartment</td>\n",
       "      <td>|Argentina|Capital Federal|Palermo|</td>\n",
       "      <td>-34.570648,-58.433619</td>\n",
       "      <td>-34.570648</td>\n",
       "      <td>-58.433619</td>\n",
       "      <td>159800.0</td>\n",
       "      <td>47.0</td>\n",
       "      <td>47.0</td>\n",
       "      <td>3400.000000</td>\n",
       "      <td>2.0</td>\n",
       "      <td>1.0</td>\n",
       "      <td>NaN</td>\n",
       "      <td>https://www.properati.com.ar/1e4tm_venta_departamento_palermo_balcon_luminoso_estrenar_subte-linea-d_re-max-d-bosion</td>\n",
       "      <td>PALERMO</td>\n",
       "      <td>14.0</td>\n",
       "      <td>3</td>\n",
       "    </tr>\n",
       "    <tr>\n",
       "      <td>38</td>\n",
       "      <td>2017-08-31</td>\n",
       "      <td>sell</td>\n",
       "      <td>apartment</td>\n",
       "      <td>|Argentina|Capital Federal|Palermo|</td>\n",
       "      <td>-34.570648,-58.433619</td>\n",
       "      <td>-34.570648</td>\n",
       "      <td>-58.433619</td>\n",
       "      <td>144400.0</td>\n",
       "      <td>38.0</td>\n",
       "      <td>38.0</td>\n",
       "      <td>3800.000000</td>\n",
       "      <td>2.0</td>\n",
       "      <td>1.0</td>\n",
       "      <td>NaN</td>\n",
       "      <td>https://www.properati.com.ar/1e4tp_venta_departamento_palermo_balcon_luminoso_estrenar_subte-linea-d_re-max-d-bosion</td>\n",
       "      <td>PALERMO</td>\n",
       "      <td>14.0</td>\n",
       "      <td>3</td>\n",
       "    </tr>\n",
       "    <tr>\n",
       "      <td>39</td>\n",
       "      <td>2017-08-31</td>\n",
       "      <td>sell</td>\n",
       "      <td>apartment</td>\n",
       "      <td>|Argentina|Capital Federal|Palermo|</td>\n",
       "      <td>-34.570648,-58.433619</td>\n",
       "      <td>-34.570648</td>\n",
       "      <td>-58.433619</td>\n",
       "      <td>169000.0</td>\n",
       "      <td>52.0</td>\n",
       "      <td>47.0</td>\n",
       "      <td>3250.000000</td>\n",
       "      <td>2.0</td>\n",
       "      <td>1.0</td>\n",
       "      <td>NaN</td>\n",
       "      <td>https://www.properati.com.ar/1e4tr_venta_departamento_palermo_balcon_luminoso_estrenar_subte-linea-d_re-max-d-bosion</td>\n",
       "      <td>PALERMO</td>\n",
       "      <td>14.0</td>\n",
       "      <td>3</td>\n",
       "    </tr>\n",
       "    <tr>\n",
       "      <td>46</td>\n",
       "      <td>2017-09-02</td>\n",
       "      <td>sell</td>\n",
       "      <td>apartment</td>\n",
       "      <td>|Argentina|Capital Federal|Las Cañitas|</td>\n",
       "      <td>-34.5708701,-58.4331449</td>\n",
       "      <td>-34.570870</td>\n",
       "      <td>-58.433145</td>\n",
       "      <td>440000.0</td>\n",
       "      <td>80.0</td>\n",
       "      <td>76.0</td>\n",
       "      <td>5500.000000</td>\n",
       "      <td>NaN</td>\n",
       "      <td>3.0</td>\n",
       "      <td>NaN</td>\n",
       "      <td>https://www.properati.com.ar/1e9gr_venta_departamento_las-canitas_balcon_baulera_suite_gimnasio_lavadero_parrilla_patio_piscina_quincho_sum_sauna_lujoso_garage_amenities_subte-linea-d_l-e-group</td>\n",
       "      <td>PALERMO</td>\n",
       "      <td>14.0</td>\n",
       "      <td>2</td>\n",
       "    </tr>\n",
       "    <tr>\n",
       "      <td>47</td>\n",
       "      <td>2017-09-02</td>\n",
       "      <td>sell</td>\n",
       "      <td>apartment</td>\n",
       "      <td>|Argentina|Capital Federal|Las Cañitas|</td>\n",
       "      <td>-34.5708701,-58.4331449</td>\n",
       "      <td>-34.570870</td>\n",
       "      <td>-58.433145</td>\n",
       "      <td>550000.0</td>\n",
       "      <td>98.0</td>\n",
       "      <td>95.0</td>\n",
       "      <td>5612.244898</td>\n",
       "      <td>NaN</td>\n",
       "      <td>4.0</td>\n",
       "      <td>NaN</td>\n",
       "      <td>https://www.properati.com.ar/1e9i0_venta_departamento_las-canitas_gimnasio_patio_piscina_sauna_lujoso_garage_amenities_subte-linea-d_l-e-group</td>\n",
       "      <td>PALERMO</td>\n",
       "      <td>14.0</td>\n",
       "      <td>2</td>\n",
       "    </tr>\n",
       "  </tbody>\n",
       "</table>\n",
       "</div>"
      ],
      "text/plain": [
       "   created_on operation property_type  \\\n",
       "37 2017-08-31      sell     apartment   \n",
       "38 2017-08-31      sell     apartment   \n",
       "39 2017-08-31      sell     apartment   \n",
       "46 2017-09-02      sell     apartment   \n",
       "47 2017-09-02      sell     apartment   \n",
       "\n",
       "                    place_with_parent_names                  lat-lon  \\\n",
       "37      |Argentina|Capital Federal|Palermo|    -34.570648,-58.433619   \n",
       "38      |Argentina|Capital Federal|Palermo|    -34.570648,-58.433619   \n",
       "39      |Argentina|Capital Federal|Palermo|    -34.570648,-58.433619   \n",
       "46  |Argentina|Capital Federal|Las Cañitas|  -34.5708701,-58.4331449   \n",
       "47  |Argentina|Capital Federal|Las Cañitas|  -34.5708701,-58.4331449   \n",
       "\n",
       "          lat        lon  price_aprox_usd  surface_total_in_m2  \\\n",
       "37 -34.570648 -58.433619         159800.0                 47.0   \n",
       "38 -34.570648 -58.433619         144400.0                 38.0   \n",
       "39 -34.570648 -58.433619         169000.0                 52.0   \n",
       "46 -34.570870 -58.433145         440000.0                 80.0   \n",
       "47 -34.570870 -58.433145         550000.0                 98.0   \n",
       "\n",
       "    surface_covered_in_m2  price_usd_per_m2  floor  rooms  expenses  \\\n",
       "37                   47.0       3400.000000    2.0    1.0       NaN   \n",
       "38                   38.0       3800.000000    2.0    1.0       NaN   \n",
       "39                   47.0       3250.000000    2.0    1.0       NaN   \n",
       "46                   76.0       5500.000000    NaN    3.0       NaN   \n",
       "47                   95.0       5612.244898    NaN    4.0       NaN   \n",
       "\n",
       "                                                                                                                                                                                        properati_url  \\\n",
       "37                                                                               https://www.properati.com.ar/1e4tm_venta_departamento_palermo_balcon_luminoso_estrenar_subte-linea-d_re-max-d-bosion   \n",
       "38                                                                               https://www.properati.com.ar/1e4tp_venta_departamento_palermo_balcon_luminoso_estrenar_subte-linea-d_re-max-d-bosion   \n",
       "39                                                                               https://www.properati.com.ar/1e4tr_venta_departamento_palermo_balcon_luminoso_estrenar_subte-linea-d_re-max-d-bosion   \n",
       "46  https://www.properati.com.ar/1e9gr_venta_departamento_las-canitas_balcon_baulera_suite_gimnasio_lavadero_parrilla_patio_piscina_quincho_sum_sauna_lujoso_garage_amenities_subte-linea-d_l-e-group   \n",
       "47                                                     https://www.properati.com.ar/1e9i0_venta_departamento_las-canitas_gimnasio_patio_piscina_sauna_lujoso_garage_amenities_subte-linea-d_l-e-group   \n",
       "\n",
       "     barrio  comuna  conteo  \n",
       "37  PALERMO    14.0       3  \n",
       "38  PALERMO    14.0       3  \n",
       "39  PALERMO    14.0       3  \n",
       "46  PALERMO    14.0       2  \n",
       "47  PALERMO    14.0       2  "
      ]
     },
     "execution_count": 26,
     "metadata": {},
     "output_type": "execute_result"
    }
   ],
   "source": [
    "df_filtered[df_filtered.conteo>1].head(5)"
   ]
  },
  {
   "cell_type": "code",
   "execution_count": 27,
   "metadata": {},
   "outputs": [
    {
     "name": "stdout",
     "output_type": "stream",
     "text": [
      "<class 'pandas.core.frame.DataFrame'>\n",
      "Int64Index: 10523 entries, 18 to 18978\n",
      "Data columns (total 18 columns):\n",
      "created_on                 10523 non-null datetime64[ns]\n",
      "operation                  10523 non-null object\n",
      "property_type              10523 non-null object\n",
      "place_with_parent_names    10523 non-null object\n",
      "lat-lon                    10523 non-null object\n",
      "lat                        10523 non-null float64\n",
      "lon                        10523 non-null float64\n",
      "price_aprox_usd            10523 non-null float64\n",
      "surface_total_in_m2        10523 non-null float64\n",
      "surface_covered_in_m2      10523 non-null float64\n",
      "price_usd_per_m2           10523 non-null float64\n",
      "floor                      1639 non-null float64\n",
      "rooms                      10523 non-null float64\n",
      "expenses                   2224 non-null float64\n",
      "properati_url              10523 non-null object\n",
      "barrio                     10523 non-null object\n",
      "comuna                     10523 non-null float64\n",
      "conteo                     10523 non-null int64\n",
      "dtypes: datetime64[ns](1), float64(10), int64(1), object(6)\n",
      "memory usage: 1.5+ MB\n"
     ]
    }
   ],
   "source": [
    "df_filtered.info()"
   ]
  },
  {
   "cell_type": "markdown",
   "metadata": {},
   "source": [
    "Eliminamos el atributo `conteo` dado que ya no nos sirve."
   ]
  },
  {
   "cell_type": "code",
   "execution_count": 28,
   "metadata": {},
   "outputs": [],
   "source": [
    "df_filtered.drop('conteo', inplace=True, axis=1)"
   ]
  },
  {
   "cell_type": "markdown",
   "metadata": {},
   "source": [
    "## Estudiando los barrios"
   ]
  },
  {
   "cell_type": "markdown",
   "metadata": {},
   "source": [
    "### Barrios con más edificios y barrios con más casas\n",
    "Al saber qué barrios son los que tienen más cantidad de edificios en venta y cuáles son los que tienen más casas podemos darnos una idea de qué tipo de barrio es. Si es más residencial, con más población, poder adquisitivo, etc. \n",
    "Para eso vamos a empezar calculando los porcentajes de cada tipo de propiedad según el barrio."
   ]
  },
  {
   "cell_type": "code",
   "execution_count": 29,
   "metadata": {},
   "outputs": [
    {
     "data": {
      "text/plain": [
       "barrio\n",
       "VILLA RIACHUELO         9\n",
       "VILLA SOLDATI          11\n",
       "VILLA REAL             28\n",
       "AGRONOMIA              35\n",
       "NUEVA POMPEYA          36\n",
       "VERSALLES              45\n",
       "VILLA SANTA RITA       47\n",
       "PARQUE CHAS            60\n",
       "PARQUE PATRICIOS       66\n",
       "VILLA LUGANO           66\n",
       "PATERNAL               66\n",
       "PARQUE AVELLANEDA      66\n",
       "VELEZ SARSFIELD        72\n",
       "COGHLAN                76\n",
       "VILLA LURO             78\n",
       "VILLA GRAL. MITRE      79\n",
       "MATADEROS              80\n",
       "MONTE CASTRO           81\n",
       "VILLA PUEYRREDON       83\n",
       "FLORESTA               91\n",
       "BOEDO                  91\n",
       "BOCA                   94\n",
       "VILLA ORTUZAR         107\n",
       "VILLA DEL PARQUE      108\n",
       "PARQUE CHACABUCO      113\n",
       "CHACARITA             114\n",
       "LINIERS               120\n",
       "SAN TELMO             123\n",
       "SAN CRISTOBAL         124\n",
       "BARRACAS              136\n",
       "CONSTITUCION          152\n",
       "SAAVEDRA              178\n",
       "VILLA DEVOTO          184\n",
       "COLEGIALES            190\n",
       "MONSERRAT             196\n",
       "PUERTO MADERO         210\n",
       "SAN NICOLAS           273\n",
       "NUEZ                  273\n",
       "VILLA URQUIZA         335\n",
       "VILLA CRESPO          385\n",
       "RETIRO                408\n",
       "FLORES                449\n",
       "ALMAGRO               480\n",
       "BALVANERA             558\n",
       "CABALLITO             585\n",
       "BELGRANO              736\n",
       "RECOLETA             1027\n",
       "PALERMO              1599\n",
       "Name: property_type, dtype: int64"
      ]
     },
     "execution_count": 29,
     "metadata": {},
     "output_type": "execute_result"
    }
   ],
   "source": [
    "total_propiedades = df_filtered.groupby('barrio')['property_type'].count()\n",
    "total_propiedades.sort_values()"
   ]
  },
  {
   "cell_type": "code",
   "execution_count": 30,
   "metadata": {},
   "outputs": [
    {
     "data": {
      "text/plain": [
       "barrio\n",
       "AGRONOMIA            0.542857\n",
       "ALMAGRO              0.868750\n",
       "BALVANERA            0.922939\n",
       "BARRACAS             0.676471\n",
       "BELGRANO             0.952446\n",
       "BOCA                 0.765957\n",
       "BOEDO                0.582418\n",
       "CABALLITO            0.859829\n",
       "CHACARITA            0.763158\n",
       "COGHLAN              0.723684\n",
       "COLEGIALES           0.852632\n",
       "CONSTITUCION         0.796053\n",
       "FLORES               0.799555\n",
       "FLORESTA             0.758242\n",
       "LINIERS              0.633333\n",
       "MATADEROS            0.387500\n",
       "MONSERRAT            0.938776\n",
       "MONTE CASTRO         0.530864\n",
       "NUEVA POMPEYA        0.527778\n",
       "NUEZ                 0.835165\n",
       "PALERMO              0.936836\n",
       "PARQUE AVELLANEDA    0.439394\n",
       "PARQUE CHACABUCO     0.548673\n",
       "PARQUE CHAS          0.850000\n",
       "PARQUE PATRICIOS     0.636364\n",
       "PATERNAL             0.621212\n",
       "PUERTO MADERO        0.995238\n",
       "RECOLETA             0.987342\n",
       "RETIRO               0.992647\n",
       "SAAVEDRA             0.685393\n",
       "SAN CRISTOBAL        0.814516\n",
       "SAN NICOLAS          0.989011\n",
       "SAN TELMO            0.853659\n",
       "VELEZ SARSFIELD      0.652778\n",
       "VERSALLES            0.377778\n",
       "VILLA CRESPO         0.828571\n",
       "VILLA DEL PARQUE     0.787037\n",
       "VILLA DEVOTO         0.521739\n",
       "VILLA GRAL. MITRE    0.734177\n",
       "VILLA LUGANO         0.560606\n",
       "VILLA LURO           0.666667\n",
       "VILLA ORTUZAR        0.757009\n",
       "VILLA PUEYRREDON     0.674699\n",
       "VILLA REAL           0.500000\n",
       "VILLA RIACHUELO      0.444444\n",
       "VILLA SANTA RITA     0.638298\n",
       "VILLA SOLDATI        0.818182\n",
       "VILLA URQUIZA        0.814925\n",
       "Name: property_type, dtype: float64"
      ]
     },
     "execution_count": 30,
     "metadata": {},
     "output_type": "execute_result"
    }
   ],
   "source": [
    "porcentaje_casas_ph = df_filtered[df_filtered.property_type.isin(['PH', 'house'])].groupby('barrio').count().property_type/total_propiedades\n",
    "porcentaje_edificios = df_filtered[df_filtered.property_type == 'apartment'].groupby('barrio').count().property_type/total_propiedades\n",
    "porcentaje_edificios.head(50)"
   ]
  },
  {
   "cell_type": "code",
   "execution_count": 31,
   "metadata": {},
   "outputs": [
    {
     "data": {
      "text/plain": [
       "barrio\n",
       "AGRONOMIA    0.457143\n",
       "ALMAGRO      0.131250\n",
       "BALVANERA    0.077061\n",
       "BARRACAS     0.323529\n",
       "BELGRANO     0.047554\n",
       "Name: property_type, dtype: float64"
      ]
     },
     "execution_count": 31,
     "metadata": {},
     "output_type": "execute_result"
    }
   ],
   "source": [
    "porcentaje_casas_ph.head(5)"
   ]
  },
  {
   "cell_type": "code",
   "execution_count": 32,
   "metadata": {},
   "outputs": [
    {
     "name": "stdout",
     "output_type": "stream",
     "text": [
      "Barrios con mayor porcentaje de edificios: \n",
      "\n",
      " barrio\n",
      "PUERTO MADERO    0.995238\n",
      "RETIRO           0.992647\n",
      "SAN NICOLAS      0.989011\n",
      "RECOLETA         0.987342\n",
      "BELGRANO         0.952446\n",
      "Name: property_type, dtype: float64\n",
      "\n",
      "\n",
      "Barrios con mayor porcentaje de casas y phs: \n",
      "\n",
      "  barrio\n",
      "VERSALLES            0.622222\n",
      "MATADEROS            0.612500\n",
      "PARQUE AVELLANEDA    0.560606\n",
      "VILLA RIACHUELO      0.555556\n",
      "VILLA REAL           0.500000\n",
      "Name: property_type, dtype: float64\n"
     ]
    }
   ],
   "source": [
    "print(\"Barrios con mayor porcentaje de edificios: \\n\\n\", porcentaje_edificios.sort_values()[::-1][:5])\n",
    "print(\"\\n\")\n",
    "print(\"Barrios con mayor porcentaje de casas y phs: \\n\\n \", porcentaje_casas_ph.sort_values()[::-1][:5])\n"
   ]
  },
  {
   "cell_type": "markdown",
   "metadata": {},
   "source": [
    "Para darnos una idea de las diferencias entre los porcentajes de edificios y casas en estos barrios, vamos a graficarlos\n",
    "en forma de torta."
   ]
  },
  {
   "cell_type": "code",
   "execution_count": 33,
   "metadata": {},
   "outputs": [
    {
     "data": {
      "text/plain": [
       "<matplotlib.axes._subplots.AxesSubplot at 0x204ae36f148>"
      ]
     },
     "execution_count": 33,
     "metadata": {},
     "output_type": "execute_result"
    },
    {
     "data": {
      "image/png": "[encoded data removed]",
      "text/plain": [
       "<Figure size 1008x504 with 2 Axes>"
      ]
     },
     "metadata": {},
     "output_type": "display_data"
    }
   ],
   "source": [
    "barrios_casas = porcentaje_casas_ph.sort_values()[::-1][:5].index # máscara para seleccionar los 5 barrios que entre sus prop tienen mayor porcentaje de edificios\n",
    "barrios_edificios = porcentaje_edificios.sort_values()[::-1][:5].index # máscara para seleccionar los 5 barrios que entre sus prop tienen mayor porcentaje de casas o ph\n",
    "fig, axs = plt.subplots(1,2,figsize=(14,7))\n",
    "df_filtered[df_filtered.barrio.isin(barrios_edificios)].property_type.value_counts().plot(x=None,y=None, kind='pie',explode = (0.1, 0.1, 0.1),shadow = True, label = \"barrios de edificios\",startangle=45, ax=axs[0],autopct='%1.1f%%')\n",
    "df_filtered[df_filtered.barrio.isin(barrios_casas)].property_type.value_counts().plot(x=None,y=None, kind='pie',explode = (0.1, 0.1, 0.1),shadow = True,label = \"barrios residenciales\", ax=axs[1],autopct='%1.1f%%')"
   ]
  },
  {
   "cell_type": "markdown",
   "metadata": {},
   "source": [
    "<font color=green>Distribución porcentual de tipo de propiedad en la zona de más departamentos</font>"
   ]
  },
  {
   "cell_type": "code",
   "execution_count": 34,
   "metadata": {},
   "outputs": [
    {
     "data": {
      "text/plain": [
       "apartment    97.927656\n",
       "house         1.130369\n",
       "PH            0.941974\n",
       "Name: property_type, dtype: float64"
      ]
     },
     "execution_count": 34,
     "metadata": {},
     "output_type": "execute_result"
    }
   ],
   "source": [
    "df_filtered[df_filtered.barrio.isin(barrios_edificios)].property_type.value_counts()/df_filtered[df_filtered.barrio.isin(barrios_edificios)].property_type.value_counts().sum()*100"
   ]
  },
  {
   "cell_type": "markdown",
   "metadata": {},
   "source": [
    "<font color=green>Distribución porcentual de tipo de propiedad en la zona más residencial</font>"
   ]
  },
  {
   "cell_type": "code",
   "execution_count": 35,
   "metadata": {},
   "outputs": [
    {
     "data": {
      "text/plain": [
       "apartment    0.416667\n",
       "PH           0.307018\n",
       "house        0.276316\n",
       "Name: property_type, dtype: float64"
      ]
     },
     "execution_count": 35,
     "metadata": {},
     "output_type": "execute_result"
    }
   ],
   "source": [
    "df_filtered[df_filtered.barrio.isin(barrios_casas)].property_type.value_counts()/df_filtered[df_filtered.barrio.isin(barrios_casas)].property_type.value_counts().sum()"
   ]
  },
  {
   "cell_type": "markdown",
   "metadata": {},
   "source": [
    "### Barrios más caros y más baratos"
   ]
  },
  {
   "cell_type": "markdown",
   "metadata": {},
   "source": [
    "Veamos primero la distribución del precio por metro cuadrado para todo el dataset. De esta manera, vamos a remover valores que consideremos extremos.\n",
    "\n",
    "En el siguiente proyecto vamos a volver sobre este tema con más profundidad.\n",
    "\n",
    "**10)** Tomando el atributo `price_usd_per_m2` **calculá** su **mínimo**, **máximo**, **promedio (mean)**, **mediana (median)** y **desvío estándar (std)**"
   ]
  },
  {
   "cell_type": "code",
   "execution_count": 36,
   "metadata": {},
   "outputs": [
    {
     "data": {
      "text/plain": [
       "count     10523.000000\n",
       "mean       2785.655144\n",
       "std        1997.772174\n",
       "min           0.958333\n",
       "25%        2039.289915\n",
       "50%        2588.235294\n",
       "75%        3203.982564\n",
       "max      142450.141026\n",
       "Name: price_usd_per_m2, dtype: float64"
      ]
     },
     "execution_count": 36,
     "metadata": {},
     "output_type": "execute_result"
    }
   ],
   "source": [
    "df_filtered.price_usd_per_m2.describe()"
   ]
  },
  {
   "cell_type": "markdown",
   "metadata": {},
   "source": [
    "<font color=green>Otra forma...</font>"
   ]
  },
  {
   "cell_type": "code",
   "execution_count": 37,
   "metadata": {},
   "outputs": [
    {
     "name": "stdout",
     "output_type": "stream",
     "text": [
      "precio min = 0.96 \n",
      "\n",
      "precio max = 142450.14 \n",
      "\n",
      "precio medio = 2785.66 \n",
      "\n",
      "precio mediana = 2588.24 \n",
      "\n",
      "precio desvío estándar = 1997.77 \n",
      "\n"
     ]
    }
   ],
   "source": [
    "print(\"precio min =\",\"{:.2f}\".format(df_filtered.price_usd_per_m2.min()),\"\\n\")\n",
    "print(\"precio max =\",\"{:.2f}\".format(df_filtered.price_usd_per_m2.max()),\"\\n\")\n",
    "print(\"precio medio =\",\"{:.2f}\".format(df_filtered.price_usd_per_m2.mean()),\"\\n\")\n",
    "print(\"precio mediana =\",\"{:.2f}\".format(df_filtered.price_usd_per_m2.median()),\"\\n\")\n",
    "print(\"precio desvío estándar =\",\"{:.2f}\".format(df_filtered.price_usd_per_m2.std()),\"\\n\")"
   ]
  },
  {
   "cell_type": "markdown",
   "metadata": {},
   "source": [
    "También podemos calcular otros estadísticos como los cuartiles. \n",
    "\n",
    "**11) Mostrá** el **primer y tercer cuartil** y luego también el **rango intercuartilíco**"
   ]
  },
  {
   "cell_type": "code",
   "execution_count": 38,
   "metadata": {},
   "outputs": [
    {
     "name": "stdout",
     "output_type": "stream",
     "text": [
      "precio que alcanza el primer 25% = 2039.29 \n",
      "\n",
      "precio que alcanza el 75% de las propiedades = 3203.98 \n",
      "\n",
      "rango intercuartílico =  1164.69\n"
     ]
    }
   ],
   "source": [
    "print(\"precio que alcanza el primer 25% =\",\"{:.2f}\".format(df_filtered.price_usd_per_m2.quantile(.25)),\"\\n\")\n",
    "print(\"precio que alcanza el 75% de las propiedades =\",\"{:.2f}\".format(df_filtered.price_usd_per_m2.quantile(.75)),\"\\n\")\n",
    "#rango intercuartílico\n",
    "rq = df_filtered[\"price_usd_per_m2\"].quantile(0.75) - df_filtered[\"price_usd_per_m2\"].quantile(0.25)  \n",
    "print(\"rango intercuartílico = \",\"{:.2f}\".format(rq))"
   ]
  },
  {
   "cell_type": "markdown",
   "metadata": {},
   "source": [
    "### Quitando valores extremos\n",
    "Eliminemos aquellas observaciones cuyo precio por metro cuadrado este fuera de los percentiles 10 y 90. De este modo intentaremos remover valores extremos de una manera sencilla para tener un análisis más robusto."
   ]
  },
  {
   "cell_type": "code",
   "execution_count": 39,
   "metadata": {},
   "outputs": [],
   "source": [
    "p10 = np.nanpercentile(df_filtered.price_usd_per_m2, 10)\n",
    "p90 = np.nanpercentile(df_filtered.price_usd_per_m2, 90)"
   ]
  },
  {
   "cell_type": "code",
   "execution_count": 40,
   "metadata": {},
   "outputs": [
    {
     "data": {
      "text/plain": [
       "4096.95585996956"
      ]
     },
     "execution_count": 40,
     "metadata": {},
     "output_type": "execute_result"
    }
   ],
   "source": [
    "p90"
   ]
  },
  {
   "cell_type": "markdown",
   "metadata": {},
   "source": [
    "<font color='green'>De aquí en adelante se trabaja con el data frame  **df_filtered** filtrado donde el valor price_usd_per_m2 esta en el rango [p10,p90]</font>"
   ]
  },
  {
   "cell_type": "code",
   "execution_count": 41,
   "metadata": {},
   "outputs": [],
   "source": [
    "\n",
    "df_filtered = df_filtered[(df_filtered.price_usd_per_m2 >= p10) & (df_filtered.price_usd_per_m2 <= p90)]"
   ]
  },
  {
   "cell_type": "markdown",
   "metadata": {},
   "source": [
    "A partir de quitar estos valores van a cambiar los estadísticos que calculamos.\n",
    "\n",
    "**12) Volvé a calcular** los mismos estadísticos (min, max, promedio, etc) para ver los cambios.\n",
    "¿Por qué será que la **mediana** no cambia?"
   ]
  },
  {
   "cell_type": "code",
   "execution_count": 42,
   "metadata": {},
   "outputs": [
    {
     "data": {
      "text/plain": [
       "count    8417.000000\n",
       "mean     2632.212569\n",
       "std       607.715139\n",
       "min      1552.941176\n",
       "25%      2150.793651\n",
       "50%      2588.235294\n",
       "75%      3057.142857\n",
       "max      4095.890411\n",
       "Name: price_usd_per_m2, dtype: float64"
      ]
     },
     "execution_count": 42,
     "metadata": {},
     "output_type": "execute_result"
    }
   ],
   "source": [
    "df_filtered.price_usd_per_m2.describe()"
   ]
  },
  {
   "cell_type": "markdown",
   "metadata": {},
   "source": [
    "<font color = 'green'>La mediana no cambia porque se han quitado igual cantida de valores por debajo de p10 que por encina de p90</font>"
   ]
  },
  {
   "cell_type": "markdown",
   "metadata": {},
   "source": [
    "Vamos a graficar ahora los barrios según el precio por metro cuadrado."
   ]
  },
  {
   "cell_type": "code",
   "execution_count": 43,
   "metadata": {},
   "outputs": [
    {
     "data": {
      "image/png": "[encoded data removed]",
      "text/plain": [
       "<Figure size 864x576 with 1 Axes>"
      ]
     },
     "metadata": {},
     "output_type": "display_data"
    }
   ],
   "source": [
    "plt.xticks(rotation = 90)\n",
    "ax.set_ylim(2500,4500) \n",
    "barrios = df_filtered.groupby('barrio').mean().sort_values('price_usd_per_m2', ascending=False).index\n",
    "sns.barplot(x=\"barrio\", y=\"price_usd_per_m2\", order=barrios,data=df_filtered).set_ylim(1500,4000) ,;"
   ]
  },
  {
   "cell_type": "code",
   "execution_count": 45,
   "metadata": {},
   "outputs": [
    {
     "data": {
      "text/plain": [
       "barrio\n",
       "VILLA SOLDATI           1\n",
       "VILLA RIACHUELO         2\n",
       "PUERTO MADERO           4\n",
       "VILLA LUGANO           15\n",
       "NUEVA POMPEYA          18\n",
       "VILLA REAL             22\n",
       "PARQUE AVELLANEDA      28\n",
       "AGRONOMIA              31\n",
       "VERSALLES              32\n",
       "VILLA SANTA RITA       37\n",
       "MATADEROS              39\n",
       "PARQUE PATRICIOS       46\n",
       "VELEZ SARSFIELD        52\n",
       "PATERNAL               52\n",
       "PARQUE CHAS            56\n",
       "BOCA                   59\n",
       "VILLA LURO             59\n",
       "BOEDO                  62\n",
       "MONTE CASTRO           66\n",
       "COGHLAN                67\n",
       "VILLA GRAL. MITRE      69\n",
       "FLORESTA               70\n",
       "VILLA PUEYRREDON       70\n",
       "LINIERS                78\n",
       "PARQUE CHACABUCO       84\n",
       "BARRACAS               95\n",
       "VILLA ORTUZAR          97\n",
       "VILLA DEL PARQUE       99\n",
       "CONSTITUCION           99\n",
       "CHACARITA             102\n",
       "SAN TELMO             108\n",
       "SAN CRISTOBAL         111\n",
       "VILLA DEVOTO          146\n",
       "SAAVEDRA              156\n",
       "MONSERRAT             169\n",
       "COLEGIALES            175\n",
       "NUEZ                  230\n",
       "SAN NICOLAS           245\n",
       "VILLA URQUIZA         300\n",
       "RETIRO                328\n",
       "VILLA CRESPO          356\n",
       "FLORES                370\n",
       "ALMAGRO               443\n",
       "BALVANERA             481\n",
       "CABALLITO             535\n",
       "BELGRANO              595\n",
       "RECOLETA              877\n",
       "PALERMO              1181\n",
       "Name: property_type, dtype: int64"
      ]
     },
     "execution_count": 45,
     "metadata": {},
     "output_type": "execute_result"
    }
   ],
   "source": [
    "total_propiedades_1 = df_filtered.groupby('barrio')['property_type'].count()\n",
    "total_propiedades_1.sort_values()\n"
   ]
  },
  {
   "cell_type": "code",
   "execution_count": 46,
   "metadata": {},
   "outputs": [
    {
     "data": {
      "text/html": [
       "<div>\n",
       "<style scoped>\n",
       "    .dataframe tbody tr th:only-of-type {\n",
       "        vertical-align: middle;\n",
       "    }\n",
       "\n",
       "    .dataframe tbody tr th {\n",
       "        vertical-align: top;\n",
       "    }\n",
       "\n",
       "    .dataframe thead th {\n",
       "        text-align: right;\n",
       "    }\n",
       "</style>\n",
       "<table border=\"1\" class=\"dataframe\">\n",
       "  <thead>\n",
       "    <tr style=\"text-align: right;\">\n",
       "      <th></th>\n",
       "      <th>created_on</th>\n",
       "      <th>operation</th>\n",
       "      <th>property_type</th>\n",
       "      <th>place_with_parent_names</th>\n",
       "      <th>lat-lon</th>\n",
       "      <th>lat</th>\n",
       "      <th>lon</th>\n",
       "      <th>price_aprox_usd</th>\n",
       "      <th>surface_total_in_m2</th>\n",
       "      <th>surface_covered_in_m2</th>\n",
       "      <th>price_usd_per_m2</th>\n",
       "      <th>floor</th>\n",
       "      <th>rooms</th>\n",
       "      <th>expenses</th>\n",
       "      <th>properati_url</th>\n",
       "      <th>barrio</th>\n",
       "      <th>comuna</th>\n",
       "    </tr>\n",
       "  </thead>\n",
       "  <tbody>\n",
       "    <tr>\n",
       "      <td>13141</td>\n",
       "      <td>2017-10-18</td>\n",
       "      <td>sell</td>\n",
       "      <td>apartment</td>\n",
       "      <td>|Argentina|Capital Federal|Puerto Madero|</td>\n",
       "      <td>-34.6098446,-58.3662387</td>\n",
       "      <td>-34.609845</td>\n",
       "      <td>-58.366239</td>\n",
       "      <td>790000.0</td>\n",
       "      <td>218.0</td>\n",
       "      <td>200.0</td>\n",
       "      <td>3623.853211</td>\n",
       "      <td>NaN</td>\n",
       "      <td>4.0</td>\n",
       "      <td>NaN</td>\n",
       "      <td>https://www.properati.com.ar/1h1xa_venta_departamento_puerto-madero_suite_vestidor_vista_garage_subte-linea-d_subte-linea-a_tatana-latorre-lalong_cr9</td>\n",
       "      <td>PUERTO MADERO</td>\n",
       "      <td>1.0</td>\n",
       "    </tr>\n",
       "    <tr>\n",
       "      <td>13192</td>\n",
       "      <td>2017-11-03</td>\n",
       "      <td>sell</td>\n",
       "      <td>apartment</td>\n",
       "      <td>|Argentina|Capital Federal|Puerto Madero|</td>\n",
       "      <td>-34.6021617,-58.3682467</td>\n",
       "      <td>-34.602162</td>\n",
       "      <td>-58.368247</td>\n",
       "      <td>850000.0</td>\n",
       "      <td>235.0</td>\n",
       "      <td>91.0</td>\n",
       "      <td>3617.021277</td>\n",
       "      <td>NaN</td>\n",
       "      <td>3.0</td>\n",
       "      <td>NaN</td>\n",
       "      <td>https://www.properati.com.ar/1hqyl_venta_departamento_puerto-madero_balcon_suite_terraza_vestidor_garage_subte-linea-d_subte-linea-b_subte-linea-a_ginevra-sothebys-international-realty</td>\n",
       "      <td>PUERTO MADERO</td>\n",
       "      <td>1.0</td>\n",
       "    </tr>\n",
       "    <tr>\n",
       "      <td>13316</td>\n",
       "      <td>2018-01-19</td>\n",
       "      <td>sell</td>\n",
       "      <td>apartment</td>\n",
       "      <td>|Argentina|Capital Federal|Puerto Madero|</td>\n",
       "      <td>-34.6072692,-58.3665421</td>\n",
       "      <td>-34.607269</td>\n",
       "      <td>-58.366542</td>\n",
       "      <td>320000.0</td>\n",
       "      <td>115.0</td>\n",
       "      <td>64.0</td>\n",
       "      <td>2782.608696</td>\n",
       "      <td>NaN</td>\n",
       "      <td>3.0</td>\n",
       "      <td>NaN</td>\n",
       "      <td>https://www.properati.com.ar/1jsqw_venta_departamento_puerto-madero_suite_terraza_toilette_luminoso_lujoso_amenities_subte-linea-d_subte-linea-b_subte-linea-a_subte-linea-e_lismar-asoc</td>\n",
       "      <td>PUERTO MADERO</td>\n",
       "      <td>1.0</td>\n",
       "    </tr>\n",
       "    <tr>\n",
       "      <td>13340</td>\n",
       "      <td>2018-01-26</td>\n",
       "      <td>sell</td>\n",
       "      <td>apartment</td>\n",
       "      <td>|Argentina|Capital Federal|Puerto Madero|</td>\n",
       "      <td>-34.6179496,-58.3657518</td>\n",
       "      <td>-34.617950</td>\n",
       "      <td>-58.365752</td>\n",
       "      <td>260000.0</td>\n",
       "      <td>70.0</td>\n",
       "      <td>65.0</td>\n",
       "      <td>3714.285714</td>\n",
       "      <td>NaN</td>\n",
       "      <td>2.0</td>\n",
       "      <td>NaN</td>\n",
       "      <td>https://www.properati.com.ar/1k487_venta_departamento_puerto-madero_balcon_luminoso_vista_garage_platinum-real-estate_dv2</td>\n",
       "      <td>PUERTO MADERO</td>\n",
       "      <td>1.0</td>\n",
       "    </tr>\n",
       "  </tbody>\n",
       "</table>\n",
       "</div>"
      ],
      "text/plain": [
       "      created_on operation property_type  \\\n",
       "13141 2017-10-18      sell     apartment   \n",
       "13192 2017-11-03      sell     apartment   \n",
       "13316 2018-01-19      sell     apartment   \n",
       "13340 2018-01-26      sell     apartment   \n",
       "\n",
       "                         place_with_parent_names                  lat-lon  \\\n",
       "13141  |Argentina|Capital Federal|Puerto Madero|  -34.6098446,-58.3662387   \n",
       "13192  |Argentina|Capital Federal|Puerto Madero|  -34.6021617,-58.3682467   \n",
       "13316  |Argentina|Capital Federal|Puerto Madero|  -34.6072692,-58.3665421   \n",
       "13340  |Argentina|Capital Federal|Puerto Madero|  -34.6179496,-58.3657518   \n",
       "\n",
       "             lat        lon  price_aprox_usd  surface_total_in_m2  \\\n",
       "13141 -34.609845 -58.366239         790000.0                218.0   \n",
       "13192 -34.602162 -58.368247         850000.0                235.0   \n",
       "13316 -34.607269 -58.366542         320000.0                115.0   \n",
       "13340 -34.617950 -58.365752         260000.0                 70.0   \n",
       "\n",
       "       surface_covered_in_m2  price_usd_per_m2  floor  rooms  expenses  \\\n",
       "13141                  200.0       3623.853211    NaN    4.0       NaN   \n",
       "13192                   91.0       3617.021277    NaN    3.0       NaN   \n",
       "13316                   64.0       2782.608696    NaN    3.0       NaN   \n",
       "13340                   65.0       3714.285714    NaN    2.0       NaN   \n",
       "\n",
       "                                                                                                                                                                                  properati_url  \\\n",
       "13141                                     https://www.properati.com.ar/1h1xa_venta_departamento_puerto-madero_suite_vestidor_vista_garage_subte-linea-d_subte-linea-a_tatana-latorre-lalong_cr9   \n",
       "13192  https://www.properati.com.ar/1hqyl_venta_departamento_puerto-madero_balcon_suite_terraza_vestidor_garage_subte-linea-d_subte-linea-b_subte-linea-a_ginevra-sothebys-international-realty   \n",
       "13316  https://www.properati.com.ar/1jsqw_venta_departamento_puerto-madero_suite_terraza_toilette_luminoso_lujoso_amenities_subte-linea-d_subte-linea-b_subte-linea-a_subte-linea-e_lismar-asoc   \n",
       "13340                                                                 https://www.properati.com.ar/1k487_venta_departamento_puerto-madero_balcon_luminoso_vista_garage_platinum-real-estate_dv2   \n",
       "\n",
       "              barrio  comuna  \n",
       "13141  PUERTO MADERO     1.0  \n",
       "13192  PUERTO MADERO     1.0  \n",
       "13316  PUERTO MADERO     1.0  \n",
       "13340  PUERTO MADERO     1.0  "
      ]
     },
     "execution_count": 46,
     "metadata": {},
     "output_type": "execute_result"
    }
   ],
   "source": [
    "df_filtered[df_filtered.barrio == 'PUERTO MADERO']"
   ]
  },
  {
   "cell_type": "code",
   "execution_count": 47,
   "metadata": {},
   "outputs": [
    {
     "data": {
      "text/html": [
       "<div>\n",
       "<style scoped>\n",
       "    .dataframe tbody tr th:only-of-type {\n",
       "        vertical-align: middle;\n",
       "    }\n",
       "\n",
       "    .dataframe tbody tr th {\n",
       "        vertical-align: top;\n",
       "    }\n",
       "\n",
       "    .dataframe thead th {\n",
       "        text-align: right;\n",
       "    }\n",
       "</style>\n",
       "<table border=\"1\" class=\"dataframe\">\n",
       "  <thead>\n",
       "    <tr style=\"text-align: right;\">\n",
       "      <th></th>\n",
       "      <th>created_on</th>\n",
       "      <th>operation</th>\n",
       "      <th>property_type</th>\n",
       "      <th>place_with_parent_names</th>\n",
       "      <th>lat-lon</th>\n",
       "      <th>lat</th>\n",
       "      <th>lon</th>\n",
       "      <th>price_aprox_usd</th>\n",
       "      <th>surface_total_in_m2</th>\n",
       "      <th>surface_covered_in_m2</th>\n",
       "      <th>price_usd_per_m2</th>\n",
       "      <th>floor</th>\n",
       "      <th>rooms</th>\n",
       "      <th>expenses</th>\n",
       "      <th>properati_url</th>\n",
       "      <th>barrio</th>\n",
       "      <th>comuna</th>\n",
       "    </tr>\n",
       "  </thead>\n",
       "  <tbody>\n",
       "    <tr>\n",
       "      <td>18963</td>\n",
       "      <td>2017-09-22</td>\n",
       "      <td>sell</td>\n",
       "      <td>apartment</td>\n",
       "      <td>|Argentina|Capital Federal|Villa Lugano|</td>\n",
       "      <td>-34.662435,-58.466795</td>\n",
       "      <td>-34.662435</td>\n",
       "      <td>-58.466795</td>\n",
       "      <td>88000.0</td>\n",
       "      <td>55.0</td>\n",
       "      <td>55.0</td>\n",
       "      <td>1600.0</td>\n",
       "      <td>NaN</td>\n",
       "      <td>3.0</td>\n",
       "      <td>NaN</td>\n",
       "      <td>https://www.properati.com.ar/1fakt_venta_departamento_villa-lugano_balcon_luminoso_garage_impecable_apto-credito-hipotecario_gabriel-torres-inmobiliaria</td>\n",
       "      <td>VILLA SOLDATI</td>\n",
       "      <td>8.0</td>\n",
       "    </tr>\n",
       "  </tbody>\n",
       "</table>\n",
       "</div>"
      ],
      "text/plain": [
       "      created_on operation property_type  \\\n",
       "18963 2017-09-22      sell     apartment   \n",
       "\n",
       "                        place_with_parent_names                lat-lon  \\\n",
       "18963  |Argentina|Capital Federal|Villa Lugano|  -34.662435,-58.466795   \n",
       "\n",
       "             lat        lon  price_aprox_usd  surface_total_in_m2  \\\n",
       "18963 -34.662435 -58.466795          88000.0                 55.0   \n",
       "\n",
       "       surface_covered_in_m2  price_usd_per_m2  floor  rooms  expenses  \\\n",
       "18963                   55.0            1600.0    NaN    3.0       NaN   \n",
       "\n",
       "                                                                                                                                                  properati_url  \\\n",
       "18963  https://www.properati.com.ar/1fakt_venta_departamento_villa-lugano_balcon_luminoso_garage_impecable_apto-credito-hipotecario_gabriel-torres-inmobiliaria   \n",
       "\n",
       "              barrio  comuna  \n",
       "18963  VILLA SOLDATI     8.0  "
      ]
     },
     "execution_count": 47,
     "metadata": {},
     "output_type": "execute_result"
    }
   ],
   "source": [
    "df_filtered[df_filtered.barrio == 'VILLA SOLDATI']"
   ]
  },
  {
   "cell_type": "markdown",
   "metadata": {},
   "source": [
    "#### Más caros"
   ]
  },
  {
   "cell_type": "code",
   "execution_count": 48,
   "metadata": {},
   "outputs": [
    {
     "data": {
      "text/html": [
       "<div>\n",
       "<style scoped>\n",
       "    .dataframe tbody tr th:only-of-type {\n",
       "        vertical-align: middle;\n",
       "    }\n",
       "\n",
       "    .dataframe tbody tr th {\n",
       "        vertical-align: top;\n",
       "    }\n",
       "\n",
       "    .dataframe thead th {\n",
       "        text-align: right;\n",
       "    }\n",
       "</style>\n",
       "<table border=\"1\" class=\"dataframe\">\n",
       "  <thead>\n",
       "    <tr style=\"text-align: right;\">\n",
       "      <th></th>\n",
       "      <th>price_usd_per_m2</th>\n",
       "    </tr>\n",
       "    <tr>\n",
       "      <th>barrio</th>\n",
       "      <th></th>\n",
       "    </tr>\n",
       "  </thead>\n",
       "  <tbody>\n",
       "    <tr>\n",
       "      <td>PUERTO MADERO</td>\n",
       "      <td>3434.442224</td>\n",
       "    </tr>\n",
       "    <tr>\n",
       "      <td>PALERMO</td>\n",
       "      <td>3104.273152</td>\n",
       "    </tr>\n",
       "    <tr>\n",
       "      <td>RECOLETA</td>\n",
       "      <td>2992.544294</td>\n",
       "    </tr>\n",
       "    <tr>\n",
       "      <td>BELGRANO</td>\n",
       "      <td>2966.662695</td>\n",
       "    </tr>\n",
       "    <tr>\n",
       "      <td>RETIRO</td>\n",
       "      <td>2954.140159</td>\n",
       "    </tr>\n",
       "  </tbody>\n",
       "</table>\n",
       "</div>"
      ],
      "text/plain": [
       "               price_usd_per_m2\n",
       "barrio                         \n",
       "PUERTO MADERO       3434.442224\n",
       "PALERMO             3104.273152\n",
       "RECOLETA            2992.544294\n",
       "BELGRANO            2966.662695\n",
       "RETIRO              2954.140159"
      ]
     },
     "execution_count": 48,
     "metadata": {},
     "output_type": "execute_result"
    }
   ],
   "source": [
    "table = pd.pivot_table(df_filtered, values='price_usd_per_m2', index=['barrio'], aggfunc=np.mean)\n",
    "mas_caros = table.sort_values('price_usd_per_m2', ascending=False).iloc[:5]\n",
    "mas_caros"
   ]
  },
  {
   "cell_type": "markdown",
   "metadata": {},
   "source": [
    "#### Más baratos"
   ]
  },
  {
   "cell_type": "code",
   "execution_count": 49,
   "metadata": {},
   "outputs": [
    {
     "data": {
      "text/html": [
       "<div>\n",
       "<style scoped>\n",
       "    .dataframe tbody tr th:only-of-type {\n",
       "        vertical-align: middle;\n",
       "    }\n",
       "\n",
       "    .dataframe tbody tr th {\n",
       "        vertical-align: top;\n",
       "    }\n",
       "\n",
       "    .dataframe thead th {\n",
       "        text-align: right;\n",
       "    }\n",
       "</style>\n",
       "<table border=\"1\" class=\"dataframe\">\n",
       "  <thead>\n",
       "    <tr style=\"text-align: right;\">\n",
       "      <th></th>\n",
       "      <th>price_usd_per_m2</th>\n",
       "    </tr>\n",
       "    <tr>\n",
       "      <th>barrio</th>\n",
       "      <th></th>\n",
       "    </tr>\n",
       "  </thead>\n",
       "  <tbody>\n",
       "    <tr>\n",
       "      <td>VILLA SOLDATI</td>\n",
       "      <td>1600.000000</td>\n",
       "    </tr>\n",
       "    <tr>\n",
       "      <td>PARQUE PATRICIOS</td>\n",
       "      <td>2027.830735</td>\n",
       "    </tr>\n",
       "    <tr>\n",
       "      <td>PARQUE AVELLANEDA</td>\n",
       "      <td>2027.910632</td>\n",
       "    </tr>\n",
       "    <tr>\n",
       "      <td>VELEZ SARSFIELD</td>\n",
       "      <td>2028.688869</td>\n",
       "    </tr>\n",
       "    <tr>\n",
       "      <td>FLORESTA</td>\n",
       "      <td>2035.022951</td>\n",
       "    </tr>\n",
       "  </tbody>\n",
       "</table>\n",
       "</div>"
      ],
      "text/plain": [
       "                   price_usd_per_m2\n",
       "barrio                             \n",
       "VILLA SOLDATI           1600.000000\n",
       "PARQUE PATRICIOS        2027.830735\n",
       "PARQUE AVELLANEDA       2027.910632\n",
       "VELEZ SARSFIELD         2028.688869\n",
       "FLORESTA                2035.022951"
      ]
     },
     "execution_count": 49,
     "metadata": {},
     "output_type": "execute_result"
    }
   ],
   "source": [
    "table = pd.pivot_table(df_filtered, values='price_usd_per_m2', index=['barrio'], aggfunc=np.mean)\n",
    "mas_baratos = table.sort_values('price_usd_per_m2', ascending=True).iloc[:5]\n",
    "mas_baratos"
   ]
  },
  {
   "cell_type": "markdown",
   "metadata": {},
   "source": [
    "## Graficando propiedades de los barrios\n",
    "\n",
    "Ahora que ya sabemos cuales son los barrios más caros y cuales son los más baratos vamos a ver algunas comparaciones gráficas para entender mejor sus diferencias en diferentes atributos del dataset. Vamos a ver las distribuciones según:\n",
    "- Superficie total en m2\n",
    "- Cuartos totales \n",
    "- Precio en dolares por m2"
   ]
  },
  {
   "cell_type": "code",
   "execution_count": 50,
   "metadata": {},
   "outputs": [],
   "source": [
    "barrios_caros = mas_caros.index \n",
    "barrios_baratos = mas_baratos.index\n"
   ]
  },
  {
   "cell_type": "code",
   "execution_count": 51,
   "metadata": {},
   "outputs": [
    {
     "data": {
      "text/plain": [
       "<matplotlib.legend.Legend at 0x204aed0ad08>"
      ]
     },
     "execution_count": 51,
     "metadata": {},
     "output_type": "execute_result"
    },
    {
     "data": {
      "image/png": "[encoded data removed]",
      "text/plain": [
       "<Figure size 864x576 with 1 Axes>"
      ]
     },
     "metadata": {},
     "output_type": "display_data"
    }
   ],
   "source": [
    "g = sns.distplot(df_filtered[df_filtered.barrio.isin(barrios_baratos)].surface_total_in_m2, label=\"Barrios baratos\")\n",
    "sns.distplot(df_filtered[df_filtered.barrio.isin(barrios_caros)].surface_total_in_m2, label=\"Barrios caros\")\n",
    "g.set_xlim(0, 400)\n",
    "plt.legend()"
   ]
  },
  {
   "cell_type": "code",
   "execution_count": 52,
   "metadata": {},
   "outputs": [
    {
     "data": {
      "text/plain": [
       "<matplotlib.legend.Legend at 0x204aee2c488>"
      ]
     },
     "execution_count": 52,
     "metadata": {},
     "output_type": "execute_result"
    },
    {
     "data": {
      "image/png": "[encoded data removed]",
      "text/plain": [
       "<Figure size 864x576 with 1 Axes>"
      ]
     },
     "metadata": {},
     "output_type": "display_data"
    }
   ],
   "source": [
    "g = sns.distplot(df_filtered[df_filtered.barrio.isin(barrios_baratos)].rooms, label=\"Barrios baratos\")\n",
    "sns.distplot(df_filtered[df_filtered.barrio.isin(barrios_caros)].rooms, label=\"Barrios caros\")\n",
    "g.set_xlim(0, 10)\n",
    "plt.legend()"
   ]
  },
  {
   "cell_type": "code",
   "execution_count": 53,
   "metadata": {},
   "outputs": [
    {
     "data": {
      "text/plain": [
       "<matplotlib.legend.Legend at 0x204af7981c8>"
      ]
     },
     "execution_count": 53,
     "metadata": {},
     "output_type": "execute_result"
    },
    {
     "data": {
      "image/png": "[encoded data removed]",
      "text/plain": [
       "<Figure size 864x576 with 1 Axes>"
      ]
     },
     "metadata": {},
     "output_type": "display_data"
    }
   ],
   "source": [
    "g = sns.distplot(df_filtered[df_filtered.barrio.isin(barrios_baratos)].price_usd_per_m2, label=\"Barrios baratos\")\n",
    "sns.distplot(df_filtered[df_filtered.barrio.isin(barrios_caros)].price_usd_per_m2, label=\"Barrios caros\")\n",
    "plt.legend()"
   ]
  },
  {
   "cell_type": "markdown",
   "metadata": {},
   "source": [
    "### Barrios que quieren ser otros"
   ]
  },
  {
   "cell_type": "markdown",
   "metadata": {},
   "source": [
    "Basado en información de mercado, desde el portal Properati han señalado que las inmobiliarias suelen publicar las propiedades ubicadas en barrios que no necesariamente se corresponden con la ubicación geográfica real. Según mencionan en la nota ([blog)](http://blog.properati.com.ar/barrios-que-quieren-ser-otros/), esto corresponde a una lógica comercial en el corredor norte y a usos y costumbres en zona oeste.\n",
    "\n",
    "Analicemos qué sucede para nuestro dataset."
   ]
  },
  {
   "cell_type": "markdown",
   "metadata": {},
   "source": [
    "Dada la estructura del atributo `place_with_parent_names`, en primer lugar vamos a extraer el campo asociado al barrio publicado para poder comparar con el que surge de la cartografía oficial. Esto lo vamos a agregar en una nueva columna llamada `barrio_publicado`. \n",
    "\n",
    "De este modo, lo que vamos a analizar es como se relacionan las columnas `barrio` y `barrio publicado`. Si efectivamente hay barrios que quieren ser otros, esperaríamos ver propiedades ubicadas en geográficamente en un barrio distinto al que dice la publicación. Por ejemplo, si una propiedad está ubicada (dadas sus coordenadas) en Villa Crespo pero en la publicación dice Palermo, entonces decimos que hay indicios que Villa Crespo quiere ser Palermo.\n",
    "\n",
    "Viendo la estructura de este atributo, podemos notar que se compone por una sequencia de lugares separados por `|`. Por ejemplo, en `|Argentina|Capital Federal|Palermo|` vemos que primero está el país, luego la ciudad, luego el barrio y en algunos casos hay una jerarquía más, relacionado con zonas dentro del barrio (como Palermo Soho dentro de Palermo). \n",
    "\n",
    "De este modo, una estrategia posible para resolver esto es separar las jerarquías por `|` y extraer el elemento asociado al barrio. Por ejemplo, para `|Argentina|Capital Federal|Palermo|` queda `['', 'Argentina', 'Capital Federal', 'Palermo', '']`. Extrayendo el tercer elemento obtendremos el barrio independientemente de si hay lugares luego en la jerarquía. Aquellos que no tengan barrio no serán considerados puesto que estarían ubicados en Capital Federal y no sería informativo.\n",
    "\n",
    "Lo pasamos a mayúsculas y quitamos las tildes para poder comparar con el barrio oficial."
   ]
  },
  {
   "cell_type": "code",
   "execution_count": 54,
   "metadata": {},
   "outputs": [
    {
     "data": {
      "text/plain": [
       "18       5\n",
       "22       6\n",
       "24       6\n",
       "29       5\n",
       "35       6\n",
       "        ..\n",
       "18955    5\n",
       "18956    5\n",
       "18959    5\n",
       "18960    5\n",
       "18963    5\n",
       "Name: place_with_parent_names, Length: 8417, dtype: int64"
      ]
     },
     "execution_count": 54,
     "metadata": {},
     "output_type": "execute_result"
    }
   ],
   "source": [
    "df_filtered['place_with_parent_names'].apply(lambda x: len(x.split(\"|\")))\n"
   ]
  },
  {
   "cell_type": "code",
   "execution_count": 55,
   "metadata": {},
   "outputs": [
    {
     "data": {
      "text/plain": [
       "18                         |Argentina|Capital Federal|Palermo|\n",
       "22       |Argentina|Capital Federal|Palermo|Palermo Hollywood|\n",
       "24       |Argentina|Capital Federal|Palermo|Palermo Hollywood|\n",
       "29                         |Argentina|Capital Federal|Palermo|\n",
       "35       |Argentina|Capital Federal|Palermo|Palermo Hollywood|\n",
       "                                 ...                          \n",
       "18955                |Argentina|Capital Federal|Villa Urquiza|\n",
       "18956                    |Argentina|Capital Federal|Agronomía|\n",
       "18959             |Argentina|Capital Federal|Villa Pueyrredón|\n",
       "18960             |Argentina|Capital Federal|Villa Pueyrredón|\n",
       "18963                 |Argentina|Capital Federal|Villa Lugano|\n",
       "Name: place_with_parent_names, Length: 8417, dtype: object"
      ]
     },
     "execution_count": 55,
     "metadata": {},
     "output_type": "execute_result"
    }
   ],
   "source": [
    "df_filtered.place_with_parent_names"
   ]
  },
  {
   "cell_type": "markdown",
   "metadata": {},
   "source": [
    "<font color='green'> Nueva modificación en el data frame **df_filtered** que filtra solo las instancias donde existe el barrio (al menos hay 4 separadores |)  </font> "
   ]
  },
  {
   "cell_type": "markdown",
   "metadata": {},
   "source": [
    "Como algunos tienen 4 elementos, debemos quitarlos."
   ]
  },
  {
   "cell_type": "code",
   "execution_count": 56,
   "metadata": {},
   "outputs": [
    {
     "data": {
      "text/html": [
       "<div>\n",
       "<style scoped>\n",
       "    .dataframe tbody tr th:only-of-type {\n",
       "        vertical-align: middle;\n",
       "    }\n",
       "\n",
       "    .dataframe tbody tr th {\n",
       "        vertical-align: top;\n",
       "    }\n",
       "\n",
       "    .dataframe thead th {\n",
       "        text-align: right;\n",
       "    }\n",
       "</style>\n",
       "<table border=\"1\" class=\"dataframe\">\n",
       "  <thead>\n",
       "    <tr style=\"text-align: right;\">\n",
       "      <th></th>\n",
       "      <th>created_on</th>\n",
       "      <th>operation</th>\n",
       "      <th>property_type</th>\n",
       "      <th>place_with_parent_names</th>\n",
       "      <th>lat-lon</th>\n",
       "      <th>lat</th>\n",
       "      <th>lon</th>\n",
       "      <th>price_aprox_usd</th>\n",
       "      <th>surface_total_in_m2</th>\n",
       "      <th>surface_covered_in_m2</th>\n",
       "      <th>price_usd_per_m2</th>\n",
       "      <th>floor</th>\n",
       "      <th>rooms</th>\n",
       "      <th>expenses</th>\n",
       "      <th>properati_url</th>\n",
       "      <th>barrio</th>\n",
       "      <th>comuna</th>\n",
       "    </tr>\n",
       "  </thead>\n",
       "  <tbody>\n",
       "    <tr>\n",
       "      <td>18</td>\n",
       "      <td>2017-08-29</td>\n",
       "      <td>sell</td>\n",
       "      <td>apartment</td>\n",
       "      <td>|Argentina|Capital Federal|Palermo|</td>\n",
       "      <td>-34.588912403,-58.4134942185</td>\n",
       "      <td>-34.588912</td>\n",
       "      <td>-58.413494</td>\n",
       "      <td>340000.0</td>\n",
       "      <td>130.0</td>\n",
       "      <td>120.0</td>\n",
       "      <td>2615.384615</td>\n",
       "      <td>NaN</td>\n",
       "      <td>4.0</td>\n",
       "      <td>8000.0</td>\n",
       "      <td>https://www.properati.com.ar/1dzv6_venta_departamento_palermo_guemes_3600_balcon_suite_jardin_lavadero_luminoso_lujoso_dependencias_placard_doble-circulacion_subte-linea-d_luisio-propiedades-suc-virrey-del-pino-2378</td>\n",
       "      <td>PALERMO</td>\n",
       "      <td>14.0</td>\n",
       "    </tr>\n",
       "    <tr>\n",
       "      <td>22</td>\n",
       "      <td>2017-08-30</td>\n",
       "      <td>sell</td>\n",
       "      <td>house</td>\n",
       "      <td>|Argentina|Capital Federal|Palermo|Palermo Hollywood|</td>\n",
       "      <td>-34.5793535,-58.4364489</td>\n",
       "      <td>-34.579354</td>\n",
       "      <td>-58.436449</td>\n",
       "      <td>1200000.0</td>\n",
       "      <td>532.0</td>\n",
       "      <td>334.0</td>\n",
       "      <td>2255.639098</td>\n",
       "      <td>NaN</td>\n",
       "      <td>6.0</td>\n",
       "      <td>NaN</td>\n",
       "      <td>https://www.properati.com.ar/1e1ve_venta_casa_palermo-hollywood_jardin_lavadero_piscina_luminoso_vista_garage_nexo-propiedades_h0z</td>\n",
       "      <td>PALERMO</td>\n",
       "      <td>14.0</td>\n",
       "    </tr>\n",
       "    <tr>\n",
       "      <td>24</td>\n",
       "      <td>2017-08-30</td>\n",
       "      <td>sell</td>\n",
       "      <td>apartment</td>\n",
       "      <td>|Argentina|Capital Federal|Palermo|Palermo Hollywood|</td>\n",
       "      <td>-34.5809281,-58.4404321</td>\n",
       "      <td>-34.580928</td>\n",
       "      <td>-58.440432</td>\n",
       "      <td>270000.0</td>\n",
       "      <td>67.0</td>\n",
       "      <td>64.0</td>\n",
       "      <td>4029.850746</td>\n",
       "      <td>NaN</td>\n",
       "      <td>3.0</td>\n",
       "      <td>3900.0</td>\n",
       "      <td>https://www.properati.com.ar/1e1x0_venta_departamento_palermo-hollywood_arevalo_1700_balcon_toilette_luminoso_apto-credito-hipotecario_yankel-group</td>\n",
       "      <td>PALERMO</td>\n",
       "      <td>14.0</td>\n",
       "    </tr>\n",
       "    <tr>\n",
       "      <td>29</td>\n",
       "      <td>2017-08-30</td>\n",
       "      <td>sell</td>\n",
       "      <td>apartment</td>\n",
       "      <td>|Argentina|Capital Federal|Palermo|</td>\n",
       "      <td>-34.594251,-58.4166447</td>\n",
       "      <td>-34.594251</td>\n",
       "      <td>-58.416645</td>\n",
       "      <td>250000.0</td>\n",
       "      <td>67.0</td>\n",
       "      <td>60.0</td>\n",
       "      <td>3731.343284</td>\n",
       "      <td>NaN</td>\n",
       "      <td>2.0</td>\n",
       "      <td>NaN</td>\n",
       "      <td>https://www.properati.com.ar/1e2mz_venta_departamento_palermo_balcon_lavadero_parrilla_piscina_aire-acondicionado_apto-credito-hipotecario_ageo-propiedades_dwr</td>\n",
       "      <td>PALERMO</td>\n",
       "      <td>14.0</td>\n",
       "    </tr>\n",
       "    <tr>\n",
       "      <td>35</td>\n",
       "      <td>2017-08-31</td>\n",
       "      <td>sell</td>\n",
       "      <td>apartment</td>\n",
       "      <td>|Argentina|Capital Federal|Palermo|Palermo Hollywood|</td>\n",
       "      <td>-34.5825677,-58.4329982</td>\n",
       "      <td>-34.582568</td>\n",
       "      <td>-58.432998</td>\n",
       "      <td>198000.0</td>\n",
       "      <td>64.0</td>\n",
       "      <td>48.0</td>\n",
       "      <td>3093.750000</td>\n",
       "      <td>NaN</td>\n",
       "      <td>2.0</td>\n",
       "      <td>NaN</td>\n",
       "      <td>https://www.properati.com.ar/1e4f0_venta_departamento_palermo-hollywood_balcon_terraza_luminoso_amenities_aire-acondicionado_arkis-inmobiliaria_eoh</td>\n",
       "      <td>PALERMO</td>\n",
       "      <td>14.0</td>\n",
       "    </tr>\n",
       "    <tr>\n",
       "      <td>...</td>\n",
       "      <td>...</td>\n",
       "      <td>...</td>\n",
       "      <td>...</td>\n",
       "      <td>...</td>\n",
       "      <td>...</td>\n",
       "      <td>...</td>\n",
       "      <td>...</td>\n",
       "      <td>...</td>\n",
       "      <td>...</td>\n",
       "      <td>...</td>\n",
       "      <td>...</td>\n",
       "      <td>...</td>\n",
       "      <td>...</td>\n",
       "      <td>...</td>\n",
       "      <td>...</td>\n",
       "      <td>...</td>\n",
       "      <td>...</td>\n",
       "    </tr>\n",
       "    <tr>\n",
       "      <td>18955</td>\n",
       "      <td>2018-01-26</td>\n",
       "      <td>sell</td>\n",
       "      <td>apartment</td>\n",
       "      <td>|Argentina|Capital Federal|Villa Urquiza|</td>\n",
       "      <td>-34.5869610349,-58.4991220286</td>\n",
       "      <td>-34.586961</td>\n",
       "      <td>-58.499122</td>\n",
       "      <td>145000.0</td>\n",
       "      <td>55.0</td>\n",
       "      <td>52.0</td>\n",
       "      <td>2636.363636</td>\n",
       "      <td>NaN</td>\n",
       "      <td>3.0</td>\n",
       "      <td>NaN</td>\n",
       "      <td>https://www.properati.com.ar/1k4up_venta_departamento_villa-urquiza_riveros-negocios-inmobiliarios</td>\n",
       "      <td>VILLA PUEYRREDON</td>\n",
       "      <td>12.0</td>\n",
       "    </tr>\n",
       "    <tr>\n",
       "      <td>18956</td>\n",
       "      <td>2018-01-26</td>\n",
       "      <td>sell</td>\n",
       "      <td>apartment</td>\n",
       "      <td>|Argentina|Capital Federal|Agronomía|</td>\n",
       "      <td>-34.5857925673,-58.4991678032</td>\n",
       "      <td>-34.585793</td>\n",
       "      <td>-58.499168</td>\n",
       "      <td>145000.0</td>\n",
       "      <td>55.0</td>\n",
       "      <td>52.0</td>\n",
       "      <td>2636.363636</td>\n",
       "      <td>NaN</td>\n",
       "      <td>3.0</td>\n",
       "      <td>NaN</td>\n",
       "      <td>https://www.properati.com.ar/1k4uq_venta_departamento_agronomia_riveros-negocios-inmobiliarios</td>\n",
       "      <td>VILLA PUEYRREDON</td>\n",
       "      <td>12.0</td>\n",
       "    </tr>\n",
       "    <tr>\n",
       "      <td>18959</td>\n",
       "      <td>2018-01-29</td>\n",
       "      <td>sell</td>\n",
       "      <td>PH</td>\n",
       "      <td>|Argentina|Capital Federal|Villa Pueyrredón|</td>\n",
       "      <td>-34.5848,-58.490567</td>\n",
       "      <td>-34.584800</td>\n",
       "      <td>-58.490567</td>\n",
       "      <td>289900.0</td>\n",
       "      <td>180.0</td>\n",
       "      <td>180.0</td>\n",
       "      <td>1610.555556</td>\n",
       "      <td>NaN</td>\n",
       "      <td>4.0</td>\n",
       "      <td>NaN</td>\n",
       "      <td>https://www.properati.com.ar/1k7w1_venta_ph_villa-pueyrredon_lavadero_parrilla_patio_quincho_terraza_luminoso_amoblado_impecable_placard_aire-acondicionado_re-max-premium-ii</td>\n",
       "      <td>VILLA PUEYRREDON</td>\n",
       "      <td>12.0</td>\n",
       "    </tr>\n",
       "    <tr>\n",
       "      <td>18960</td>\n",
       "      <td>2018-01-31</td>\n",
       "      <td>sell</td>\n",
       "      <td>apartment</td>\n",
       "      <td>|Argentina|Capital Federal|Villa Pueyrredón|</td>\n",
       "      <td>-34.582448,-58.507942</td>\n",
       "      <td>-34.582448</td>\n",
       "      <td>-58.507942</td>\n",
       "      <td>115000.0</td>\n",
       "      <td>50.0</td>\n",
       "      <td>50.0</td>\n",
       "      <td>2300.000000</td>\n",
       "      <td>6.0</td>\n",
       "      <td>2.0</td>\n",
       "      <td>NaN</td>\n",
       "      <td>https://www.properati.com.ar/1kb1t_venta_departamento_villa-pueyrredon_luminoso_placard_re-max-lagos</td>\n",
       "      <td>VILLA PUEYRREDON</td>\n",
       "      <td>12.0</td>\n",
       "    </tr>\n",
       "    <tr>\n",
       "      <td>18963</td>\n",
       "      <td>2017-09-22</td>\n",
       "      <td>sell</td>\n",
       "      <td>apartment</td>\n",
       "      <td>|Argentina|Capital Federal|Villa Lugano|</td>\n",
       "      <td>-34.662435,-58.466795</td>\n",
       "      <td>-34.662435</td>\n",
       "      <td>-58.466795</td>\n",
       "      <td>88000.0</td>\n",
       "      <td>55.0</td>\n",
       "      <td>55.0</td>\n",
       "      <td>1600.000000</td>\n",
       "      <td>NaN</td>\n",
       "      <td>3.0</td>\n",
       "      <td>NaN</td>\n",
       "      <td>https://www.properati.com.ar/1fakt_venta_departamento_villa-lugano_balcon_luminoso_garage_impecable_apto-credito-hipotecario_gabriel-torres-inmobiliaria</td>\n",
       "      <td>VILLA SOLDATI</td>\n",
       "      <td>8.0</td>\n",
       "    </tr>\n",
       "  </tbody>\n",
       "</table>\n",
       "<p>8409 rows × 17 columns</p>\n",
       "</div>"
      ],
      "text/plain": [
       "      created_on operation property_type  \\\n",
       "18    2017-08-29      sell     apartment   \n",
       "22    2017-08-30      sell         house   \n",
       "24    2017-08-30      sell     apartment   \n",
       "29    2017-08-30      sell     apartment   \n",
       "35    2017-08-31      sell     apartment   \n",
       "...          ...       ...           ...   \n",
       "18955 2018-01-26      sell     apartment   \n",
       "18956 2018-01-26      sell     apartment   \n",
       "18959 2018-01-29      sell            PH   \n",
       "18960 2018-01-31      sell     apartment   \n",
       "18963 2017-09-22      sell     apartment   \n",
       "\n",
       "                                     place_with_parent_names  \\\n",
       "18                       |Argentina|Capital Federal|Palermo|   \n",
       "22     |Argentina|Capital Federal|Palermo|Palermo Hollywood|   \n",
       "24     |Argentina|Capital Federal|Palermo|Palermo Hollywood|   \n",
       "29                       |Argentina|Capital Federal|Palermo|   \n",
       "35     |Argentina|Capital Federal|Palermo|Palermo Hollywood|   \n",
       "...                                                      ...   \n",
       "18955              |Argentina|Capital Federal|Villa Urquiza|   \n",
       "18956                  |Argentina|Capital Federal|Agronomía|   \n",
       "18959           |Argentina|Capital Federal|Villa Pueyrredón|   \n",
       "18960           |Argentina|Capital Federal|Villa Pueyrredón|   \n",
       "18963               |Argentina|Capital Federal|Villa Lugano|   \n",
       "\n",
       "                             lat-lon        lat        lon  price_aprox_usd  \\\n",
       "18      -34.588912403,-58.4134942185 -34.588912 -58.413494         340000.0   \n",
       "22           -34.5793535,-58.4364489 -34.579354 -58.436449        1200000.0   \n",
       "24           -34.5809281,-58.4404321 -34.580928 -58.440432         270000.0   \n",
       "29            -34.594251,-58.4166447 -34.594251 -58.416645         250000.0   \n",
       "35           -34.5825677,-58.4329982 -34.582568 -58.432998         198000.0   \n",
       "...                              ...        ...        ...              ...   \n",
       "18955  -34.5869610349,-58.4991220286 -34.586961 -58.499122         145000.0   \n",
       "18956  -34.5857925673,-58.4991678032 -34.585793 -58.499168         145000.0   \n",
       "18959            -34.5848,-58.490567 -34.584800 -58.490567         289900.0   \n",
       "18960          -34.582448,-58.507942 -34.582448 -58.507942         115000.0   \n",
       "18963          -34.662435,-58.466795 -34.662435 -58.466795          88000.0   \n",
       "\n",
       "       surface_total_in_m2  surface_covered_in_m2  price_usd_per_m2  floor  \\\n",
       "18                   130.0                  120.0       2615.384615    NaN   \n",
       "22                   532.0                  334.0       2255.639098    NaN   \n",
       "24                    67.0                   64.0       4029.850746    NaN   \n",
       "29                    67.0                   60.0       3731.343284    NaN   \n",
       "35                    64.0                   48.0       3093.750000    NaN   \n",
       "...                    ...                    ...               ...    ...   \n",
       "18955                 55.0                   52.0       2636.363636    NaN   \n",
       "18956                 55.0                   52.0       2636.363636    NaN   \n",
       "18959                180.0                  180.0       1610.555556    NaN   \n",
       "18960                 50.0                   50.0       2300.000000    6.0   \n",
       "18963                 55.0                   55.0       1600.000000    NaN   \n",
       "\n",
       "       rooms  expenses  \\\n",
       "18       4.0    8000.0   \n",
       "22       6.0       NaN   \n",
       "24       3.0    3900.0   \n",
       "29       2.0       NaN   \n",
       "35       2.0       NaN   \n",
       "...      ...       ...   \n",
       "18955    3.0       NaN   \n",
       "18956    3.0       NaN   \n",
       "18959    4.0       NaN   \n",
       "18960    2.0       NaN   \n",
       "18963    3.0       NaN   \n",
       "\n",
       "                                                                                                                                                                                                                 properati_url  \\\n",
       "18     https://www.properati.com.ar/1dzv6_venta_departamento_palermo_guemes_3600_balcon_suite_jardin_lavadero_luminoso_lujoso_dependencias_placard_doble-circulacion_subte-linea-d_luisio-propiedades-suc-virrey-del-pino-2378   \n",
       "22                                                                                          https://www.properati.com.ar/1e1ve_venta_casa_palermo-hollywood_jardin_lavadero_piscina_luminoso_vista_garage_nexo-propiedades_h0z   \n",
       "24                                                                         https://www.properati.com.ar/1e1x0_venta_departamento_palermo-hollywood_arevalo_1700_balcon_toilette_luminoso_apto-credito-hipotecario_yankel-group   \n",
       "29                                                             https://www.properati.com.ar/1e2mz_venta_departamento_palermo_balcon_lavadero_parrilla_piscina_aire-acondicionado_apto-credito-hipotecario_ageo-propiedades_dwr   \n",
       "35                                                                         https://www.properati.com.ar/1e4f0_venta_departamento_palermo-hollywood_balcon_terraza_luminoso_amenities_aire-acondicionado_arkis-inmobiliaria_eoh   \n",
       "...                                                                                                                                                                                                                        ...   \n",
       "18955                                                                                                                       https://www.properati.com.ar/1k4up_venta_departamento_villa-urquiza_riveros-negocios-inmobiliarios   \n",
       "18956                                                                                                                           https://www.properati.com.ar/1k4uq_venta_departamento_agronomia_riveros-negocios-inmobiliarios   \n",
       "18959                                            https://www.properati.com.ar/1k7w1_venta_ph_villa-pueyrredon_lavadero_parrilla_patio_quincho_terraza_luminoso_amoblado_impecable_placard_aire-acondicionado_re-max-premium-ii   \n",
       "18960                                                                                                                     https://www.properati.com.ar/1kb1t_venta_departamento_villa-pueyrredon_luminoso_placard_re-max-lagos   \n",
       "18963                                                                 https://www.properati.com.ar/1fakt_venta_departamento_villa-lugano_balcon_luminoso_garage_impecable_apto-credito-hipotecario_gabriel-torres-inmobiliaria   \n",
       "\n",
       "                 barrio  comuna  \n",
       "18              PALERMO    14.0  \n",
       "22              PALERMO    14.0  \n",
       "24              PALERMO    14.0  \n",
       "29              PALERMO    14.0  \n",
       "35              PALERMO    14.0  \n",
       "...                 ...     ...  \n",
       "18955  VILLA PUEYRREDON    12.0  \n",
       "18956  VILLA PUEYRREDON    12.0  \n",
       "18959  VILLA PUEYRREDON    12.0  \n",
       "18960  VILLA PUEYRREDON    12.0  \n",
       "18963     VILLA SOLDATI     8.0  \n",
       "\n",
       "[8409 rows x 17 columns]"
      ]
     },
     "execution_count": 56,
     "metadata": {},
     "output_type": "execute_result"
    }
   ],
   "source": [
    "split_place_filter = df_filtered['place_with_parent_names'].apply(lambda x: len(x.split(\"|\"))!=4)\n",
    "df_filtered = df_filtered.loc[split_place_filter]\n",
    "df_filtered"
   ]
  },
  {
   "cell_type": "code",
   "execution_count": 57,
   "metadata": {},
   "outputs": [
    {
     "data": {
      "text/html": [
       "<div>\n",
       "<style scoped>\n",
       "    .dataframe tbody tr th:only-of-type {\n",
       "        vertical-align: middle;\n",
       "    }\n",
       "\n",
       "    .dataframe tbody tr th {\n",
       "        vertical-align: top;\n",
       "    }\n",
       "\n",
       "    .dataframe thead th {\n",
       "        text-align: right;\n",
       "    }\n",
       "</style>\n",
       "<table border=\"1\" class=\"dataframe\">\n",
       "  <thead>\n",
       "    <tr style=\"text-align: right;\">\n",
       "      <th></th>\n",
       "      <th>barrio_publicado</th>\n",
       "      <th>place_with_parent_names</th>\n",
       "    </tr>\n",
       "  </thead>\n",
       "  <tbody>\n",
       "    <tr>\n",
       "      <td>18</td>\n",
       "      <td>PALERMO</td>\n",
       "      <td>|Argentina|Capital Federal|Palermo|</td>\n",
       "    </tr>\n",
       "    <tr>\n",
       "      <td>22</td>\n",
       "      <td>PALERMO</td>\n",
       "      <td>|Argentina|Capital Federal|Palermo|Palermo Hollywood|</td>\n",
       "    </tr>\n",
       "    <tr>\n",
       "      <td>24</td>\n",
       "      <td>PALERMO</td>\n",
       "      <td>|Argentina|Capital Federal|Palermo|Palermo Hollywood|</td>\n",
       "    </tr>\n",
       "    <tr>\n",
       "      <td>29</td>\n",
       "      <td>PALERMO</td>\n",
       "      <td>|Argentina|Capital Federal|Palermo|</td>\n",
       "    </tr>\n",
       "    <tr>\n",
       "      <td>35</td>\n",
       "      <td>PALERMO</td>\n",
       "      <td>|Argentina|Capital Federal|Palermo|Palermo Hollywood|</td>\n",
       "    </tr>\n",
       "    <tr>\n",
       "      <td>...</td>\n",
       "      <td>...</td>\n",
       "      <td>...</td>\n",
       "    </tr>\n",
       "    <tr>\n",
       "      <td>18955</td>\n",
       "      <td>VILLA URQUIZA</td>\n",
       "      <td>|Argentina|Capital Federal|Villa Urquiza|</td>\n",
       "    </tr>\n",
       "    <tr>\n",
       "      <td>18956</td>\n",
       "      <td>AGRONOMIA</td>\n",
       "      <td>|Argentina|Capital Federal|Agronomía|</td>\n",
       "    </tr>\n",
       "    <tr>\n",
       "      <td>18959</td>\n",
       "      <td>VILLA PUEYRREDON</td>\n",
       "      <td>|Argentina|Capital Federal|Villa Pueyrredón|</td>\n",
       "    </tr>\n",
       "    <tr>\n",
       "      <td>18960</td>\n",
       "      <td>VILLA PUEYRREDON</td>\n",
       "      <td>|Argentina|Capital Federal|Villa Pueyrredón|</td>\n",
       "    </tr>\n",
       "    <tr>\n",
       "      <td>18963</td>\n",
       "      <td>VILLA LUGANO</td>\n",
       "      <td>|Argentina|Capital Federal|Villa Lugano|</td>\n",
       "    </tr>\n",
       "  </tbody>\n",
       "</table>\n",
       "<p>8409 rows × 2 columns</p>\n",
       "</div>"
      ],
      "text/plain": [
       "       barrio_publicado                                place_with_parent_names\n",
       "18              PALERMO                    |Argentina|Capital Federal|Palermo|\n",
       "22              PALERMO  |Argentina|Capital Federal|Palermo|Palermo Hollywood|\n",
       "24              PALERMO  |Argentina|Capital Federal|Palermo|Palermo Hollywood|\n",
       "29              PALERMO                    |Argentina|Capital Federal|Palermo|\n",
       "35              PALERMO  |Argentina|Capital Federal|Palermo|Palermo Hollywood|\n",
       "...                 ...                                                    ...\n",
       "18955     VILLA URQUIZA              |Argentina|Capital Federal|Villa Urquiza|\n",
       "18956         AGRONOMIA                  |Argentina|Capital Federal|Agronomía|\n",
       "18959  VILLA PUEYRREDON           |Argentina|Capital Federal|Villa Pueyrredón|\n",
       "18960  VILLA PUEYRREDON           |Argentina|Capital Federal|Villa Pueyrredón|\n",
       "18963      VILLA LUGANO               |Argentina|Capital Federal|Villa Lugano|\n",
       "\n",
       "[8409 rows x 2 columns]"
      ]
     },
     "execution_count": 57,
     "metadata": {},
     "output_type": "execute_result"
    }
   ],
   "source": [
    "df_filtered['barrio_publicado'] = df_filtered['place_with_parent_names'].apply( lambda x: x.split(\"|\")[3].upper())\n",
    "df_filtered['barrio_publicado'] = df_filtered['barrio_publicado'].str.normalize('NFKD').str.encode('ascii', errors='ignore').str.decode('utf-8')\n",
    "df_filtered[['barrio_publicado' , 'place_with_parent_names']]"
   ]
  },
  {
   "cell_type": "markdown",
   "metadata": {},
   "source": [
    "Comparemos entonces el barrio publicado con el real. Nos vamos a quedar con aquellas propiedades donde no coincidan para luego hacer el conteo por barrio."
   ]
  },
  {
   "cell_type": "code",
   "execution_count": 58,
   "metadata": {},
   "outputs": [
    {
     "data": {
      "text/html": [
       "<div>\n",
       "<style scoped>\n",
       "    .dataframe tbody tr th:only-of-type {\n",
       "        vertical-align: middle;\n",
       "    }\n",
       "\n",
       "    .dataframe tbody tr th {\n",
       "        vertical-align: top;\n",
       "    }\n",
       "\n",
       "    .dataframe thead th {\n",
       "        text-align: right;\n",
       "    }\n",
       "</style>\n",
       "<table border=\"1\" class=\"dataframe\">\n",
       "  <thead>\n",
       "    <tr style=\"text-align: right;\">\n",
       "      <th></th>\n",
       "      <th>barrio_publicado</th>\n",
       "      <th>barrio</th>\n",
       "    </tr>\n",
       "  </thead>\n",
       "  <tbody>\n",
       "    <tr>\n",
       "      <td>40</td>\n",
       "      <td>BARRIO NORTE</td>\n",
       "      <td>PALERMO</td>\n",
       "    </tr>\n",
       "    <tr>\n",
       "      <td>42</td>\n",
       "      <td>NUNEZ</td>\n",
       "      <td>PALERMO</td>\n",
       "    </tr>\n",
       "    <tr>\n",
       "      <td>43</td>\n",
       "      <td>BELGRANO</td>\n",
       "      <td>PALERMO</td>\n",
       "    </tr>\n",
       "    <tr>\n",
       "      <td>71</td>\n",
       "      <td>BELGRANO</td>\n",
       "      <td>PALERMO</td>\n",
       "    </tr>\n",
       "    <tr>\n",
       "      <td>72</td>\n",
       "      <td>BELGRANO</td>\n",
       "      <td>PALERMO</td>\n",
       "    </tr>\n",
       "    <tr>\n",
       "      <td>...</td>\n",
       "      <td>...</td>\n",
       "      <td>...</td>\n",
       "    </tr>\n",
       "    <tr>\n",
       "      <td>18943</td>\n",
       "      <td>BELGRANO</td>\n",
       "      <td>VILLA PUEYRREDON</td>\n",
       "    </tr>\n",
       "    <tr>\n",
       "      <td>18948</td>\n",
       "      <td>VILLA DEVOTO</td>\n",
       "      <td>VILLA PUEYRREDON</td>\n",
       "    </tr>\n",
       "    <tr>\n",
       "      <td>18955</td>\n",
       "      <td>VILLA URQUIZA</td>\n",
       "      <td>VILLA PUEYRREDON</td>\n",
       "    </tr>\n",
       "    <tr>\n",
       "      <td>18956</td>\n",
       "      <td>AGRONOMIA</td>\n",
       "      <td>VILLA PUEYRREDON</td>\n",
       "    </tr>\n",
       "    <tr>\n",
       "      <td>18963</td>\n",
       "      <td>VILLA LUGANO</td>\n",
       "      <td>VILLA SOLDATI</td>\n",
       "    </tr>\n",
       "  </tbody>\n",
       "</table>\n",
       "<p>2553 rows × 2 columns</p>\n",
       "</div>"
      ],
      "text/plain": [
       "      barrio_publicado            barrio\n",
       "40        BARRIO NORTE           PALERMO\n",
       "42               NUNEZ           PALERMO\n",
       "43            BELGRANO           PALERMO\n",
       "71            BELGRANO           PALERMO\n",
       "72            BELGRANO           PALERMO\n",
       "...                ...               ...\n",
       "18943         BELGRANO  VILLA PUEYRREDON\n",
       "18948     VILLA DEVOTO  VILLA PUEYRREDON\n",
       "18955    VILLA URQUIZA  VILLA PUEYRREDON\n",
       "18956        AGRONOMIA  VILLA PUEYRREDON\n",
       "18963     VILLA LUGANO     VILLA SOLDATI\n",
       "\n",
       "[2553 rows x 2 columns]"
      ]
     },
     "execution_count": 58,
     "metadata": {},
     "output_type": "execute_result"
    }
   ],
   "source": [
    "barrios_match = (df_filtered['barrio_publicado'] != df_filtered['barrio'])\n",
    "df_filtered_barrio_not_match = df_filtered.loc[barrios_match]\n",
    "df_filtered_barrio_not_match[['barrio_publicado' , 'barrio']]"
   ]
  },
  {
   "cell_type": "markdown",
   "metadata": {},
   "source": [
    "Con una tabla de doble entrada podemos identificar para cada barrio cuál es al que más quiere parecerse."
   ]
  },
  {
   "cell_type": "code",
   "execution_count": 59,
   "metadata": {},
   "outputs": [
    {
     "data": {
      "text/html": [
       "<div>\n",
       "<style scoped>\n",
       "    .dataframe tbody tr th:only-of-type {\n",
       "        vertical-align: middle;\n",
       "    }\n",
       "\n",
       "    .dataframe tbody tr th {\n",
       "        vertical-align: top;\n",
       "    }\n",
       "\n",
       "    .dataframe thead th {\n",
       "        text-align: right;\n",
       "    }\n",
       "</style>\n",
       "<table border=\"1\" class=\"dataframe\">\n",
       "  <thead>\n",
       "    <tr style=\"text-align: right;\">\n",
       "      <th>barrio_publicado</th>\n",
       "      <th>ABASTO</th>\n",
       "      <th>AGRONOMIA</th>\n",
       "      <th>ALMAGRO</th>\n",
       "      <th>BALVANERA</th>\n",
       "      <th>BARRACAS</th>\n",
       "      <th>BARRIO NORTE</th>\n",
       "      <th>BELGRANO</th>\n",
       "      <th>BOCA</th>\n",
       "      <th>BOEDO</th>\n",
       "      <th>CABALLITO</th>\n",
       "      <th>CATALINAS</th>\n",
       "      <th>CENTRO / MICROCENTRO</th>\n",
       "      <th>CHACARITA</th>\n",
       "      <th>COGHLAN</th>\n",
       "      <th>COLEGIALES</th>\n",
       "      <th>CONGRESO</th>\n",
       "      <th>CONSTITUCION</th>\n",
       "      <th>FLORES</th>\n",
       "      <th>FLORESTA</th>\n",
       "      <th>LA PLATA</th>\n",
       "      <th>LAS CANITAS</th>\n",
       "      <th>LINIERS</th>\n",
       "      <th>MATADEROS</th>\n",
       "      <th>MONSERRAT</th>\n",
       "      <th>MONTE CASTRO</th>\n",
       "      <th>NUNEZ</th>\n",
       "      <th>ONCE</th>\n",
       "      <th>PALERMO</th>\n",
       "      <th>PARQUE CENTENARIO</th>\n",
       "      <th>PARQUE CHACABUCO</th>\n",
       "      <th>PARQUE CHAS</th>\n",
       "      <th>PARQUE PATRICIOS</th>\n",
       "      <th>PATERNAL</th>\n",
       "      <th>POMPEYA</th>\n",
       "      <th>PUERTO MADERO</th>\n",
       "      <th>RECOLETA</th>\n",
       "      <th>RETIRO</th>\n",
       "      <th>SAAVEDRA</th>\n",
       "      <th>SAN CRISTOBAL</th>\n",
       "      <th>SAN NICOLAS</th>\n",
       "      <th>SAN TELMO</th>\n",
       "      <th>TRES DE FEBRERO</th>\n",
       "      <th>TRIBUNALES</th>\n",
       "      <th>VERSALLES</th>\n",
       "      <th>VILLA CRESPO</th>\n",
       "      <th>VILLA DEL PARQUE</th>\n",
       "      <th>VILLA DEVOTO</th>\n",
       "      <th>VILLA GENERAL MITRE</th>\n",
       "      <th>VILLA LUGANO</th>\n",
       "      <th>VILLA LURO</th>\n",
       "      <th>VILLA ORTUZAR</th>\n",
       "      <th>VILLA PUEYRREDON</th>\n",
       "      <th>VILLA SANTA RITA</th>\n",
       "      <th>VILLA URQUIZA</th>\n",
       "    </tr>\n",
       "    <tr>\n",
       "      <th>barrio</th>\n",
       "      <th></th>\n",
       "      <th></th>\n",
       "      <th></th>\n",
       "      <th></th>\n",
       "      <th></th>\n",
       "      <th></th>\n",
       "      <th></th>\n",
       "      <th></th>\n",
       "      <th></th>\n",
       "      <th></th>\n",
       "      <th></th>\n",
       "      <th></th>\n",
       "      <th></th>\n",
       "      <th></th>\n",
       "      <th></th>\n",
       "      <th></th>\n",
       "      <th></th>\n",
       "      <th></th>\n",
       "      <th></th>\n",
       "      <th></th>\n",
       "      <th></th>\n",
       "      <th></th>\n",
       "      <th></th>\n",
       "      <th></th>\n",
       "      <th></th>\n",
       "      <th></th>\n",
       "      <th></th>\n",
       "      <th></th>\n",
       "      <th></th>\n",
       "      <th></th>\n",
       "      <th></th>\n",
       "      <th></th>\n",
       "      <th></th>\n",
       "      <th></th>\n",
       "      <th></th>\n",
       "      <th></th>\n",
       "      <th></th>\n",
       "      <th></th>\n",
       "      <th></th>\n",
       "      <th></th>\n",
       "      <th></th>\n",
       "      <th></th>\n",
       "      <th></th>\n",
       "      <th></th>\n",
       "      <th></th>\n",
       "      <th></th>\n",
       "      <th></th>\n",
       "      <th></th>\n",
       "      <th></th>\n",
       "      <th></th>\n",
       "      <th></th>\n",
       "      <th></th>\n",
       "      <th></th>\n",
       "      <th></th>\n",
       "    </tr>\n",
       "  </thead>\n",
       "  <tbody>\n",
       "    <tr>\n",
       "      <td>AGRONOMIA</td>\n",
       "      <td>0</td>\n",
       "      <td>0</td>\n",
       "      <td>0</td>\n",
       "      <td>0</td>\n",
       "      <td>0</td>\n",
       "      <td>0</td>\n",
       "      <td>0</td>\n",
       "      <td>0</td>\n",
       "      <td>0</td>\n",
       "      <td>0</td>\n",
       "      <td>0</td>\n",
       "      <td>0</td>\n",
       "      <td>0</td>\n",
       "      <td>0</td>\n",
       "      <td>0</td>\n",
       "      <td>0</td>\n",
       "      <td>0</td>\n",
       "      <td>0</td>\n",
       "      <td>0</td>\n",
       "      <td>0</td>\n",
       "      <td>0</td>\n",
       "      <td>0</td>\n",
       "      <td>0</td>\n",
       "      <td>0</td>\n",
       "      <td>0</td>\n",
       "      <td>0</td>\n",
       "      <td>0</td>\n",
       "      <td>0</td>\n",
       "      <td>0</td>\n",
       "      <td>0</td>\n",
       "      <td>0</td>\n",
       "      <td>0</td>\n",
       "      <td>0</td>\n",
       "      <td>0</td>\n",
       "      <td>0</td>\n",
       "      <td>0</td>\n",
       "      <td>0</td>\n",
       "      <td>0</td>\n",
       "      <td>0</td>\n",
       "      <td>0</td>\n",
       "      <td>0</td>\n",
       "      <td>0</td>\n",
       "      <td>0</td>\n",
       "      <td>0</td>\n",
       "      <td>0</td>\n",
       "      <td>2</td>\n",
       "      <td>2</td>\n",
       "      <td>0</td>\n",
       "      <td>0</td>\n",
       "      <td>0</td>\n",
       "      <td>0</td>\n",
       "      <td>10</td>\n",
       "      <td>0</td>\n",
       "      <td>0</td>\n",
       "    </tr>\n",
       "    <tr>\n",
       "      <td>ALMAGRO</td>\n",
       "      <td>5</td>\n",
       "      <td>0</td>\n",
       "      <td>0</td>\n",
       "      <td>2</td>\n",
       "      <td>0</td>\n",
       "      <td>0</td>\n",
       "      <td>2</td>\n",
       "      <td>0</td>\n",
       "      <td>10</td>\n",
       "      <td>24</td>\n",
       "      <td>0</td>\n",
       "      <td>0</td>\n",
       "      <td>0</td>\n",
       "      <td>0</td>\n",
       "      <td>0</td>\n",
       "      <td>1</td>\n",
       "      <td>0</td>\n",
       "      <td>0</td>\n",
       "      <td>0</td>\n",
       "      <td>1</td>\n",
       "      <td>0</td>\n",
       "      <td>0</td>\n",
       "      <td>0</td>\n",
       "      <td>1</td>\n",
       "      <td>0</td>\n",
       "      <td>0</td>\n",
       "      <td>0</td>\n",
       "      <td>16</td>\n",
       "      <td>2</td>\n",
       "      <td>0</td>\n",
       "      <td>0</td>\n",
       "      <td>0</td>\n",
       "      <td>0</td>\n",
       "      <td>0</td>\n",
       "      <td>0</td>\n",
       "      <td>0</td>\n",
       "      <td>0</td>\n",
       "      <td>0</td>\n",
       "      <td>1</td>\n",
       "      <td>0</td>\n",
       "      <td>0</td>\n",
       "      <td>0</td>\n",
       "      <td>0</td>\n",
       "      <td>0</td>\n",
       "      <td>14</td>\n",
       "      <td>0</td>\n",
       "      <td>0</td>\n",
       "      <td>0</td>\n",
       "      <td>0</td>\n",
       "      <td>0</td>\n",
       "      <td>0</td>\n",
       "      <td>0</td>\n",
       "      <td>0</td>\n",
       "      <td>0</td>\n",
       "    </tr>\n",
       "    <tr>\n",
       "      <td>BALVANERA</td>\n",
       "      <td>26</td>\n",
       "      <td>0</td>\n",
       "      <td>23</td>\n",
       "      <td>0</td>\n",
       "      <td>0</td>\n",
       "      <td>35</td>\n",
       "      <td>1</td>\n",
       "      <td>0</td>\n",
       "      <td>3</td>\n",
       "      <td>1</td>\n",
       "      <td>0</td>\n",
       "      <td>1</td>\n",
       "      <td>0</td>\n",
       "      <td>0</td>\n",
       "      <td>0</td>\n",
       "      <td>25</td>\n",
       "      <td>1</td>\n",
       "      <td>0</td>\n",
       "      <td>0</td>\n",
       "      <td>0</td>\n",
       "      <td>0</td>\n",
       "      <td>0</td>\n",
       "      <td>0</td>\n",
       "      <td>3</td>\n",
       "      <td>0</td>\n",
       "      <td>0</td>\n",
       "      <td>63</td>\n",
       "      <td>1</td>\n",
       "      <td>0</td>\n",
       "      <td>0</td>\n",
       "      <td>0</td>\n",
       "      <td>0</td>\n",
       "      <td>0</td>\n",
       "      <td>0</td>\n",
       "      <td>0</td>\n",
       "      <td>12</td>\n",
       "      <td>0</td>\n",
       "      <td>0</td>\n",
       "      <td>15</td>\n",
       "      <td>4</td>\n",
       "      <td>1</td>\n",
       "      <td>0</td>\n",
       "      <td>0</td>\n",
       "      <td>0</td>\n",
       "      <td>0</td>\n",
       "      <td>0</td>\n",
       "      <td>0</td>\n",
       "      <td>0</td>\n",
       "      <td>0</td>\n",
       "      <td>0</td>\n",
       "      <td>0</td>\n",
       "      <td>0</td>\n",
       "      <td>0</td>\n",
       "      <td>0</td>\n",
       "    </tr>\n",
       "    <tr>\n",
       "      <td>BARRACAS</td>\n",
       "      <td>0</td>\n",
       "      <td>0</td>\n",
       "      <td>0</td>\n",
       "      <td>0</td>\n",
       "      <td>0</td>\n",
       "      <td>0</td>\n",
       "      <td>0</td>\n",
       "      <td>1</td>\n",
       "      <td>0</td>\n",
       "      <td>0</td>\n",
       "      <td>0</td>\n",
       "      <td>0</td>\n",
       "      <td>0</td>\n",
       "      <td>0</td>\n",
       "      <td>0</td>\n",
       "      <td>0</td>\n",
       "      <td>0</td>\n",
       "      <td>0</td>\n",
       "      <td>0</td>\n",
       "      <td>0</td>\n",
       "      <td>0</td>\n",
       "      <td>0</td>\n",
       "      <td>0</td>\n",
       "      <td>0</td>\n",
       "      <td>0</td>\n",
       "      <td>0</td>\n",
       "      <td>0</td>\n",
       "      <td>0</td>\n",
       "      <td>0</td>\n",
       "      <td>0</td>\n",
       "      <td>0</td>\n",
       "      <td>0</td>\n",
       "      <td>0</td>\n",
       "      <td>0</td>\n",
       "      <td>0</td>\n",
       "      <td>0</td>\n",
       "      <td>0</td>\n",
       "      <td>0</td>\n",
       "      <td>0</td>\n",
       "      <td>0</td>\n",
       "      <td>4</td>\n",
       "      <td>0</td>\n",
       "      <td>0</td>\n",
       "      <td>0</td>\n",
       "      <td>0</td>\n",
       "      <td>0</td>\n",
       "      <td>0</td>\n",
       "      <td>0</td>\n",
       "      <td>0</td>\n",
       "      <td>0</td>\n",
       "      <td>0</td>\n",
       "      <td>0</td>\n",
       "      <td>0</td>\n",
       "      <td>0</td>\n",
       "    </tr>\n",
       "    <tr>\n",
       "      <td>BELGRANO</td>\n",
       "      <td>0</td>\n",
       "      <td>0</td>\n",
       "      <td>0</td>\n",
       "      <td>0</td>\n",
       "      <td>0</td>\n",
       "      <td>0</td>\n",
       "      <td>0</td>\n",
       "      <td>0</td>\n",
       "      <td>0</td>\n",
       "      <td>0</td>\n",
       "      <td>0</td>\n",
       "      <td>0</td>\n",
       "      <td>0</td>\n",
       "      <td>3</td>\n",
       "      <td>0</td>\n",
       "      <td>0</td>\n",
       "      <td>0</td>\n",
       "      <td>0</td>\n",
       "      <td>0</td>\n",
       "      <td>0</td>\n",
       "      <td>2</td>\n",
       "      <td>0</td>\n",
       "      <td>0</td>\n",
       "      <td>0</td>\n",
       "      <td>0</td>\n",
       "      <td>19</td>\n",
       "      <td>0</td>\n",
       "      <td>0</td>\n",
       "      <td>0</td>\n",
       "      <td>0</td>\n",
       "      <td>0</td>\n",
       "      <td>0</td>\n",
       "      <td>0</td>\n",
       "      <td>0</td>\n",
       "      <td>0</td>\n",
       "      <td>1</td>\n",
       "      <td>0</td>\n",
       "      <td>0</td>\n",
       "      <td>0</td>\n",
       "      <td>0</td>\n",
       "      <td>0</td>\n",
       "      <td>0</td>\n",
       "      <td>0</td>\n",
       "      <td>0</td>\n",
       "      <td>0</td>\n",
       "      <td>0</td>\n",
       "      <td>0</td>\n",
       "      <td>0</td>\n",
       "      <td>0</td>\n",
       "      <td>0</td>\n",
       "      <td>0</td>\n",
       "      <td>0</td>\n",
       "      <td>0</td>\n",
       "      <td>3</td>\n",
       "    </tr>\n",
       "  </tbody>\n",
       "</table>\n",
       "</div>"
      ],
      "text/plain": [
       "barrio_publicado  ABASTO  AGRONOMIA  ALMAGRO  BALVANERA  BARRACAS  \\\n",
       "barrio                                                              \n",
       "AGRONOMIA              0          0        0          0         0   \n",
       "ALMAGRO                5          0        0          2         0   \n",
       "BALVANERA             26          0       23          0         0   \n",
       "BARRACAS               0          0        0          0         0   \n",
       "BELGRANO               0          0        0          0         0   \n",
       "\n",
       "barrio_publicado  BARRIO NORTE  BELGRANO  BOCA  BOEDO  CABALLITO  CATALINAS  \\\n",
       "barrio                                                                        \n",
       "AGRONOMIA                    0         0     0      0          0          0   \n",
       "ALMAGRO                      0         2     0     10         24          0   \n",
       "BALVANERA                   35         1     0      3          1          0   \n",
       "BARRACAS                     0         0     1      0          0          0   \n",
       "BELGRANO                     0         0     0      0          0          0   \n",
       "\n",
       "barrio_publicado  CENTRO / MICROCENTRO  CHACARITA  COGHLAN  COLEGIALES  \\\n",
       "barrio                                                                   \n",
       "AGRONOMIA                            0          0        0           0   \n",
       "ALMAGRO                              0          0        0           0   \n",
       "BALVANERA                            1          0        0           0   \n",
       "BARRACAS                             0          0        0           0   \n",
       "BELGRANO                             0          0        3           0   \n",
       "\n",
       "barrio_publicado  CONGRESO  CONSTITUCION  FLORES  FLORESTA  LA PLATA  \\\n",
       "barrio                                                                 \n",
       "AGRONOMIA                0             0       0         0         0   \n",
       "ALMAGRO                  1             0       0         0         1   \n",
       "BALVANERA               25             1       0         0         0   \n",
       "BARRACAS                 0             0       0         0         0   \n",
       "BELGRANO                 0             0       0         0         0   \n",
       "\n",
       "barrio_publicado  LAS CANITAS  LINIERS  MATADEROS  MONSERRAT  MONTE CASTRO  \\\n",
       "barrio                                                                       \n",
       "AGRONOMIA                   0        0          0          0             0   \n",
       "ALMAGRO                     0        0          0          1             0   \n",
       "BALVANERA                   0        0          0          3             0   \n",
       "BARRACAS                    0        0          0          0             0   \n",
       "BELGRANO                    2        0          0          0             0   \n",
       "\n",
       "barrio_publicado  NUNEZ  ONCE  PALERMO  PARQUE CENTENARIO  PARQUE CHACABUCO  \\\n",
       "barrio                                                                        \n",
       "AGRONOMIA             0     0        0                  0                 0   \n",
       "ALMAGRO               0     0       16                  2                 0   \n",
       "BALVANERA             0    63        1                  0                 0   \n",
       "BARRACAS              0     0        0                  0                 0   \n",
       "BELGRANO             19     0        0                  0                 0   \n",
       "\n",
       "barrio_publicado  PARQUE CHAS  PARQUE PATRICIOS  PATERNAL  POMPEYA  \\\n",
       "barrio                                                               \n",
       "AGRONOMIA                   0                 0         0        0   \n",
       "ALMAGRO                     0                 0         0        0   \n",
       "BALVANERA                   0                 0         0        0   \n",
       "BARRACAS                    0                 0         0        0   \n",
       "BELGRANO                    0                 0         0        0   \n",
       "\n",
       "barrio_publicado  PUERTO MADERO  RECOLETA  RETIRO  SAAVEDRA  SAN CRISTOBAL  \\\n",
       "barrio                                                                       \n",
       "AGRONOMIA                     0         0       0         0              0   \n",
       "ALMAGRO                       0         0       0         0              1   \n",
       "BALVANERA                     0        12       0         0             15   \n",
       "BARRACAS                      0         0       0         0              0   \n",
       "BELGRANO                      0         1       0         0              0   \n",
       "\n",
       "barrio_publicado  SAN NICOLAS  SAN TELMO  TRES DE FEBRERO  TRIBUNALES  \\\n",
       "barrio                                                                  \n",
       "AGRONOMIA                   0          0                0           0   \n",
       "ALMAGRO                     0          0                0           0   \n",
       "BALVANERA                   4          1                0           0   \n",
       "BARRACAS                    0          4                0           0   \n",
       "BELGRANO                    0          0                0           0   \n",
       "\n",
       "barrio_publicado  VERSALLES  VILLA CRESPO  VILLA DEL PARQUE  VILLA DEVOTO  \\\n",
       "barrio                                                                      \n",
       "AGRONOMIA                 0             0                 2             2   \n",
       "ALMAGRO                   0            14                 0             0   \n",
       "BALVANERA                 0             0                 0             0   \n",
       "BARRACAS                  0             0                 0             0   \n",
       "BELGRANO                  0             0                 0             0   \n",
       "\n",
       "barrio_publicado  VILLA GENERAL MITRE  VILLA LUGANO  VILLA LURO  \\\n",
       "barrio                                                            \n",
       "AGRONOMIA                           0             0           0   \n",
       "ALMAGRO                             0             0           0   \n",
       "BALVANERA                           0             0           0   \n",
       "BARRACAS                            0             0           0   \n",
       "BELGRANO                            0             0           0   \n",
       "\n",
       "barrio_publicado  VILLA ORTUZAR  VILLA PUEYRREDON  VILLA SANTA RITA  \\\n",
       "barrio                                                                \n",
       "AGRONOMIA                     0                10                 0   \n",
       "ALMAGRO                       0                 0                 0   \n",
       "BALVANERA                     0                 0                 0   \n",
       "BARRACAS                      0                 0                 0   \n",
       "BELGRANO                      0                 0                 0   \n",
       "\n",
       "barrio_publicado  VILLA URQUIZA  \n",
       "barrio                           \n",
       "AGRONOMIA                     0  \n",
       "ALMAGRO                       0  \n",
       "BALVANERA                     0  \n",
       "BARRACAS                      0  \n",
       "BELGRANO                      3  "
      ]
     },
     "execution_count": 59,
     "metadata": {},
     "output_type": "execute_result"
    }
   ],
   "source": [
    "table = pd.crosstab(df_filtered_barrio_not_match.barrio, df_filtered_barrio_not_match.barrio_publicado)\n",
    "table.head(5)"
   ]
  },
  {
   "cell_type": "code",
   "execution_count": 60,
   "metadata": {},
   "outputs": [
    {
     "data": {
      "text/plain": [
       "barrio\n",
       "AGRONOMIA                VILLA PUEYRREDON\n",
       "ALMAGRO                         CABALLITO\n",
       "BALVANERA                            ONCE\n",
       "BARRACAS                        SAN TELMO\n",
       "BELGRANO                            NUNEZ\n",
       "BOCA                             BARRACAS\n",
       "BOEDO                             ALMAGRO\n",
       "CABALLITO               PARQUE CENTENARIO\n",
       "CHACARITA                      COLEGIALES\n",
       "COGHLAN                          BELGRANO\n",
       "COLEGIALES                       BELGRANO\n",
       "CONSTITUCION                    SAN TELMO\n",
       "FLORES                          CABALLITO\n",
       "FLORESTA                           FLORES\n",
       "LINIERS                         VERSALLES\n",
       "MATADEROS                      VILLA LURO\n",
       "MONSERRAT                       SAN TELMO\n",
       "MONTE CASTRO                 VILLA DEVOTO\n",
       "NUEVA POMPEYA            PARQUE PATRICIOS\n",
       "NUEZ                                NUNEZ\n",
       "PALERMO                          BELGRANO\n",
       "PARQUE AVELLANEDA                FLORESTA\n",
       "PARQUE CHACABUCO                CABALLITO\n",
       "PARQUE CHAS                 VILLA URQUIZA\n",
       "PARQUE PATRICIOS                    BOEDO\n",
       "PATERNAL                        AGRONOMIA\n",
       "RECOLETA                     BARRIO NORTE\n",
       "RETIRO                           RECOLETA\n",
       "SAAVEDRA                            NUNEZ\n",
       "SAN CRISTOBAL                       BOEDO\n",
       "SAN NICOLAS          CENTRO / MICROCENTRO\n",
       "SAN TELMO                        BARRACAS\n",
       "VELEZ SARSFIELD                  FLORESTA\n",
       "VILLA CRESPO                      PALERMO\n",
       "VILLA DEL PARQUE             VILLA DEVOTO\n",
       "VILLA DEVOTO             VILLA PUEYRREDON\n",
       "VILLA GRAL. MITRE     VILLA GENERAL MITRE\n",
       "VILLA LURO                      VERSALLES\n",
       "VILLA ORTUZAR               VILLA URQUIZA\n",
       "VILLA PUEYRREDON             VILLA DEVOTO\n",
       "VILLA REAL                      VERSALLES\n",
       "VILLA RIACHUELO              VILLA LUGANO\n",
       "VILLA SANTA RITA         VILLA DEL PARQUE\n",
       "VILLA SOLDATI                VILLA LUGANO\n",
       "VILLA URQUIZA                    BELGRANO\n",
       "dtype: object"
      ]
     },
     "execution_count": 60,
     "metadata": {},
     "output_type": "execute_result"
    }
   ],
   "source": [
    "\n",
    "table.idxmax(axis=1)"
   ]
  },
  {
   "cell_type": "markdown",
   "metadata": {},
   "source": [
    "Podemos ver entonces que los barrios tienden a querer parecerse a barrios con precio con metro cuadrado más caro. Por ejemplo Villa Crespo con Palermo, Constitución con San Telmo y Villa Urquiza con Belgrano. \n",
    "\n",
    "Por otro lado, vemos también que los barrios suelen querer parecerse a sus barrios vecinos."
   ]
  },
  {
   "cell_type": "markdown",
   "metadata": {},
   "source": [
    "Lencina Guillermo"
   ]
  }
 ],
 "metadata": {
  "kernelspec": {
   "display_name": "Python 3",
   "language": "python",
   "name": "python3"
  },
  "language_info": {
   "codemirror_mode": {
    "name": "ipython",
    "version": 3
   },
   "file_extension": ".py",
   "mimetype": "text/x-python",
   "name": "python",
   "nbconvert_exporter": "python",
   "pygments_lexer": "ipython3",
   "version": "3.7.4"
  }
 },
 "nbformat": 4,
 "nbformat_minor": 4
}

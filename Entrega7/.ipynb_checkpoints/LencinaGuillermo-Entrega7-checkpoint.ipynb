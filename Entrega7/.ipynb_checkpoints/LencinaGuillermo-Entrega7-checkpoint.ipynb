{
 "cells": [
  {
   "cell_type": "markdown",
   "metadata": {},
   "source": [
    "# Proyecto 7: Deploy de sistema de recomendación con Watson\n",
    "\n",
    "En este proyecto llevaremos a cabo la puesta en producción del modelo entrenado en el proyecto 5. Es decir, lo subirmos la nube de IBM y utilizando llamados a la API de Watson tendremos acceso a él para realizar predicciones."
   ]
  },
  {
   "cell_type": "code",
   "execution_count": 1,
   "metadata": {},
   "outputs": [],
   "source": [
    "import warnings\n",
    "warnings.filterwarnings(\"ignore\")\n",
    "import sklearn\n",
    "from sklearn.datasets import load_files\n",
    "moviedir = r'./dataset/movie_reviews' \n",
    "movie_reviews = load_files(moviedir, shuffle=True)"
   ]
  },
  {
   "cell_type": "code",
   "execution_count": 2,
   "metadata": {},
   "outputs": [],
   "source": [
    "from sklearn.model_selection import train_test_split\n",
    "X_train, X_test, y_train, y_test = train_test_split(\n",
    "movie_reviews.data, movie_reviews.target, test_size = 0.20, stratify=movie_reviews.target, random_state = 12)"
   ]
  },
  {
   "cell_type": "code",
   "execution_count": 3,
   "metadata": {},
   "outputs": [
    {
     "data": {
      "text/plain": [
       "b\"arnold schwarzenegger has been an icon for action enthusiasts , since the late 80's , but lately his films have been very sloppy and the one-liners are getting worse . \\nit's hard seeing arnold as mr . freeze in batman and robin , especially when he says tons of ice jokes , but hey he got 15 million , what's it matter to him ? \\nonce again arnold has signed to do another expensive blockbuster , that can't compare with the likes of the terminator series , true lies and even eraser . \\nin this so called dark thriller , the devil ( gabriel byrne ) has come upon earth , to impregnate a woman ( robin tunney ) which happens every 1000 years , and basically destroy the world , but apparently god has chosen one man , and that one man is jericho cane ( arnold himself ) . \\nwith the help of a trusty sidekick ( kevin pollack ) , they will stop at nothing to let the devil take over the world ! \\nparts of this are actually so absurd , that they would fit right in with dogma . \\nyes , the film is that weak , but it's better than the other blockbuster right now ( sleepy hollow ) , but it makes the world is not enough look like a 4 star film . \\nanyway , this definitely doesn't seem like an arnold movie . \\nit just wasn't the type of film you can see him doing . \\nsure he gave us a few chuckles with his well known one-liners , but he seemed confused as to where his character and the film was going . \\nit's understandable , especially when the ending had to be changed according to some sources . \\naside form that , he still walked through it , much like he has in the past few films . \\ni'm sorry to say this arnold but maybe these are the end of your action days . \\nspeaking of action , where was it in this film ? \\nthere was hardly any explosions or fights . \\nthe devil made a few places explode , but arnold wasn't kicking some devil butt . \\nthe ending was changed to make it more spiritual , which undoubtedly ruined the film . \\ni was at least hoping for a cool ending if nothing else occurred , but once again i was let down . \\ni also don't know why the film took so long and cost so much . \\nthere was really no super affects at all , unless you consider an invisible devil , who was in it for 5 minutes tops , worth the overpriced budget . \\nthe budget should have gone into a better script , where at least audiences could be somewhat entertained instead of facing boredom . \\nit's pitiful to see how scripts like these get bought and made into a movie . \\ndo they even read these things anymore ? \\nit sure doesn't seem like it . \\nthankfully gabriel's performance gave some light to this poor film . \\nwhen he walks down the street searching for robin tunney , you can't help but feel that he looked like a devil . \\nthe guy is creepy looking anyway ! \\nwhen it's all over , you're just glad it's the end of the movie . \\ndon't bother to see this , if you're expecting a solid action flick , because it's neither solid nor does it have action . \\nit's just another movie that we are suckered in to seeing , due to a strategic marketing campaign . \\nsave your money and see the world is not enough for an entertaining experience . \\n\""
      ]
     },
     "execution_count": 3,
     "metadata": {},
     "output_type": "execute_result"
    }
   ],
   "source": [
    "movie_reviews.data[0]"
   ]
  },
  {
   "cell_type": "code",
   "execution_count": 4,
   "metadata": {},
   "outputs": [],
   "source": [
    "from sklearn.externals import joblib\n",
    "eclf = joblib.load('sentiment.pkl') "
   ]
  },
  {
   "cell_type": "markdown",
   "metadata": {},
   "source": [
    "IBM Watson"
   ]
  },
  {
   "cell_type": "markdown",
   "metadata": {},
   "source": [
    "**1) Cargá** la biblioteca `WatsonMachineLearningAPIClient`"
   ]
  },
  {
   "cell_type": "code",
   "execution_count": 5,
   "metadata": {},
   "outputs": [],
   "source": [
    "from watson_machine_learning_client import WatsonMachineLearningAPIClient"
   ]
  },
  {
   "cell_type": "markdown",
   "metadata": {},
   "source": [
    "**2) Creá** variable con las credenciales que necesita `Watson`. Ellas son: `url, access_key, username, password e instance_id`"
   ]
  },
  {
   "cell_type": "code",
   "execution_count": 6,
   "metadata": {},
   "outputs": [],
   "source": [
    "wml_credentials={\n",
    "    \n",
    " \n",
    "\n",
    "}"
   ]
  },
  {
   "cell_type": "markdown",
   "metadata": {},
   "source": [
    "**3) Declará** la variable `client` y guardá en ella al objeto `WatsonMachineLearningAPIClient` con las credenciales como parámetro"
   ]
  },
  {
   "cell_type": "code",
   "execution_count": 7,
   "metadata": {},
   "outputs": [],
   "source": [
    "client = WatsonMachineLearningAPIClient(wml_credentials)"
   ]
  },
  {
   "cell_type": "markdown",
   "metadata": {},
   "source": [
    "**4) Creá** una variable que guarde las propiedades del modelo. Datos del autor y nombre del proyecto."
   ]
  },
  {
   "cell_type": "code",
   "execution_count": 8,
   "metadata": {},
   "outputs": [],
   "source": [
    "model_props = {client.repository.ModelMetaNames.AUTHOR_NAME: \"Guille Lencina\", \n",
    "               client.repository.ModelMetaNames.NAME: \"Entrega 7. Clasificación de peliculas\",\n",
    "               client.repository.DefinitionMetaNames.RUNTIME_NAME: 'python',\n",
    "               client.repository.DefinitionMetaNames.RUNTIME_VERSION: '3.6'}"
   ]
  },
  {
   "cell_type": "markdown",
   "metadata": {},
   "source": [
    "**5) Hacé** un pipeline que contenga como primer paso a un `TfidfVectorizer` y como segundo paso, al mejor modelo que hayas obtenido en el proyecto 5. **Entrená** con este pipeline."
   ]
  },
  {
   "cell_type": "code",
   "execution_count": 9,
   "metadata": {},
   "outputs": [],
   "source": [
    "from sklearn.feature_extraction.text import  TfidfVectorizer\n",
    "\n",
    "tfidf = TfidfVectorizer()\n",
    "\n",
    "\n"
   ]
  },
  {
   "cell_type": "code",
   "execution_count": 10,
   "metadata": {},
   "outputs": [],
   "source": [
    "from sklearn.pipeline import Pipeline\n",
    "from sklearn.pipeline import make_pipeline\n",
    "\n"
   ]
  },
  {
   "cell_type": "code",
   "execution_count": 11,
   "metadata": {},
   "outputs": [
    {
     "data": {
      "text/plain": [
       "Pipeline(memory=None,\n",
       "         steps=[('tfidf',\n",
       "                 TfidfVectorizer(analyzer='word', binary=False,\n",
       "                                 decode_error='strict',\n",
       "                                 dtype=<class 'numpy.float64'>,\n",
       "                                 encoding='utf-8', input='content',\n",
       "                                 lowercase=True, max_df=1.0, max_features=None,\n",
       "                                 min_df=1, ngram_range=(1, 1), norm='l2',\n",
       "                                 preprocessor=None, smooth_idf=True,\n",
       "                                 stop_words=None, strip_accents=None,\n",
       "                                 sublinear_tf=False,\n",
       "                                 token_pattern='(?u)\\\\b\\\\w\\\\w+\\\\b',\n",
       "                                 tokenizer=None, use_idf=True,\n",
       "                                 vocabulary=None)),\n",
       "                ('clf',\n",
       "                 LinearSVC(C=1.0, class_weight=None, dual=True,\n",
       "                           fit_intercept=True, intercept_scaling=1,\n",
       "                           loss='squared_hinge', max_iter=1000,\n",
       "                           multi_class='ovr', penalty='l2', random_state=None,\n",
       "                           tol=0.0001, verbose=0))],\n",
       "         verbose=False)"
      ]
     },
     "execution_count": 11,
     "metadata": {},
     "output_type": "execute_result"
    }
   ],
   "source": [
    "pipeline = Pipeline([('tfidf',tfidf),('clf',eclf)])\n",
    "pipeline.fit(X_train, y_train)"
   ]
  },
  {
   "cell_type": "markdown",
   "metadata": {},
   "source": [
    "**6) Subí** al modelo a IBM Cloud usando `client.repository.store_model` con los parámetros correctos."
   ]
  },
  {
   "cell_type": "code",
   "execution_count": 12,
   "metadata": {},
   "outputs": [],
   "source": [
    "published_model = client.repository.store_model(model=pipeline, \n",
    "                                                meta_props=model_props, \n",
    "                                                training_data=X_train, \n",
    "                                                training_target=y_train)"
   ]
  },
  {
   "cell_type": "markdown",
   "metadata": {},
   "source": [
    "**7) Obtené** el `uid` del modelo y guardalo en una variable."
   ]
  },
  {
   "cell_type": "code",
   "execution_count": 13,
   "metadata": {},
   "outputs": [],
   "source": [
    "published_model_uid = client.repository.get_model_uid(published_model)\n"
   ]
  },
  {
   "cell_type": "code",
   "execution_count": 14,
   "metadata": {},
   "outputs": [],
   "source": [
    "model_details = client.repository.get_details(published_model_uid)"
   ]
  },
  {
   "cell_type": "code",
   "execution_count": 15,
   "metadata": {},
   "outputs": [
    {
     "name": "stdout",
     "output_type": "stream",
     "text": [
      "------------------------------------  -------------------------------------  ------------------------  -----------------\n",
      "GUID                                  NAME                                   CREATED                   FRAMEWORK\n",
      "33298522-ad04-4cf0-9793-e39d1cb80a58  Entrega 7. Clasificación de peliculas  2020-08-22T00:29:34.166Z  scikit-learn-0.22\n",
      "f9fc583e-8c37-46ad-90af-d2ce3bb8c6c9  Film Reviews classification nuevo      2020-08-22T00:08:47.894Z  scikit-learn-0.22\n",
      "08ef1fed-feb5-4163-9d69-ed65c0854238  Film Reviews classification nuevo      2020-08-22T00:02:13.252Z  scikit-learn-0.22\n",
      "4312ba5f-a933-49c5-8388-0aa665a30027  Film Reviews classification nuevo      2020-08-21T23:56:34.523Z  scikit-learn-0.22\n",
      "424515b0-7444-476f-bd08-a08d4e998042  Film Reviews classification nuevo      2020-08-21T23:53:56.635Z  scikit-learn-0.22\n",
      "a46f8afb-d068-4f2b-9639-55d3e3f74baf  Film Reviews classification nuevo      2020-08-21T23:47:01.519Z  scikit-learn-0.22\n",
      "d4aee3ce-ccf0-43cb-83c1-a854cd6ded05  Reviews classification nuevo           2020-08-21T22:56:45.461Z  scikit-learn-0.22\n",
      "f6c6fcd5-f24e-4045-a8ce-231790d535dc  Reviews classification nuevo           2020-08-21T22:22:33.573Z  scikit-learn-0.22\n",
      "43d4a3e4-2a26-4c90-b3dc-f53c1bbe5ccf  Reviews classification nuevo           2020-08-21T20:05:59.987Z  scikit-learn-0.22\n",
      "0a65899b-6e98-4faf-9206-0cefdcaab79f  Reviews classification nuevo           2020-08-21T20:04:23.304Z  scikit-learn-0.22\n",
      "d95b5691-a266-46c9-a454-b511fb3611c8  Reviews classification nuevo           2020-08-21T20:01:39.875Z  scikit-learn-0.22\n",
      "fcc40f60-5264-4060-b7d3-c794c7f18895  Reviews classification nuevo           2020-08-21T20:00:10.830Z  scikit-learn-0.22\n",
      "b5fbc273-2788-43b0-a3e2-3caa5de9c5ee  Reviews classification nuevo           2020-08-21T19:58:25.690Z  scikit-learn-0.22\n",
      "396fd33e-5ef3-478d-9e2d-3c35da8a3f45  Reviews classification nuevo           2020-08-21T19:57:15.884Z  scikit-learn-0.22\n",
      "32e7f2ce-4eb8-4c45-a400-690b3237c0b8  Reviews classification nuevo           2020-08-21T19:56:07.700Z  scikit-learn-0.22\n",
      "0a4ebadb-e306-48d8-91fc-910826861f13  Reviews classification nuevo           2020-08-21T19:55:09.085Z  scikit-learn-0.22\n",
      "7e331e74-8f6c-42f9-b9a2-c1fcdc6c3d18  Reviews classification nuevo           2020-08-21T19:51:41.716Z  scikit-learn-0.22\n",
      "4d9f08c6-f151-4483-af5d-b4bfdb232728  Reviews classification nuevo           2020-08-21T19:50:36.541Z  scikit-learn-0.22\n",
      "d66130ef-6fc1-423a-854c-af31dcd80507  Reviews classification nuevo           2020-08-21T19:48:48.988Z  scikit-learn-0.22\n",
      "fbd53029-3594-4fa9-ada1-63831e5401e5  Reviews classification nuevo           2020-08-21T19:47:36.573Z  scikit-learn-0.22\n",
      "3f61b3e0-5422-4ccc-bc5c-8c653dcad593  Reviews classification nuevo           2020-08-21T19:46:00.423Z  scikit-learn-0.22\n",
      "fbab3a8b-1677-43ec-a9be-c46cfec7dfe2  Reviews classification nuevo           2020-08-21T01:14:49.429Z  scikit-learn-0.22\n",
      "c7ea2806-ec12-423d-86f8-3faa43bbf77b  Reviews classification nuevo           2020-08-21T00:57:48.437Z  scikit-learn-0.22\n",
      "da20a50c-27d1-4a0f-8073-8541117f580d  Reviews classification nuevo           2020-08-21T00:33:15.808Z  scikit-learn-0.22\n",
      "82bc1ef6-5f7c-4936-bdd7-36f1796eb5f1  Reviews classification nuevo           2020-08-21T00:21:00.145Z  scikit-learn-0.22\n",
      "1c30d033-6d2d-484a-8365-d9c619501cdb  Reviews classification nuevo           2020-08-21T00:20:09.995Z  scikit-learn-0.22\n",
      "6487819a-b277-4f4e-98fb-e40d21ab2275  Reviews classification nuevo           2020-08-21T00:17:45.517Z  scikit-learn-0.22\n",
      "138be81c-a8a7-4387-8461-43f69d093297  Reviews classification nuevo           2020-08-21T00:16:19.084Z  scikit-learn-0.22\n",
      "3f1f9cea-c278-400f-8e67-b2b11708414d  Reviews classification nuevo           2020-08-21T00:13:06.284Z  scikit-learn-0.22\n",
      "7598ae3d-4d97-4845-91b9-c3693be173b6  Reviews classification nuevo           2020-08-21T00:02:06.499Z  scikit-learn-0.22\n",
      "1106d6ca-e975-4e27-b544-5ad1489cc768  Reviews classification nuevo           2020-08-19T23:49:22.683Z  scikit-learn-0.22\n",
      "c0efedf3-91a7-4330-98e9-cb9f2b83444c  Reviews classification nuevo           2020-08-19T23:30:21.121Z  scikit-learn-0.22\n",
      "------------------------------------  -------------------------------------  ------------------------  -----------------\n"
     ]
    }
   ],
   "source": [
    "models_details = client.repository.list_models()"
   ]
  },
  {
   "cell_type": "markdown",
   "metadata": {},
   "source": [
    "**8) Cargá** el modelo basado en su `uid` y utilizalo para realizar la predicción sobre el conjunto de test"
   ]
  },
  {
   "cell_type": "code",
   "execution_count": 16,
   "metadata": {},
   "outputs": [],
   "source": [
    "loaded_model = client.repository.load(published_model_uid)"
   ]
  },
  {
   "cell_type": "code",
   "execution_count": 17,
   "metadata": {},
   "outputs": [],
   "source": [
    "test_predictions = loaded_model.predict(X_test)"
   ]
  },
  {
   "cell_type": "markdown",
   "metadata": {},
   "source": [
    "**9) Mostrar** el `classification_report` obtenido"
   ]
  },
  {
   "cell_type": "code",
   "execution_count": 18,
   "metadata": {},
   "outputs": [
    {
     "name": "stdout",
     "output_type": "stream",
     "text": [
      "roc_auc score:  0.85\n",
      "              precision    recall  f1-score   support\n",
      "\n",
      "           0       0.87      0.82      0.85       200\n",
      "           1       0.83      0.88      0.85       200\n",
      "\n",
      "    accuracy                           0.85       400\n",
      "   macro avg       0.85      0.85      0.85       400\n",
      "weighted avg       0.85      0.85      0.85       400\n",
      "\n"
     ]
    }
   ],
   "source": [
    "from sklearn.metrics import roc_auc_score\n",
    "from sklearn.metrics import classification_report\n",
    "\n",
    "print(\"roc_auc score: \", roc_auc_score(y_test, test_predictions))\n",
    "print(classification_report(y_test, test_predictions))"
   ]
  }
 ],
 "metadata": {
  "kernelspec": {
   "display_name": "Python 3",
   "language": "python",
   "name": "python3"
  },
  "language_info": {
   "codemirror_mode": {
    "name": "ipython",
    "version": 3
   },
   "file_extension": ".py",
   "mimetype": "text/x-python",
   "name": "python",
   "nbconvert_exporter": "python",
   "pygments_lexer": "ipython3",
   "version": "3.7.4"
  }
 },
 "nbformat": 4,
 "nbformat_minor": 4
}

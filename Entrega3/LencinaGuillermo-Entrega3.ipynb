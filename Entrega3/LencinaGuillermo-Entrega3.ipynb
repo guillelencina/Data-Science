{
 "cells": [
  {
   "cell_type": "markdown",
   "metadata": {},
   "source": [
    "# Proyecto 3: Predicción de precios de propiedades"
   ]
  },
  {
   "cell_type": "markdown",
   "metadata": {},
   "source": [
    "¡Bienvenidos al tercer proyecto de la carrera de Data Science de Acamica! \n",
    "\n",
    "En este proyecto vamos a seguir trabajando con el dataset de propiedades en venta publicadas en el portal [Properati](www.properati.com.ar). El objetivo en este caso armar nuestros primeros modelos para predecir el precio de las propiedades en dólares.\n",
    "\n",
    "Las columnas que se agregan son:\n",
    "\n",
    "* `barrios_match`: si coincide el barrio publicado con el geográfico vale 1, si no 0.\n",
    "\n",
    "* `PH`, `apartment`, `house`: variables binarias que indican el tipo de propiedad.\n",
    "\n",
    "* dummies de barrios: variables binarias con 1 o 0 según el barrio.\n",
    "\n",
    "La métrica que vamos a usar para medir es RMSE (raíz del error cuadrático medio), cuya fórmula es:\n",
    "\n",
    "$$RMSE = \\sqrt{\\frac{\\sum_{t=1}^n (\\hat y_t - y_t)^2}{n}}$$"
   ]
  },
  {
   "cell_type": "code",
   "execution_count": 1,
   "metadata": {},
   "outputs": [],
   "source": [
    "import pandas as pd\n",
    "import numpy as np\n",
    "import seaborn as sns\n",
    "pd.set_option('display.float_format', lambda x: '%.3f' % x)\n",
    "path_dataset = 'dataset/datos_properati_limpios_model.csv'\n",
    "df = pd.read_csv(path_dataset)"
   ]
  },
  {
   "cell_type": "code",
   "execution_count": 2,
   "metadata": {},
   "outputs": [],
   "source": [
    "from sklearn.model_selection import train_test_split\n",
    "from sklearn.metrics import mean_squared_error"
   ]
  },
  {
   "cell_type": "code",
   "execution_count": 3,
   "metadata": {},
   "outputs": [
    {
     "name": "stdout",
     "output_type": "stream",
     "text": [
      "El dataset que vamos a trabajar aquí tiene 6376 observaciones\n"
     ]
    }
   ],
   "source": [
    "print(\"El dataset que vamos a trabajar aquí tiene {} observaciones\".format(df.shape[0]))"
   ]
  },
  {
   "cell_type": "code",
   "execution_count": 4,
   "metadata": {},
   "outputs": [
    {
     "data": {
      "text/html": [
       "<div>\n",
       "<style scoped>\n",
       "    .dataframe tbody tr th:only-of-type {\n",
       "        vertical-align: middle;\n",
       "    }\n",
       "\n",
       "    .dataframe tbody tr th {\n",
       "        vertical-align: top;\n",
       "    }\n",
       "\n",
       "    .dataframe thead th {\n",
       "        text-align: right;\n",
       "    }\n",
       "</style>\n",
       "<table border=\"1\" class=\"dataframe\">\n",
       "  <thead>\n",
       "    <tr style=\"text-align: right;\">\n",
       "      <th></th>\n",
       "      <th>lat</th>\n",
       "      <th>lon</th>\n",
       "      <th>price_aprox_usd</th>\n",
       "      <th>surface_total_in_m2</th>\n",
       "      <th>surface_covered_in_m2</th>\n",
       "      <th>rooms</th>\n",
       "      <th>barrio_match</th>\n",
       "      <th>PH</th>\n",
       "      <th>apartment</th>\n",
       "      <th>house</th>\n",
       "      <th>...</th>\n",
       "      <th>VILLA LUGANO</th>\n",
       "      <th>VILLA LURO</th>\n",
       "      <th>VILLA ORTUZAR</th>\n",
       "      <th>VILLA PUEYRREDON</th>\n",
       "      <th>VILLA REAL</th>\n",
       "      <th>VILLA RIACHUELO</th>\n",
       "      <th>VILLA SANTA RITA</th>\n",
       "      <th>VILLA SOLDATI</th>\n",
       "      <th>VILLA URQUIZA</th>\n",
       "      <th>outlier_price_m2</th>\n",
       "    </tr>\n",
       "  </thead>\n",
       "  <tbody>\n",
       "    <tr>\n",
       "      <td>0</td>\n",
       "      <td>-34.589</td>\n",
       "      <td>-58.417</td>\n",
       "      <td>170000.000</td>\n",
       "      <td>40.000</td>\n",
       "      <td>38.000</td>\n",
       "      <td>1</td>\n",
       "      <td>1</td>\n",
       "      <td>0</td>\n",
       "      <td>1</td>\n",
       "      <td>0</td>\n",
       "      <td>...</td>\n",
       "      <td>0</td>\n",
       "      <td>0</td>\n",
       "      <td>0</td>\n",
       "      <td>0</td>\n",
       "      <td>0</td>\n",
       "      <td>0</td>\n",
       "      <td>0</td>\n",
       "      <td>0</td>\n",
       "      <td>0</td>\n",
       "      <td>0</td>\n",
       "    </tr>\n",
       "    <tr>\n",
       "      <td>1</td>\n",
       "      <td>-34.591</td>\n",
       "      <td>-58.418</td>\n",
       "      <td>90000.000</td>\n",
       "      <td>27.000</td>\n",
       "      <td>27.000</td>\n",
       "      <td>1</td>\n",
       "      <td>1</td>\n",
       "      <td>0</td>\n",
       "      <td>1</td>\n",
       "      <td>0</td>\n",
       "      <td>...</td>\n",
       "      <td>0</td>\n",
       "      <td>0</td>\n",
       "      <td>0</td>\n",
       "      <td>0</td>\n",
       "      <td>0</td>\n",
       "      <td>0</td>\n",
       "      <td>0</td>\n",
       "      <td>0</td>\n",
       "      <td>0</td>\n",
       "      <td>0</td>\n",
       "    </tr>\n",
       "    <tr>\n",
       "      <td>2</td>\n",
       "      <td>-34.587</td>\n",
       "      <td>-58.437</td>\n",
       "      <td>150000.000</td>\n",
       "      <td>44.000</td>\n",
       "      <td>44.000</td>\n",
       "      <td>1</td>\n",
       "      <td>1</td>\n",
       "      <td>0</td>\n",
       "      <td>1</td>\n",
       "      <td>0</td>\n",
       "      <td>...</td>\n",
       "      <td>0</td>\n",
       "      <td>0</td>\n",
       "      <td>0</td>\n",
       "      <td>0</td>\n",
       "      <td>0</td>\n",
       "      <td>0</td>\n",
       "      <td>0</td>\n",
       "      <td>0</td>\n",
       "      <td>0</td>\n",
       "      <td>0</td>\n",
       "    </tr>\n",
       "    <tr>\n",
       "      <td>3</td>\n",
       "      <td>-34.593</td>\n",
       "      <td>-58.428</td>\n",
       "      <td>154000.000</td>\n",
       "      <td>58.000</td>\n",
       "      <td>58.000</td>\n",
       "      <td>2</td>\n",
       "      <td>1</td>\n",
       "      <td>1</td>\n",
       "      <td>0</td>\n",
       "      <td>0</td>\n",
       "      <td>...</td>\n",
       "      <td>0</td>\n",
       "      <td>0</td>\n",
       "      <td>0</td>\n",
       "      <td>0</td>\n",
       "      <td>0</td>\n",
       "      <td>0</td>\n",
       "      <td>0</td>\n",
       "      <td>0</td>\n",
       "      <td>0</td>\n",
       "      <td>0</td>\n",
       "    </tr>\n",
       "    <tr>\n",
       "      <td>4</td>\n",
       "      <td>-34.593</td>\n",
       "      <td>-58.428</td>\n",
       "      <td>154000.000</td>\n",
       "      <td>58.000</td>\n",
       "      <td>58.000</td>\n",
       "      <td>3</td>\n",
       "      <td>1</td>\n",
       "      <td>1</td>\n",
       "      <td>0</td>\n",
       "      <td>0</td>\n",
       "      <td>...</td>\n",
       "      <td>0</td>\n",
       "      <td>0</td>\n",
       "      <td>0</td>\n",
       "      <td>0</td>\n",
       "      <td>0</td>\n",
       "      <td>0</td>\n",
       "      <td>0</td>\n",
       "      <td>0</td>\n",
       "      <td>0</td>\n",
       "      <td>0</td>\n",
       "    </tr>\n",
       "  </tbody>\n",
       "</table>\n",
       "<p>5 rows × 59 columns</p>\n",
       "</div>"
      ],
      "text/plain": [
       "      lat     lon  price_aprox_usd  surface_total_in_m2  \\\n",
       "0 -34.589 -58.417       170000.000               40.000   \n",
       "1 -34.591 -58.418        90000.000               27.000   \n",
       "2 -34.587 -58.437       150000.000               44.000   \n",
       "3 -34.593 -58.428       154000.000               58.000   \n",
       "4 -34.593 -58.428       154000.000               58.000   \n",
       "\n",
       "   surface_covered_in_m2  rooms  barrio_match  PH  apartment  house  ...  \\\n",
       "0                 38.000      1             1   0          1      0  ...   \n",
       "1                 27.000      1             1   0          1      0  ...   \n",
       "2                 44.000      1             1   0          1      0  ...   \n",
       "3                 58.000      2             1   1          0      0  ...   \n",
       "4                 58.000      3             1   1          0      0  ...   \n",
       "\n",
       "   VILLA LUGANO  VILLA LURO  VILLA ORTUZAR  VILLA PUEYRREDON  VILLA REAL  \\\n",
       "0             0           0              0                 0           0   \n",
       "1             0           0              0                 0           0   \n",
       "2             0           0              0                 0           0   \n",
       "3             0           0              0                 0           0   \n",
       "4             0           0              0                 0           0   \n",
       "\n",
       "   VILLA RIACHUELO  VILLA SANTA RITA  VILLA SOLDATI  VILLA URQUIZA  \\\n",
       "0                0                 0              0              0   \n",
       "1                0                 0              0              0   \n",
       "2                0                 0              0              0   \n",
       "3                0                 0              0              0   \n",
       "4                0                 0              0              0   \n",
       "\n",
       "   outlier_price_m2  \n",
       "0                 0  \n",
       "1                 0  \n",
       "2                 0  \n",
       "3                 0  \n",
       "4                 0  \n",
       "\n",
       "[5 rows x 59 columns]"
      ]
     },
     "execution_count": 4,
     "metadata": {},
     "output_type": "execute_result"
    }
   ],
   "source": [
    "df.head(5)"
   ]
  },
  {
   "cell_type": "code",
   "execution_count": 5,
   "metadata": {},
   "outputs": [
    {
     "name": "stdout",
     "output_type": "stream",
     "text": [
      "<class 'pandas.core.frame.DataFrame'>\n",
      "RangeIndex: 6376 entries, 0 to 6375\n",
      "Data columns (total 59 columns):\n",
      "lat                      6376 non-null float64\n",
      "lon                      6376 non-null float64\n",
      "price_aprox_usd          6376 non-null float64\n",
      "surface_total_in_m2      6376 non-null float64\n",
      "surface_covered_in_m2    6376 non-null float64\n",
      "rooms                    6376 non-null int64\n",
      "barrio_match             6376 non-null int64\n",
      "PH                       6376 non-null int64\n",
      "apartment                6376 non-null int64\n",
      "house                    6376 non-null int64\n",
      "AGRONOMIA                6376 non-null int64\n",
      "ALMAGRO                  6376 non-null int64\n",
      "BALVANERA                6376 non-null int64\n",
      "BARRACAS                 6376 non-null int64\n",
      "BELGRANO                 6376 non-null int64\n",
      "BOCA                     6376 non-null int64\n",
      "BOEDO                    6376 non-null int64\n",
      "CABALLITO                6376 non-null int64\n",
      "CHACARITA                6376 non-null int64\n",
      "COGHLAN                  6376 non-null int64\n",
      "COLEGIALES               6376 non-null int64\n",
      "CONSTITUCION             6376 non-null int64\n",
      "FLORES                   6376 non-null int64\n",
      "FLORESTA                 6376 non-null int64\n",
      "LINIERS                  6376 non-null int64\n",
      "MATADEROS                6376 non-null int64\n",
      "MONSERRAT                6376 non-null int64\n",
      "MONTE CASTRO             6376 non-null int64\n",
      "NUEVA POMPEYA            6376 non-null int64\n",
      "NUEZ                     6376 non-null int64\n",
      "PALERMO                  6376 non-null int64\n",
      "PARQUE AVELLANEDA        6376 non-null int64\n",
      "PARQUE CHACABUCO         6376 non-null int64\n",
      "PARQUE CHAS              6376 non-null int64\n",
      "PARQUE PATRICIOS         6376 non-null int64\n",
      "PATERNAL                 6376 non-null int64\n",
      "PUERTO MADERO            6376 non-null int64\n",
      "RECOLETA                 6376 non-null int64\n",
      "RETIRO                   6376 non-null int64\n",
      "SAAVEDRA                 6376 non-null int64\n",
      "SAN CRISTOBAL            6376 non-null int64\n",
      "SAN NICOLAS              6376 non-null int64\n",
      "SAN TELMO                6376 non-null int64\n",
      "VELEZ SARSFIELD          6376 non-null int64\n",
      "VERSALLES                6376 non-null int64\n",
      "VILLA CRESPO             6376 non-null int64\n",
      "VILLA DEL PARQUE         6376 non-null int64\n",
      "VILLA DEVOTO             6376 non-null int64\n",
      "VILLA GRAL. MITRE        6376 non-null int64\n",
      "VILLA LUGANO             6376 non-null int64\n",
      "VILLA LURO               6376 non-null int64\n",
      "VILLA ORTUZAR            6376 non-null int64\n",
      "VILLA PUEYRREDON         6376 non-null int64\n",
      "VILLA REAL               6376 non-null int64\n",
      "VILLA RIACHUELO          6376 non-null int64\n",
      "VILLA SANTA RITA         6376 non-null int64\n",
      "VILLA SOLDATI            6376 non-null int64\n",
      "VILLA URQUIZA            6376 non-null int64\n",
      "outlier_price_m2         6376 non-null int64\n",
      "dtypes: float64(5), int64(54)\n",
      "memory usage: 2.9 MB\n"
     ]
    }
   ],
   "source": [
    "df.info()"
   ]
  },
  {
   "cell_type": "code",
   "execution_count": 6,
   "metadata": {},
   "outputs": [
    {
     "data": {
      "text/plain": [
       "array([0], dtype=int64)"
      ]
     },
     "execution_count": 6,
     "metadata": {},
     "output_type": "execute_result"
    }
   ],
   "source": [
    "df.outlier_price_m2.unique()"
   ]
  },
  {
   "cell_type": "markdown",
   "metadata": {},
   "source": [
    "El objetivo de este proyecto es poder trabajar en el ajuste de modelos y su posterior evaluación."
   ]
  },
  {
   "cell_type": "markdown",
   "metadata": {},
   "source": [
    "Para empezar vamos a separar el `dataset` en un conjunto de entrenamiento (80%) y un conjunto de test (20%). \n",
    "\n",
    "**Separá el dataset** en `X_train`, `X_test`, `y_train` e `y_test` con el tamaño correspondiente"
   ]
  },
  {
   "cell_type": "code",
   "execution_count": 7,
   "metadata": {},
   "outputs": [],
   "source": [
    "X = df.drop(['price_aprox_usd'], axis=1)\n",
    "y = df['price_aprox_usd']\n",
    "\n",
    "X_train, X_test, y_train, y_test = train_test_split(X,y,test_size = .2,random_state=42)\n"
   ]
  },
  {
   "cell_type": "markdown",
   "metadata": {},
   "source": [
    "## Árboles de decisión\n",
    "\n",
    "Lo primero que vamos a hacer es entrenar un árbol de decisión y usar de métrica al `RMSE`. \n",
    "\n",
    "Para poder obtener el **RMSE** vamos a medir el `mean_squared_error` y obtener su raíz cuadrada. \n",
    "\n",
    "**Importá** `DecisionTreeRegressor` desde `sklearn.tree`.  \n",
    "\n",
    "A continuación **entrená** el regresor con el conjunto de training\n"
   ]
  },
  {
   "cell_type": "code",
   "execution_count": 8,
   "metadata": {},
   "outputs": [],
   "source": [
    "from sklearn.tree import DecisionTreeRegressor\n",
    "reg_tree = DecisionTreeRegressor(criterion= 'mse',max_depth= 10,random_state=42)"
   ]
  },
  {
   "cell_type": "code",
   "execution_count": 9,
   "metadata": {},
   "outputs": [
    {
     "data": {
      "text/plain": [
       "DecisionTreeRegressor(criterion='mse', max_depth=10, max_features=None,\n",
       "                      max_leaf_nodes=None, min_impurity_decrease=0.0,\n",
       "                      min_impurity_split=None, min_samples_leaf=1,\n",
       "                      min_samples_split=2, min_weight_fraction_leaf=0.0,\n",
       "                      presort=False, random_state=42, splitter='best')"
      ]
     },
     "execution_count": 9,
     "metadata": {},
     "output_type": "execute_result"
    }
   ],
   "source": [
    "reg_tree.fit(X_train, y_train)"
   ]
  },
  {
   "cell_type": "markdown",
   "metadata": {},
   "source": [
    "Con el modelo entrenado **realizá la predicción** sobre el conjunto de test `X_test` y guardá el resultado en una variable `y_pred`."
   ]
  },
  {
   "cell_type": "code",
   "execution_count": 10,
   "metadata": {},
   "outputs": [],
   "source": [
    "y_pred = reg_tree.predict(X_test)"
   ]
  },
  {
   "cell_type": "markdown",
   "metadata": {},
   "source": [
    "**Calculá el rmse** sacando la raíz cuadrada de `mean_squared_error` entre `y_test` e `y_pred` y **mostrá** el resultado"
   ]
  },
  {
   "cell_type": "code",
   "execution_count": 11,
   "metadata": {},
   "outputs": [
    {
     "data": {
      "text/plain": [
       "21662.874855363592"
      ]
     },
     "execution_count": 11,
     "metadata": {},
     "output_type": "execute_result"
    }
   ],
   "source": [
    "rmse = np.sqrt(mean_squared_error(y_test,y_pred))\n",
    "rmse"
   ]
  },
  {
   "cell_type": "markdown",
   "metadata": {},
   "source": [
    "__Analizar el cambio en el RMSE a medida que es más profundo el árbol de decisión, tanto en training como en testing.__\n",
    "\n",
    "Para esto, **iterá** de 5 en 5 en el parámetro `max_depth` y **observá** como impacta en el RMSE. \n",
    "\n",
    "**Creá** dos arreglos `rmses_train` y `rmses_test` para ir guardando los **rmse** de cada profundidad"
   ]
  },
  {
   "cell_type": "code",
   "execution_count": 12,
   "metadata": {},
   "outputs": [
    {
     "data": {
      "text/plain": [
       "array([ 5, 10, 15, 20, 25, 30])"
      ]
     },
     "execution_count": 12,
     "metadata": {},
     "output_type": "execute_result"
    }
   ],
   "source": [
    "max_depth =np.arange(5,31,5)\n",
    "max_depth"
   ]
  },
  {
   "cell_type": "code",
   "execution_count": 13,
   "metadata": {},
   "outputs": [],
   "source": [
    "rmses_train= np.array([])\n",
    "rmses_test= np.array([])"
   ]
  },
  {
   "cell_type": "code",
   "execution_count": 14,
   "metadata": {},
   "outputs": [],
   "source": [
    "\n",
    "for m in max_depth:\n",
    "    reg_tree = DecisionTreeRegressor(criterion= 'mse',max_depth= m,random_state=42)\n",
    "    reg_tree.fit(X_train, y_train)\n",
    "    y_pred_test = reg_tree.predict(X_test)\n",
    "    y_pred_train = reg_tree.predict(X_train)\n",
    "    rmses_train=np.append(rmses_train,np.sqrt(mean_squared_error(y_pred_train,y_train)))\n",
    "    rmses_test=np.append(rmses_test,np.sqrt(mean_squared_error(y_pred_test,y_test)))    \n",
    "    "
   ]
  },
  {
   "cell_type": "code",
   "execution_count": 15,
   "metadata": {},
   "outputs": [
    {
     "data": {
      "text/plain": [
       "array([21170.40334493, 15507.09190668,  7915.29642886,  2468.99760832,\n",
       "         675.95526641,   526.33397195])"
      ]
     },
     "execution_count": 15,
     "metadata": {},
     "output_type": "execute_result"
    }
   ],
   "source": [
    "rmses_train"
   ]
  },
  {
   "cell_type": "code",
   "execution_count": 16,
   "metadata": {},
   "outputs": [
    {
     "data": {
      "text/plain": [
       "array([22247.8034523 , 21662.87485536, 24353.69304357, 25235.75970171,\n",
       "       24858.05632118, 25192.15785238])"
      ]
     },
     "execution_count": 16,
     "metadata": {},
     "output_type": "execute_result"
    }
   ],
   "source": [
    "rmses_test"
   ]
  },
  {
   "cell_type": "markdown",
   "metadata": {},
   "source": [
    "Ahora graficamos los valores que guardamos en los arreglos `rmses_train` y `rmses_test`"
   ]
  },
  {
   "cell_type": "code",
   "execution_count": 17,
   "metadata": {},
   "outputs": [
    {
     "data": {
      "image/png": "[encoded data removed]",
      "text/plain": [
       "<Figure size 576x432 with 1 Axes>"
      ]
     },
     "metadata": {
      "needs_background": "light"
     },
     "output_type": "display_data"
    }
   ],
   "source": [
    "import matplotlib.pyplot as plt\n",
    "#%matplotlib inline \n",
    "plt.rcParams['figure.figsize'] = (8,6)\n",
    "plt.plot(range(5,31, 5), rmses_train,'-,',marker = 'o', label='RMSE Training')\n",
    "plt.plot(range(5,31, 5), rmses_test,'-,',marker = 'o', label='RMSE Testing')\n",
    "plt.ylim((0, 30000))\n",
    "plt.legend(loc=\"best\")\n",
    "plt.title(\"RMSE Training vs RMSE Testing para árboles de decisión\")\n",
    "plt.ylabel('RMSE')\n",
    "plt.xlabel('Profundidad Arbol de Decisión')\n",
    "plt.show()\n"
   ]
  },
  {
   "cell_type": "markdown",
   "metadata": {},
   "source": [
    "Podemos ver aquí como el modelo presenta sobreajuste dado que a mayor complejidad (en este caso, mayor profundidad del árbol) más diferencia entre los resultados de training y testing. También observamos como la curva de testing decrece y luego vuelvo a crecer. El punto donde se minimiza está relacionado con el tradeoff entre sesgo y varianza que vamos a ver en la próxima unidad."
   ]
  },
  {
   "cell_type": "markdown",
   "metadata": {},
   "source": [
    "## KNN"
   ]
  },
  {
   "cell_type": "markdown",
   "metadata": {},
   "source": [
    "**Entrená un knn** y nuevamente medir el **rmse** en el conjunto de testing\n"
   ]
  },
  {
   "cell_type": "code",
   "execution_count": 18,
   "metadata": {},
   "outputs": [
    {
     "name": "stdout",
     "output_type": "stream",
     "text": [
      "Maximos: \n",
      " lat                        -34.536\n",
      "lon                        -58.353\n",
      "surface_total_in_m2     120000.000\n",
      "surface_covered_in_m2   120000.000\n",
      "rooms                        7.000\n",
      "barrio_match                 1.000\n",
      "PH                           1.000\n",
      "apartment                    1.000\n",
      "house                        1.000\n",
      "AGRONOMIA                    1.000\n",
      "ALMAGRO                      1.000\n",
      "BALVANERA                    1.000\n",
      "BARRACAS                     1.000\n",
      "BELGRANO                     1.000\n",
      "BOCA                         1.000\n",
      "BOEDO                        1.000\n",
      "CABALLITO                    1.000\n",
      "CHACARITA                    1.000\n",
      "COGHLAN                      1.000\n",
      "COLEGIALES                   1.000\n",
      "CONSTITUCION                 1.000\n",
      "FLORES                       1.000\n",
      "FLORESTA                     1.000\n",
      "LINIERS                      1.000\n",
      "MATADEROS                    1.000\n",
      "MONSERRAT                    1.000\n",
      "MONTE CASTRO                 1.000\n",
      "NUEVA POMPEYA                1.000\n",
      "NUEZ                         1.000\n",
      "PALERMO                      1.000\n",
      "PARQUE AVELLANEDA            1.000\n",
      "PARQUE CHACABUCO             1.000\n",
      "PARQUE CHAS                  1.000\n",
      "PARQUE PATRICIOS             1.000\n",
      "PATERNAL                     1.000\n",
      "PUERTO MADERO                1.000\n",
      "RECOLETA                     1.000\n",
      "RETIRO                       1.000\n",
      "SAAVEDRA                     1.000\n",
      "SAN CRISTOBAL                1.000\n",
      "SAN NICOLAS                  1.000\n",
      "SAN TELMO                    1.000\n",
      "VELEZ SARSFIELD              1.000\n",
      "VERSALLES                    1.000\n",
      "VILLA CRESPO                 1.000\n",
      "VILLA DEL PARQUE             1.000\n",
      "VILLA DEVOTO                 1.000\n",
      "VILLA GRAL. MITRE            1.000\n",
      "VILLA LUGANO                 1.000\n",
      "VILLA LURO                   1.000\n",
      "VILLA ORTUZAR                1.000\n",
      "VILLA PUEYRREDON             1.000\n",
      "VILLA REAL                   1.000\n",
      "VILLA RIACHUELO              1.000\n",
      "VILLA SANTA RITA             1.000\n",
      "VILLA SOLDATI                1.000\n",
      "VILLA URQUIZA                1.000\n",
      "outlier_price_m2             0.000\n",
      "dtype: float64 \n",
      " \n",
      " Mínimas: \n",
      " lat                     -34.695\n",
      "lon                     -58.529\n",
      "surface_total_in_m2       0.000\n",
      "surface_covered_in_m2     1.000\n",
      "rooms                     1.000\n",
      "barrio_match              0.000\n",
      "PH                        0.000\n",
      "apartment                 0.000\n",
      "house                     0.000\n",
      "AGRONOMIA                 0.000\n",
      "ALMAGRO                   0.000\n",
      "BALVANERA                 0.000\n",
      "BARRACAS                  0.000\n",
      "BELGRANO                  0.000\n",
      "BOCA                      0.000\n",
      "BOEDO                     0.000\n",
      "CABALLITO                 0.000\n",
      "CHACARITA                 0.000\n",
      "COGHLAN                   0.000\n",
      "COLEGIALES                0.000\n",
      "CONSTITUCION              0.000\n",
      "FLORES                    0.000\n",
      "FLORESTA                  0.000\n",
      "LINIERS                   0.000\n",
      "MATADEROS                 0.000\n",
      "MONSERRAT                 0.000\n",
      "MONTE CASTRO              0.000\n",
      "NUEVA POMPEYA             0.000\n",
      "NUEZ                      0.000\n",
      "PALERMO                   0.000\n",
      "PARQUE AVELLANEDA         0.000\n",
      "PARQUE CHACABUCO          0.000\n",
      "PARQUE CHAS               0.000\n",
      "PARQUE PATRICIOS          0.000\n",
      "PATERNAL                  0.000\n",
      "PUERTO MADERO             0.000\n",
      "RECOLETA                  0.000\n",
      "RETIRO                    0.000\n",
      "SAAVEDRA                  0.000\n",
      "SAN CRISTOBAL             0.000\n",
      "SAN NICOLAS               0.000\n",
      "SAN TELMO                 0.000\n",
      "VELEZ SARSFIELD           0.000\n",
      "VERSALLES                 0.000\n",
      "VILLA CRESPO              0.000\n",
      "VILLA DEL PARQUE          0.000\n",
      "VILLA DEVOTO              0.000\n",
      "VILLA GRAL. MITRE         0.000\n",
      "VILLA LUGANO              0.000\n",
      "VILLA LURO                0.000\n",
      "VILLA ORTUZAR             0.000\n",
      "VILLA PUEYRREDON          0.000\n",
      "VILLA REAL                0.000\n",
      "VILLA RIACHUELO           0.000\n",
      "VILLA SANTA RITA          0.000\n",
      "VILLA SOLDATI             0.000\n",
      "VILLA URQUIZA             0.000\n",
      "outlier_price_m2          0.000\n",
      "dtype: float64 \n",
      "\n",
      "Means: \n",
      " lat                     -34.605\n",
      "lon                     -58.438\n",
      "surface_total_in_m2      85.199\n",
      "surface_covered_in_m2    77.476\n",
      "rooms                     2.324\n",
      "barrio_match              0.687\n",
      "PH                        0.098\n",
      "apartment                 0.878\n",
      "house                     0.023\n",
      "AGRONOMIA                 0.004\n",
      "ALMAGRO                   0.060\n",
      "BALVANERA                 0.086\n",
      "BARRACAS                  0.013\n",
      "BELGRANO                  0.046\n",
      "BOCA                      0.016\n",
      "BOEDO                     0.015\n",
      "CABALLITO                 0.055\n",
      "CHACARITA                 0.011\n",
      "COGHLAN                   0.009\n",
      "COLEGIALES                0.016\n",
      "CONSTITUCION              0.023\n",
      "FLORES                    0.056\n",
      "FLORESTA                  0.017\n",
      "LINIERS                   0.016\n",
      "MATADEROS                 0.013\n",
      "MONSERRAT                 0.027\n",
      "MONTE CASTRO              0.013\n",
      "NUEVA POMPEYA             0.008\n",
      "NUEZ                      0.015\n",
      "PALERMO                   0.081\n",
      "PARQUE AVELLANEDA         0.009\n",
      "PARQUE CHACABUCO          0.013\n",
      "PARQUE CHAS               0.007\n",
      "PARQUE PATRICIOS          0.011\n",
      "PATERNAL                  0.008\n",
      "PUERTO MADERO             0.000\n",
      "RECOLETA                  0.050\n",
      "RETIRO                    0.020\n",
      "SAAVEDRA                  0.017\n",
      "SAN CRISTOBAL             0.021\n",
      "SAN NICOLAS               0.043\n",
      "SAN TELMO                 0.013\n",
      "VELEZ SARSFIELD           0.011\n",
      "VERSALLES                 0.005\n",
      "VILLA CRESPO              0.042\n",
      "VILLA DEL PARQUE          0.016\n",
      "VILLA DEVOTO              0.016\n",
      "VILLA GRAL. MITRE         0.013\n",
      "VILLA LUGANO              0.009\n",
      "VILLA LURO                0.012\n",
      "VILLA ORTUZAR             0.009\n",
      "VILLA PUEYRREDON          0.012\n",
      "VILLA REAL                0.004\n",
      "VILLA RIACHUELO           0.001\n",
      "VILLA SANTA RITA          0.008\n",
      "VILLA SOLDATI             0.001\n",
      "VILLA URQUIZA             0.029\n",
      "outlier_price_m2          0.000\n",
      "dtype: float64 \n",
      " \n",
      " Std: \n",
      " lat                        0.026\n",
      "lon                        0.041\n",
      "surface_total_in_m2     1683.611\n",
      "surface_covered_in_m2   1683.011\n",
      "rooms                      0.936\n",
      "barrio_match               0.464\n",
      "PH                         0.298\n",
      "apartment                  0.327\n",
      "house                      0.150\n",
      "AGRONOMIA                  0.061\n",
      "ALMAGRO                    0.237\n",
      "BALVANERA                  0.281\n",
      "BARRACAS                   0.112\n",
      "BELGRANO                   0.210\n",
      "BOCA                       0.124\n",
      "BOEDO                      0.120\n",
      "CABALLITO                  0.227\n",
      "CHACARITA                  0.102\n",
      "COGHLAN                    0.092\n",
      "COLEGIALES                 0.125\n",
      "CONSTITUCION               0.151\n",
      "FLORES                     0.231\n",
      "FLORESTA                   0.131\n",
      "LINIERS                    0.127\n",
      "MATADEROS                  0.113\n",
      "MONSERRAT                  0.161\n",
      "MONTE CASTRO               0.112\n",
      "NUEVA POMPEYA              0.087\n",
      "NUEZ                       0.120\n",
      "PALERMO                    0.273\n",
      "PARQUE AVELLANEDA          0.097\n",
      "PARQUE CHACABUCO           0.115\n",
      "PARQUE CHAS                0.083\n",
      "PARQUE PATRICIOS           0.102\n",
      "PATERNAL                   0.090\n",
      "PUERTO MADERO              0.020\n",
      "RECOLETA                   0.219\n",
      "RETIRO                     0.141\n",
      "SAAVEDRA                   0.130\n",
      "SAN CRISTOBAL              0.144\n",
      "SAN NICOLAS                0.204\n",
      "SAN TELMO                  0.113\n",
      "VELEZ SARSFIELD            0.106\n",
      "VERSALLES                  0.073\n",
      "VILLA CRESPO               0.201\n",
      "VILLA DEL PARQUE           0.125\n",
      "VILLA DEVOTO               0.127\n",
      "VILLA GRAL. MITRE          0.113\n",
      "VILLA LUGANO               0.095\n",
      "VILLA LURO                 0.108\n",
      "VILLA ORTUZAR              0.097\n",
      "VILLA PUEYRREDON           0.107\n",
      "VILLA REAL                 0.059\n",
      "VILLA RIACHUELO            0.037\n",
      "VILLA SANTA RITA           0.087\n",
      "VILLA SOLDATI              0.024\n",
      "VILLA URQUIZA              0.169\n",
      "outlier_price_m2           0.000\n",
      "dtype: float64\n"
     ]
    }
   ],
   "source": [
    "print('Maximos: \\n',pd.DataFrame(X_train).max(),'\\n \\n Mínimas: \\n',pd.DataFrame(X_train).min(),'\\n')\n",
    "print('Means: \\n',pd.DataFrame(X_train).mean(),'\\n \\n Std: \\n',pd.DataFrame(X_train).std())"
   ]
  },
  {
   "cell_type": "markdown",
   "metadata": {},
   "source": [
    "Lo ideal sería eliminar los outliers que aparecen. Hay propiedades con superficies nulas y otras con superficies muy grandes 120000m2 (12 hectareas!)"
   ]
  },
  {
   "cell_type": "code",
   "execution_count": 19,
   "metadata": {},
   "outputs": [],
   "source": [
    "from sklearn.preprocessing import StandardScaler\n",
    "scaler = StandardScaler()\n",
    "scaler.fit(X_train)\n",
    "X_train = scaler.transform(X_train)\n",
    "X_test = scaler.transform(X_test) "
   ]
  },
  {
   "cell_type": "code",
   "execution_count": 20,
   "metadata": {},
   "outputs": [
    {
     "name": "stdout",
     "output_type": "stream",
     "text": [
      "Maximos: \n",
      " 0     2.729\n",
      "1     2.060\n",
      "2    71.232\n",
      "3    71.262\n",
      "4     4.996\n",
      "5     0.676\n",
      "6     3.026\n",
      "7     0.372\n",
      "8     6.498\n",
      "9    16.353\n",
      "10    3.965\n",
      "11    3.254\n",
      "12    8.801\n",
      "13    4.550\n",
      "14    7.921\n",
      "15    8.185\n",
      "16    4.157\n",
      "17    9.667\n",
      "18   10.720\n",
      "19    7.872\n",
      "20    6.470\n",
      "21    4.088\n",
      "22    7.504\n",
      "23    7.775\n",
      "24    8.733\n",
      "25    6.042\n",
      "26    8.801\n",
      "27   11.392\n",
      "28    8.241\n",
      "29    3.369\n",
      "30   10.259\n",
      "31    8.602\n",
      "32   12.030\n",
      "33    9.667\n",
      "34   10.974\n",
      "35   50.488\n",
      "36    4.341\n",
      "37    6.965\n",
      "38    7.591\n",
      "39    6.799\n",
      "40    4.699\n",
      "41    8.733\n",
      "42    9.324\n",
      "43   13.707\n",
      "44    4.767\n",
      "45    7.872\n",
      "46    7.775\n",
      "47    8.733\n",
      "48   10.482\n",
      "49    9.165\n",
      "50   10.259\n",
      "51    9.243\n",
      "52   16.803\n",
      "53   26.974\n",
      "54   11.392\n",
      "55   41.219\n",
      "56    5.745\n",
      "57    0.000\n",
      "dtype: float64 \n",
      " \n",
      " Mínimas: \n",
      " 0    -3.498\n",
      "1    -2.226\n",
      "2    -0.051\n",
      "3    -0.045\n",
      "4    -1.414\n",
      "5    -1.480\n",
      "6    -0.330\n",
      "7    -2.688\n",
      "8    -0.154\n",
      "9    -0.061\n",
      "10   -0.252\n",
      "11   -0.307\n",
      "12   -0.114\n",
      "13   -0.220\n",
      "14   -0.126\n",
      "15   -0.122\n",
      "16   -0.241\n",
      "17   -0.103\n",
      "18   -0.093\n",
      "19   -0.127\n",
      "20   -0.155\n",
      "21   -0.245\n",
      "22   -0.133\n",
      "23   -0.129\n",
      "24   -0.115\n",
      "25   -0.166\n",
      "26   -0.114\n",
      "27   -0.088\n",
      "28   -0.121\n",
      "29   -0.297\n",
      "30   -0.097\n",
      "31   -0.116\n",
      "32   -0.083\n",
      "33   -0.103\n",
      "34   -0.091\n",
      "35   -0.020\n",
      "36   -0.230\n",
      "37   -0.144\n",
      "38   -0.132\n",
      "39   -0.147\n",
      "40   -0.213\n",
      "41   -0.115\n",
      "42   -0.107\n",
      "43   -0.073\n",
      "44   -0.210\n",
      "45   -0.127\n",
      "46   -0.129\n",
      "47   -0.115\n",
      "48   -0.095\n",
      "49   -0.109\n",
      "50   -0.097\n",
      "51   -0.108\n",
      "52   -0.060\n",
      "53   -0.037\n",
      "54   -0.088\n",
      "55   -0.024\n",
      "56   -0.174\n",
      "57    0.000\n",
      "dtype: float64 \n",
      "\n",
      "Means: \n",
      " 0     0.000\n",
      "1    -0.000\n",
      "2     0.000\n",
      "3     0.000\n",
      "4    -0.000\n",
      "5     0.000\n",
      "6     0.000\n",
      "7     0.000\n",
      "8     0.000\n",
      "9    -0.000\n",
      "10   -0.000\n",
      "11   -0.000\n",
      "12    0.000\n",
      "13    0.000\n",
      "14    0.000\n",
      "15    0.000\n",
      "16    0.000\n",
      "17    0.000\n",
      "18   -0.000\n",
      "19   -0.000\n",
      "20    0.000\n",
      "21   -0.000\n",
      "22   -0.000\n",
      "23    0.000\n",
      "24   -0.000\n",
      "25   -0.000\n",
      "26    0.000\n",
      "27    0.000\n",
      "28    0.000\n",
      "29   -0.000\n",
      "30   -0.000\n",
      "31    0.000\n",
      "32   -0.000\n",
      "33   -0.000\n",
      "34   -0.000\n",
      "35    0.000\n",
      "36    0.000\n",
      "37    0.000\n",
      "38   -0.000\n",
      "39   -0.000\n",
      "40   -0.000\n",
      "41   -0.000\n",
      "42    0.000\n",
      "43    0.000\n",
      "44    0.000\n",
      "45   -0.000\n",
      "46   -0.000\n",
      "47    0.000\n",
      "48    0.000\n",
      "49    0.000\n",
      "50   -0.000\n",
      "51    0.000\n",
      "52    0.000\n",
      "53    0.000\n",
      "54    0.000\n",
      "55   -0.000\n",
      "56   -0.000\n",
      "57    0.000\n",
      "dtype: float64 \n",
      " \n",
      " Std: \n",
      " 0    1.000\n",
      "1    1.000\n",
      "2    1.000\n",
      "3    1.000\n",
      "4    1.000\n",
      "5    1.000\n",
      "6    1.000\n",
      "7    1.000\n",
      "8    1.000\n",
      "9    1.000\n",
      "10   1.000\n",
      "11   1.000\n",
      "12   1.000\n",
      "13   1.000\n",
      "14   1.000\n",
      "15   1.000\n",
      "16   1.000\n",
      "17   1.000\n",
      "18   1.000\n",
      "19   1.000\n",
      "20   1.000\n",
      "21   1.000\n",
      "22   1.000\n",
      "23   1.000\n",
      "24   1.000\n",
      "25   1.000\n",
      "26   1.000\n",
      "27   1.000\n",
      "28   1.000\n",
      "29   1.000\n",
      "30   1.000\n",
      "31   1.000\n",
      "32   1.000\n",
      "33   1.000\n",
      "34   1.000\n",
      "35   1.000\n",
      "36   1.000\n",
      "37   1.000\n",
      "38   1.000\n",
      "39   1.000\n",
      "40   1.000\n",
      "41   1.000\n",
      "42   1.000\n",
      "43   1.000\n",
      "44   1.000\n",
      "45   1.000\n",
      "46   1.000\n",
      "47   1.000\n",
      "48   1.000\n",
      "49   1.000\n",
      "50   1.000\n",
      "51   1.000\n",
      "52   1.000\n",
      "53   1.000\n",
      "54   1.000\n",
      "55   1.000\n",
      "56   1.000\n",
      "57   0.000\n",
      "dtype: float64\n"
     ]
    }
   ],
   "source": [
    "print('Maximos: \\n',pd.DataFrame(X_train).max(),'\\n \\n Mínimas: \\n',pd.DataFrame(X_train).min(),'\\n')\n",
    "print('Means: \\n',pd.DataFrame(X_train).mean(),'\\n \\n Std: \\n',pd.DataFrame(X_train).std())"
   ]
  },
  {
   "cell_type": "code",
   "execution_count": 21,
   "metadata": {},
   "outputs": [],
   "source": [
    "from sklearn.neighbors import KNeighborsRegressor\n",
    "\n",
    "reg_knn = KNeighborsRegressor(n_neighbors=10 )\n",
    "reg_knn.fit(X_train,y_train)\n",
    "\n",
    "y_train_pred = reg_knn.predict(X_train)\n",
    "y_test_pred = reg_knn.predict(X_test)\n"
   ]
  },
  {
   "cell_type": "code",
   "execution_count": 22,
   "metadata": {},
   "outputs": [
    {
     "data": {
      "text/plain": [
       "28041.00013460877"
      ]
     },
     "execution_count": 22,
     "metadata": {},
     "output_type": "execute_result"
    }
   ],
   "source": [
    "knn_rmses_test=np.sqrt(mean_squared_error(y_test,y_test_pred))\n",
    "knn_rmses_test"
   ]
  },
  {
   "cell_type": "markdown",
   "metadata": {},
   "source": [
    "__Analizar el cambio en el RMSE a medida que consideramos más vecinos para KNN, tanto en training como en testing.__\n",
    "\n",
    "Para esto, **iterá** incrementando de a uno el parámetro `n_neighbors` y **observá** como impacta en el RMSE. \n",
    "\n",
    "**Creá** dos arreglos `rmses_train` y `rmses_test` para ir guardando los **rmse** de cada profundidad"
   ]
  },
  {
   "cell_type": "code",
   "execution_count": 23,
   "metadata": {},
   "outputs": [
    {
     "data": {
      "text/plain": [
       "array([ 1,  2,  3,  4,  5,  6,  7,  8,  9, 10, 11, 12, 13, 14, 15, 16, 17,\n",
       "       18, 19, 20, 21, 22, 23, 24, 25, 26, 27, 28, 29])"
      ]
     },
     "execution_count": 23,
     "metadata": {},
     "output_type": "execute_result"
    }
   ],
   "source": [
    "n_neighbors =np.arange(1,30,1)\n",
    "n_neighbors"
   ]
  },
  {
   "cell_type": "code",
   "execution_count": 24,
   "metadata": {},
   "outputs": [],
   "source": [
    "rmses_train= np.array([])\n",
    "rmses_test= np.array([])"
   ]
  },
  {
   "cell_type": "code",
   "execution_count": 25,
   "metadata": {},
   "outputs": [
    {
     "data": {
      "text/plain": [
       "array([], dtype=float64)"
      ]
     },
     "execution_count": 25,
     "metadata": {},
     "output_type": "execute_result"
    }
   ],
   "source": [
    "rmses_test"
   ]
  },
  {
   "cell_type": "code",
   "execution_count": 26,
   "metadata": {},
   "outputs": [],
   "source": [
    "for k in n_neighbors:\n",
    "    \n",
    "    reg_knn = KNeighborsRegressor(n_neighbors=k)\n",
    "    \n",
    "    # Entrenar el modelo\n",
    "    reg_knn.fit(X_train,y_train)\n",
    "    \n",
    "    # Predecir y evaluar sobre el set de entrenamiento\n",
    "    y_train_pred = reg_knn.predict(X_train)\n",
    "    rmses_train=np.append(rmses_train,np.sqrt(mean_squared_error(y_train,y_train_pred)))\n",
    "    \n",
    "    \n",
    "    # Predecir y evaluar sobre el set de evaluación\n",
    "    y_test_pred = reg_knn.predict(X_test)\n",
    "    rmses_test=np.append(rmses_test,np.sqrt(mean_squared_error(y_test,y_test_pred)))"
   ]
  },
  {
   "cell_type": "code",
   "execution_count": 27,
   "metadata": {},
   "outputs": [
    {
     "data": {
      "image/png": "[encoded data removed]",
      "text/plain": [
       "<Figure size 576x432 with 1 Axes>"
      ]
     },
     "metadata": {
      "needs_background": "light"
     },
     "output_type": "display_data"
    }
   ],
   "source": [
    "plt.rcParams['figure.figsize'] = (8,6)\n",
    "plt.plot(range(1,30, 1), rmses_train,'-,',marker = 'o', label='RMSE Training')\n",
    "plt.plot(range(1,30, 1), rmses_test,'-,',marker = 'o', label='RMSE Testing')\n",
    "plt.xlim((0, 30))\n",
    "plt.legend(loc=\"best\")\n",
    "plt.title(\"RMSE Training vs RMSE Testing para KNN\")\n",
    "plt.ylabel('RMSE')\n",
    "plt.xlabel('Cantidad de vecinos')\n",
    "plt.show()"
   ]
  },
  {
   "cell_type": "markdown",
   "metadata": {},
   "source": [
    "**Calcular el RMSE promedio del resultado de cross validation para un árbol de decisión. \n",
    "Como parámetros deberás usar:**\n",
    "- 10 folds\n",
    "- profundidad 5\n",
    "- scoring neg_mean_squared_error.\n",
    "\n",
    "El árbol de decisión guardalo en una variable llamada `regressor` para poder reutilizarla luego.\n",
    "\n",
    "Atención: `cross_validation_score` de `scikit-learn` usa la métrica `neg_mean_squared_error` (NMSE) en vez de `mean_square_error` (MSE). \n",
    "\n",
    "`NMSE` es lo mismo que `MSE` pero con un signo negativo. \n",
    "\n",
    "Como nosotros queremos obtener el `MSE` para calcular sobre él el `RMSE`, vamos a definir un método `nmsq2rmse` para hacer esa conversión de `NMSE` a `MSE`\n",
    "."
   ]
  },
  {
   "cell_type": "code",
   "execution_count": 28,
   "metadata": {},
   "outputs": [],
   "source": [
    "X = df.drop(['price_aprox_usd'], axis=1)\n",
    "y = df['price_aprox_usd']\n",
    "\n",
    "X_train, X_test, y_train, y_test = train_test_split(X,y,test_size = .2,random_state=42)\n"
   ]
  },
  {
   "cell_type": "code",
   "execution_count": 29,
   "metadata": {},
   "outputs": [],
   "source": [
    "regressor = DecisionTreeRegressor(criterion='mse' ,max_depth = 5,random_state=42)"
   ]
  },
  {
   "cell_type": "code",
   "execution_count": 30,
   "metadata": {},
   "outputs": [],
   "source": [
    "def nmsq2rmse(score):\n",
    "    return np.sqrt(-score)"
   ]
  },
  {
   "cell_type": "code",
   "execution_count": 31,
   "metadata": {},
   "outputs": [],
   "source": [
    "from sklearn.model_selection import cross_val_score\n",
    "\n",
    "score = cross_val_score(regressor, X_train, y_train,\n",
    "                             scoring=\"neg_mean_squared_error\", cv=10)"
   ]
  },
  {
   "cell_type": "code",
   "execution_count": 32,
   "metadata": {},
   "outputs": [
    {
     "data": {
      "text/plain": [
       "array([-4.55379022e+08, -4.47550255e+08, -5.15974353e+08, -4.65436915e+08,\n",
       "       -5.11563221e+08, -5.34552234e+08, -4.71181433e+08, -4.81852513e+08,\n",
       "       -4.49061048e+08, -4.99971258e+08])"
      ]
     },
     "execution_count": 32,
     "metadata": {},
     "output_type": "execute_result"
    }
   ],
   "source": [
    "score"
   ]
  },
  {
   "cell_type": "code",
   "execution_count": 33,
   "metadata": {},
   "outputs": [],
   "source": [
    "rmse = nmsq2rmse(score)"
   ]
  },
  {
   "cell_type": "code",
   "execution_count": 34,
   "metadata": {},
   "outputs": [
    {
     "data": {
      "text/plain": [
       "array([21339.61156931, 21155.38358516, 22715.06886388, 21573.98699767,\n",
       "       22617.76339868, 23120.38568626, 21706.71400993, 21951.1392186 ,\n",
       "       21191.06057582, 22360.03707658])"
      ]
     },
     "execution_count": 34,
     "metadata": {},
     "output_type": "execute_result"
    }
   ],
   "source": [
    "rmse"
   ]
  },
  {
   "cell_type": "code",
   "execution_count": 35,
   "metadata": {},
   "outputs": [],
   "source": [
    "RMSE_prom = rmse.mean()"
   ]
  },
  {
   "cell_type": "code",
   "execution_count": 36,
   "metadata": {},
   "outputs": [
    {
     "data": {
      "text/plain": [
       "21973.11509818715"
      ]
     },
     "execution_count": 36,
     "metadata": {},
     "output_type": "execute_result"
    }
   ],
   "source": [
    "RMSE_prom"
   ]
  },
  {
   "cell_type": "markdown",
   "metadata": {},
   "source": [
    "Para ver el resultado final, reentrenamos al regresor y mostramos en un dataframe la comparación entre los valores reales, los predichos y su diferencia "
   ]
  },
  {
   "cell_type": "code",
   "execution_count": 37,
   "metadata": {},
   "outputs": [],
   "source": [
    "regressor.fit(X_train, y_train)\n",
    "y_pred = regressor.predict(X_test)\n",
    "val_real = pd.Series(y_test.values)\n",
    "val_pred = pd.Series(y_pred)"
   ]
  },
  {
   "cell_type": "code",
   "execution_count": 38,
   "metadata": {},
   "outputs": [],
   "source": [
    "predicciones = pd.concat([val_real.rename('Valor real'),val_pred.rename('Valor Pred') ,abs(val_real-val_pred).rename('Dif(+/-)'),(abs(val_real-val_pred)/val_real*100).rename('error_porcentual')] ,  axis=1)"
   ]
  },
  {
   "cell_type": "code",
   "execution_count": 39,
   "metadata": {},
   "outputs": [
    {
     "data": {
      "text/html": [
       "<div>\n",
       "<style scoped>\n",
       "    .dataframe tbody tr th:only-of-type {\n",
       "        vertical-align: middle;\n",
       "    }\n",
       "\n",
       "    .dataframe tbody tr th {\n",
       "        vertical-align: top;\n",
       "    }\n",
       "\n",
       "    .dataframe thead th {\n",
       "        text-align: right;\n",
       "    }\n",
       "</style>\n",
       "<table border=\"1\" class=\"dataframe\">\n",
       "  <thead>\n",
       "    <tr style=\"text-align: right;\">\n",
       "      <th></th>\n",
       "      <th>Valor real</th>\n",
       "      <th>Valor Pred</th>\n",
       "      <th>Dif(+/-)</th>\n",
       "      <th>error_porcentual</th>\n",
       "    </tr>\n",
       "  </thead>\n",
       "  <tbody>\n",
       "    <tr>\n",
       "      <td>0</td>\n",
       "      <td>80000.000</td>\n",
       "      <td>108426.872</td>\n",
       "      <td>28426.872</td>\n",
       "      <td>35.534</td>\n",
       "    </tr>\n",
       "    <tr>\n",
       "      <td>1</td>\n",
       "      <td>128000.000</td>\n",
       "      <td>151372.531</td>\n",
       "      <td>23372.531</td>\n",
       "      <td>18.260</td>\n",
       "    </tr>\n",
       "    <tr>\n",
       "      <td>2</td>\n",
       "      <td>150000.000</td>\n",
       "      <td>151372.531</td>\n",
       "      <td>1372.531</td>\n",
       "      <td>0.915</td>\n",
       "    </tr>\n",
       "    <tr>\n",
       "      <td>3</td>\n",
       "      <td>85000.000</td>\n",
       "      <td>99219.122</td>\n",
       "      <td>14219.122</td>\n",
       "      <td>16.728</td>\n",
       "    </tr>\n",
       "    <tr>\n",
       "      <td>4</td>\n",
       "      <td>135000.000</td>\n",
       "      <td>130337.039</td>\n",
       "      <td>4662.961</td>\n",
       "      <td>3.454</td>\n",
       "    </tr>\n",
       "    <tr>\n",
       "      <td>5</td>\n",
       "      <td>135000.000</td>\n",
       "      <td>119967.914</td>\n",
       "      <td>15032.086</td>\n",
       "      <td>11.135</td>\n",
       "    </tr>\n",
       "    <tr>\n",
       "      <td>6</td>\n",
       "      <td>68000.000</td>\n",
       "      <td>87243.666</td>\n",
       "      <td>19243.666</td>\n",
       "      <td>28.300</td>\n",
       "    </tr>\n",
       "    <tr>\n",
       "      <td>7</td>\n",
       "      <td>110000.000</td>\n",
       "      <td>128379.238</td>\n",
       "      <td>18379.238</td>\n",
       "      <td>16.708</td>\n",
       "    </tr>\n",
       "    <tr>\n",
       "      <td>8</td>\n",
       "      <td>134000.000</td>\n",
       "      <td>154167.172</td>\n",
       "      <td>20167.172</td>\n",
       "      <td>15.050</td>\n",
       "    </tr>\n",
       "    <tr>\n",
       "      <td>9</td>\n",
       "      <td>110000.000</td>\n",
       "      <td>85248.777</td>\n",
       "      <td>24751.223</td>\n",
       "      <td>22.501</td>\n",
       "    </tr>\n",
       "  </tbody>\n",
       "</table>\n",
       "</div>"
      ],
      "text/plain": [
       "   Valor real  Valor Pred  Dif(+/-)  error_porcentual\n",
       "0   80000.000  108426.872 28426.872            35.534\n",
       "1  128000.000  151372.531 23372.531            18.260\n",
       "2  150000.000  151372.531  1372.531             0.915\n",
       "3   85000.000   99219.122 14219.122            16.728\n",
       "4  135000.000  130337.039  4662.961             3.454\n",
       "5  135000.000  119967.914 15032.086            11.135\n",
       "6   68000.000   87243.666 19243.666            28.300\n",
       "7  110000.000  128379.238 18379.238            16.708\n",
       "8  134000.000  154167.172 20167.172            15.050\n",
       "9  110000.000   85248.777 24751.223            22.501"
      ]
     },
     "execution_count": 39,
     "metadata": {},
     "output_type": "execute_result"
    }
   ],
   "source": [
    "predicciones.head(10)"
   ]
  },
  {
   "cell_type": "code",
   "execution_count": 40,
   "metadata": {},
   "outputs": [
    {
     "data": {
      "image/png": "[encoded data removed]",
      "text/plain": [
       "<Figure size 576x432 with 1 Axes>"
      ]
     },
     "metadata": {
      "needs_background": "light"
     },
     "output_type": "display_data"
    }
   ],
   "source": [
    "sns.distplot(predicciones['error_porcentual'],bins = 12)\n",
    "\n",
    "\n",
    "plt.title(\"Distribución de valores de error porcentual\")\n",
    "plt.ylabel('cantidad de valores')\n",
    "plt.xlabel('error porcentual')\n",
    "plt.show()"
   ]
  },
  {
   "cell_type": "code",
   "execution_count": null,
   "metadata": {},
   "outputs": [],
   "source": []
  }
 ],
 "metadata": {
  "kernelspec": {
   "display_name": "Python 3",
   "language": "python",
   "name": "python3"
  },
  "language_info": {
   "codemirror_mode": {
    "name": "ipython",
    "version": 3
   },
   "file_extension": ".py",
   "mimetype": "text/x-python",
   "name": "python",
   "nbconvert_exporter": "python",
   "pygments_lexer": "ipython3",
   "version": "3.7.4"
  }
 },
 "nbformat": 4,
 "nbformat_minor": 4
}
